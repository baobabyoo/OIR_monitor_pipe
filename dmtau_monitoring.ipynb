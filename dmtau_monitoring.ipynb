{
 "cells": [
  {
   "cell_type": "markdown",
   "metadata": {},
   "source": [
    "# Making Plots from Original images"
   ]
  },
  {
   "cell_type": "code",
   "execution_count": 1,
   "metadata": {},
   "outputs": [],
   "source": [
    "#### Conda environment\n",
    "# conda create --name terada2019 python=3.7\n",
    "# pip install --upgrade pip\n",
    "# pip install astropy scipy\n",
    "# pip install photutils\n",
    "# pip install jupyter matplotlib h5py aplpy pyregion PyAVM healpy"
   ]
  },
  {
   "cell_type": "code",
   "execution_count": 2,
   "metadata": {},
   "outputs": [],
   "source": [
    "import os\n",
    "import sys\n",
    "import time\n",
    "sys.path\n",
    "sys.path.append('./')\n",
    "\n",
    "import numpy as np\n",
    "from astropy.stats import mad_std\n",
    "\n",
    "from photutils import datasets\n",
    "from photutils import DAOStarFinder\n",
    "from photutils import aperture_photometry, CircularAperture\n",
    "\n",
    "import aplpy\n",
    "from astropy.io.fits import getdata\n",
    "from astropy import wcs\n",
    "from astropy.io import fits\n",
    "from astropy import units as u\n",
    "from astropy import constants as con\n",
    "from astropy.coordinates import SkyCoord\n",
    "from mpl_toolkits.axes_grid1.inset_locator import zoomed_inset_axes\n",
    "from mpl_toolkits.axes_grid1.inset_locator import mark_inset\n",
    "\n",
    "import matplotlib\n",
    "matplotlib.use('PDF')\n",
    "import matplotlib.pyplot as plt\n",
    "from matplotlib.colors import BoundaryNorm\n",
    "from matplotlib.ticker import MaxNLocator\n",
    "# %matplotlib inline"
   ]
  },
  {
   "cell_type": "markdown",
   "metadata": {},
   "source": [
    "#### Format of marker file:\n",
    "\n",
    "name, ra_h ra_m ra_s dec_d dec_m dec_s  R:0-1 G:0-1 B:0-1 alpha  size\n",
    "\n",
    "dm_tau  04 33 48.7335659850  +18 10 09.974471722  1 0.2 0.2 1.0 2.0"
   ]
  },
  {
   "cell_type": "markdown",
   "metadata": {},
   "source": [
    "## Defining a aperture photometry pipeline class"
   ]
  },
  {
   "cell_type": "code",
   "execution_count": 5,
   "metadata": {},
   "outputs": [],
   "source": [
    "class marker:\n",
    "    '''\n",
    "    Class for marker objects\n",
    "    '''\n",
    "    \n",
    "    def __init__(self, label='unknown_marker'):\n",
    "        self.label = label\n",
    "        self.ra  = 0.0\n",
    "        self.dec  = 0.0\n",
    "        self.color = (0,0,0)\n",
    "        self.alpha = 1.0\n",
    "        self.size  = 1.0\n",
    "    \n",
    "    def __del__(self):\n",
    "        pass\n",
    "        \n",
    "\n",
    "class apt_pipe:\n",
    "    '''\n",
    "    Class for apeture photometry pipeline.\n",
    "    \n",
    "    History:\n",
    "    1. Basic version developed.  (Baobab Liu, 2019, Dec.07)\n",
    "    \n",
    "    2 Required Conda enviornment:\n",
    "    # conda create --name terada2019 python=3.7\n",
    "    # pip install --upgrade pip\n",
    "    # pip install astropy scipy\n",
    "    # pip install photutils\n",
    "    # pip install jupyter matplotlib h5py aplpy pyregion PyAVM healpy\n",
    "    \n",
    "    '''\n",
    "\n",
    "    \n",
    "    def __init__(self, data_path = './',\n",
    "                 markerfile   = './markers.txt',\n",
    "                 ascii_report = './ascii_report.txt',\n",
    "                 verbose      = False\n",
    "                ):\n",
    "        '''\n",
    "        Initializer of the class.\n",
    "        It first load image names from the FITS image directory.\n",
    "        Then it checks the integrity of the FITS image headers,\n",
    "        and dump report to an ASCII file.\n",
    "        Finally, it loads the coordinate of the markerfile if any.\n",
    "        \n",
    "        Keywords:\n",
    "        \n",
    "        data_path [string]    :\n",
    "        \n",
    "        markerfile [string]   :\n",
    "        \n",
    "        ascii_report [string] :\n",
    "        \n",
    "        verbose   [True]      : Verbosely dump the status of the data.\n",
    "        \n",
    "        '''\n",
    "        \n",
    "        self.data_path  = data_path\n",
    "        self.markerfile = markerfile\n",
    "        self.verbose    = verbose\n",
    "        self.num_images = 0\n",
    "        self.num_markers = 0\n",
    "        \n",
    "        # initialize variables\n",
    "        os.system('rm -rf ' + ascii_report)\n",
    "        F_report = open(\"ascii_report.txt\",\"w+\")  \n",
    "        self.filterlist    = []\n",
    "        self.band_dict     = {}\n",
    "        self.date_dict     = {}\n",
    "        self.jd_dict       = {}\n",
    "        self.marker_list   = []\n",
    "        \n",
    "        # load image names\n",
    "        try:\n",
    "            self.images = os.listdir( data_path )\n",
    "            self.num_images  = len(self.images)\n",
    "            if ( verbose == True ):\n",
    "                print('##############################################################')\n",
    "                print('Processing ' + str(self.num_images).strip() + ' images from ' + \\\n",
    "                      data_path)\n",
    "                print('##############################################################')\n",
    "        except:\n",
    "            print('No image found')\n",
    "            \n",
    "            \n",
    "        # checking integrity of FITS headers\n",
    "        F_report.write('FITS header integrity: \\n')\n",
    "        for i in range(0, self.num_images):\n",
    "            \n",
    "            image_name = self.images[i]\n",
    "            hdulist = fits.open(data_path + '/' + image_name)\n",
    "            try:\n",
    "                crval1 = hdulist[0].header['crval1']\n",
    "                crval2 = hdulist[0].header['crval2']\n",
    "            except:\n",
    "                if (verbose == True ):\n",
    "                    print('Warning, coordinate header of ' + image_name + ' does not exist.')\n",
    "                F_report.write( image_name + ' has no coordinate header \\n' )\n",
    "                continue\n",
    "                \n",
    "            try:\n",
    "                date   = hdulist[0].header['date-obs']\n",
    "                jd     = hdulist[0].header['jd']\n",
    "                self.date_dict[image_name] = date\n",
    "                self.jd_dict[image_name]  = jd\n",
    "            except:\n",
    "                if (verbose == True ):\n",
    "                    print('Warning. Observing date of ' + image_name + ' is not known.')\n",
    "                F_report.write( image_name + ' has no observing time information \\n' )\n",
    "                continue\n",
    "                \n",
    "            try:\n",
    "                band   = hdulist[0].header['filter']\n",
    "                if (band not in self.filterlist):\n",
    "                    self.filterlist.append(band)\n",
    "                self.band_dict[image_name] = band\n",
    "            except:\n",
    "                if (verbose == True ):\n",
    "                    print('Warning. Filter name of ' + image_name + ' does not exist.')\n",
    "                F_report.write( image_name + ' has unknown filter band. \\n' )\n",
    "                continue\n",
    "                \n",
    "        F_report.write('\\n')\n",
    "        \n",
    "        # load markers if there is\n",
    "        try:\n",
    "            marker_label     = np.loadtxt(markerfile, comments='#', skiprows=0, usecols=0, dtype=np.str)\n",
    "            rah              = np.loadtxt(markerfile, comments='#', skiprows=0, usecols=1 )\n",
    "            ram              = np.loadtxt(markerfile, comments='#', skiprows=0, usecols=2 )\n",
    "            ras              = np.loadtxt(markerfile, comments='#', skiprows=0, usecols=3 )\n",
    "            decd             = np.loadtxt(markerfile, comments='#', skiprows=0, usecols=4 )\n",
    "            decm             = np.loadtxt(markerfile, comments='#', skiprows=0, usecols=5 )\n",
    "            decs             = np.loadtxt(markerfile, comments='#', skiprows=0, usecols=6 )\n",
    "            markerR          = np.loadtxt(markerfile, comments='#', skiprows=0, usecols=7 )\n",
    "            markerG          = np.loadtxt(markerfile, comments='#', skiprows=0, usecols=8 )\n",
    "            markerB          = np.loadtxt(markerfile, comments='#', skiprows=0, usecols=9 )\n",
    "            marker_alpha     = np.loadtxt(markerfile, comments='#', skiprows=0, usecols=10)\n",
    "            marker_size      = np.loadtxt(markerfile, comments='#', skiprows=0, usecols=11)\n",
    "                        \n",
    "            ra  = ( rah + ram / 60.0 + ras / 3600.0 ) * 15.0\n",
    "            dec_sign = np.where( (decd>0), 1.0, -1.0)\n",
    "            dec      = decd + dec_sign * decm / 60.0 + dec_sign * decs / 3600.0\n",
    "                \n",
    "            self.num_markers = np.size(ra)\n",
    "            if (verbose == True):\n",
    "                print('Number of markers : ' + str(self.num_markers).strip() )\n",
    "                \n",
    "            # loading to marker objects\n",
    "            for mid in range(0, self.num_markers):\n",
    "                if (self.num_markers > 1):\n",
    "                    temp_marker       = marker(label=marker_label[mid])\n",
    "                    temp_marker.ra    = ra[mid] \n",
    "                    temp_marker.dec   = dec[mid]\n",
    "                    temp_marker.color = (markerR[mid], markerG[mid], markerB[mid])\n",
    "                    temp_marker.alpha = (marker_alpha[mid])\n",
    "                    temp_marker.size  = (marker_size[mid])\n",
    "                    self.marker_list.append(temp_marker)\n",
    "                else:\n",
    "                    temp_marker       = marker(label=marker_label)\n",
    "                    temp_marker.ra    = ra\n",
    "                    temp_marker.dec   = dec\n",
    "                    temp_marker.color = (markerR, markerG, markerB)\n",
    "                    temp_marker.alpha = (marker_alpha)\n",
    "                    temp_marker.size  = (marker_size)\n",
    "                    self.marker_list.append(temp_marker)\n",
    "            \n",
    "        except:\n",
    "            if (verbose == True):\n",
    "                print('No markers loaded')\n",
    "\n",
    "        # Dumping more information ot the report\n",
    "        # filters\n",
    "        F_report.write('Used filters: \\n')\n",
    "        outstring = ' '\n",
    "        for tempstr in self.filterlist:\n",
    "            outstring = outstring + tempstr + ' '\n",
    "        F_report.write(outstring + '\\n')\n",
    "        \n",
    "        F_report.close()\n",
    "\n",
    "        \n",
    "        \n",
    "    def __del__(self):\n",
    "        pass\n",
    "    \n",
    "    \n",
    "    \n",
    "    def plot_preview(self, output_directory='./preview_images',\n",
    "                     label_marker=True,\n",
    "                     fig_format='png'\n",
    "                    ):\n",
    "        '''\n",
    "        Function to plot the preview figures for FITS imagfes.\n",
    "        \n",
    "        \n",
    "        Keywords:\n",
    "        \n",
    "        label_marker [True/False] : If True, label the names of the markers on the figure.\n",
    "        \n",
    "        fig_format   [string]     : 'png' or 'pdf'\n",
    "        '''\n",
    "        \n",
    "        os.system('rm -rf ' + output_directory)\n",
    "        os.system('mkdir '  + output_directory)\n",
    "        \n",
    "        output_path_dict = {}\n",
    "        for tempstr in self.filterlist:\n",
    "            output_path_dict[tempstr] = './' + tempstr + 'band_maps'\n",
    "            \n",
    "        for key in output_path_dict.keys():\n",
    "            os.system('rm -rf ' + output_path_dict[key] )\n",
    "            os.system('mkdir '  + output_path_dict[key] )\n",
    "            \n",
    "        # plot images\n",
    "        for i in range(0, self.num_images):\n",
    "            \n",
    "            image_name = self.images[i]\n",
    "            try:\n",
    "                band       = self.band_dict[image_name]\n",
    "                jd         = self.jd_dict[image_name]\n",
    "            except:\n",
    "                continue\n",
    "            \n",
    "            # plot image\n",
    "            fig = aplpy.FITSFigure(self.data_path + '/' + image_name)\n",
    "            fig.show_grayscale(invert=False)\n",
    "            \n",
    "            # plot symbol\n",
    "            \n",
    "            # define output figure name\n",
    "            try:\n",
    "                outfig_name = \\\n",
    "                              band + '_' + \\\n",
    "                              str( round(jd,2) ) + '.' + fig_format\n",
    "                # fig.set_xaxis_coord_type('longitude')\n",
    "                # fig.set_yaxis_coord_type('latitude')\n",
    "                fig.axis_labels.hide()\n",
    "                fig.show_grayscale(invert=False)                \n",
    "            except:\n",
    "                if (self.verbose == True):\n",
    "                    print('Warning. Image ' +  image_name + 'is not save.' )\n",
    "                    \n",
    "            # plot markers\n",
    "            for marker in self.marker_list:\n",
    "                # plot markers in the png figure\n",
    "                fig.show_markers(\n",
    "                                 marker.ra, marker.dec, \n",
    "                                 edgecolor=marker.color, \n",
    "                                 # facecolor=facecolor[plot_id],\n",
    "                                 marker='o', s=marker.size, \n",
    "                                 alpha=marker.alpha\n",
    "                                )\n",
    "                \n",
    "                if (label_marker == True):\n",
    "                    label = marker.label\n",
    "                else:\n",
    "                    label = ' '\n",
    "                    \n",
    "                fig.add_label(marker.ra, marker.dec, '  ' + label, \n",
    "                              color=marker.color, fontsize=12, horizontalalignment='left')\n",
    "                \n",
    "            # label date\n",
    "            try:\n",
    "                date = self.date_dict[image_name].strip()\n",
    "            except:\n",
    "                date = 'unknown_date'\n",
    "                \n",
    "            date_label = 'Date : ' + date + '  JD : ' \\\n",
    "                         +  str(jd).strip()                    \\\n",
    "                         + '   Band : ' + band  \n",
    "            fig.add_label(0.02, 0.95, date_label, relative=True, \n",
    "                         color=(0,1,1,1),\n",
    "                         fontsize=9, horizontalalignment='left')\n",
    "                    \n",
    "            fig.axis_labels.hide()\n",
    "            fig.save(outfig_name)    \n",
    "            os.system('mv ' + outfig_name + ' ' + output_path_dict[band] )\n",
    "            \n",
    "        # pack output maps to be under the same directory\n",
    "        for key in output_path_dict.keys():\n",
    "            os.system('mv ' + output_path_dict[key] + ' ./' +  output_directory)    "
   ]
  },
  {
   "cell_type": "code",
   "execution_count": 6,
   "metadata": {},
   "outputs": [
    {
     "name": "stdout",
     "output_type": "stream",
     "text": [
      "##############################################################\n",
      "Processing 78 images from ../3488473-dm tau\n",
      "##############################################################\n",
      "Warning, coordinate header of dm tau_3488473_I_047.fits does not exist.\n",
      "Number of markers : 2\n",
      "INFO: Auto-setting vmin to  7.727e+02 [aplpy.core]\n",
      "INFO: Auto-setting vmax to  1.084e+03 [aplpy.core]\n",
      "INFO: Auto-setting vmin to  7.588e+02 [aplpy.core]\n",
      "INFO: Auto-setting vmax to  1.241e+03 [aplpy.core]\n"
     ]
    },
    {
     "name": "stderr",
     "output_type": "stream",
     "text": [
      "/home/hyliu/.conda/envs/terada2019/lib/python3.7/site-packages/aplpy/core.py:249: RuntimeWarning: More than 20 figures have been opened. Figures created through the pyplot interface (`matplotlib.pyplot.figure`) are retained until explicitly closed and may consume too much memory. (To control this warning, see the rcParam `figure.max_open_warning`).\n",
      "  self._figure = plt.figure(**kwargs)\n",
      "/home/hyliu/.conda/envs/terada2019/lib/python3.7/site-packages/aplpy/core.py:249: RuntimeWarning: More than 20 figures have been opened. Figures created through the pyplot interface (`matplotlib.pyplot.figure`) are retained until explicitly closed and may consume too much memory. (To control this warning, see the rcParam `figure.max_open_warning`).\n",
      "  self._figure = plt.figure(**kwargs)\n"
     ]
    },
    {
     "name": "stdout",
     "output_type": "stream",
     "text": [
      "INFO: Auto-setting vmin to  1.762e+03 [aplpy.core]\n",
      "INFO: Auto-setting vmax to  2.737e+03 [aplpy.core]\n",
      "INFO: Auto-setting vmin to  1.771e+03 [aplpy.core]\n",
      "INFO: Auto-setting vmax to  2.713e+03 [aplpy.core]\n"
     ]
    },
    {
     "name": "stderr",
     "output_type": "stream",
     "text": [
      "/home/hyliu/.conda/envs/terada2019/lib/python3.7/site-packages/aplpy/core.py:249: RuntimeWarning: More than 20 figures have been opened. Figures created through the pyplot interface (`matplotlib.pyplot.figure`) are retained until explicitly closed and may consume too much memory. (To control this warning, see the rcParam `figure.max_open_warning`).\n",
      "  self._figure = plt.figure(**kwargs)\n"
     ]
    },
    {
     "name": "stdout",
     "output_type": "stream",
     "text": [
      "INFO: Auto-setting vmin to  2.961e+01 [aplpy.core]\n",
      "INFO: Auto-setting vmax to  4.406e+02 [aplpy.core]\n",
      "INFO: Auto-setting vmin to  3.727e+01 [aplpy.core]\n",
      "INFO: Auto-setting vmax to  3.471e+02 [aplpy.core]\n"
     ]
    },
    {
     "name": "stderr",
     "output_type": "stream",
     "text": [
      "/home/hyliu/.conda/envs/terada2019/lib/python3.7/site-packages/aplpy/core.py:249: RuntimeWarning: More than 20 figures have been opened. Figures created through the pyplot interface (`matplotlib.pyplot.figure`) are retained until explicitly closed and may consume too much memory. (To control this warning, see the rcParam `figure.max_open_warning`).\n",
      "  self._figure = plt.figure(**kwargs)\n"
     ]
    },
    {
     "name": "stdout",
     "output_type": "stream",
     "text": [
      "INFO: Auto-setting vmin to  2.484e+03 [aplpy.core]\n",
      "INFO: Auto-setting vmax to  3.692e+03 [aplpy.core]\n",
      "INFO: Auto-setting vmin to  2.498e+03 [aplpy.core]\n",
      "INFO: Auto-setting vmax to  3.501e+03 [aplpy.core]\n"
     ]
    },
    {
     "name": "stderr",
     "output_type": "stream",
     "text": [
      "/home/hyliu/.conda/envs/terada2019/lib/python3.7/site-packages/aplpy/core.py:249: RuntimeWarning: More than 20 figures have been opened. Figures created through the pyplot interface (`matplotlib.pyplot.figure`) are retained until explicitly closed and may consume too much memory. (To control this warning, see the rcParam `figure.max_open_warning`).\n",
      "  self._figure = plt.figure(**kwargs)\n"
     ]
    },
    {
     "name": "stdout",
     "output_type": "stream",
     "text": [
      "INFO: Auto-setting vmin to  9.390e+02 [aplpy.core]\n",
      "INFO: Auto-setting vmax to  1.617e+03 [aplpy.core]\n",
      "INFO: Auto-setting vmin to  9.339e+02 [aplpy.core]\n",
      "INFO: Auto-setting vmax to  1.697e+03 [aplpy.core]\n"
     ]
    },
    {
     "name": "stderr",
     "output_type": "stream",
     "text": [
      "/home/hyliu/.conda/envs/terada2019/lib/python3.7/site-packages/aplpy/core.py:249: RuntimeWarning: More than 20 figures have been opened. Figures created through the pyplot interface (`matplotlib.pyplot.figure`) are retained until explicitly closed and may consume too much memory. (To control this warning, see the rcParam `figure.max_open_warning`).\n",
      "  self._figure = plt.figure(**kwargs)\n"
     ]
    },
    {
     "name": "stdout",
     "output_type": "stream",
     "text": [
      "INFO: Auto-setting vmin to  1.129e+03 [aplpy.core]\n",
      "INFO: Auto-setting vmax to  1.742e+03 [aplpy.core]\n",
      "INFO: Auto-setting vmin to  1.121e+03 [aplpy.core]\n",
      "INFO: Auto-setting vmax to  1.848e+03 [aplpy.core]\n"
     ]
    },
    {
     "name": "stderr",
     "output_type": "stream",
     "text": [
      "/home/hyliu/.conda/envs/terada2019/lib/python3.7/site-packages/aplpy/core.py:249: RuntimeWarning: More than 20 figures have been opened. Figures created through the pyplot interface (`matplotlib.pyplot.figure`) are retained until explicitly closed and may consume too much memory. (To control this warning, see the rcParam `figure.max_open_warning`).\n",
      "  self._figure = plt.figure(**kwargs)\n"
     ]
    },
    {
     "name": "stdout",
     "output_type": "stream",
     "text": [
      "INFO: Auto-setting vmin to  2.601e+03 [aplpy.core]\n",
      "INFO: Auto-setting vmax to  3.755e+03 [aplpy.core]\n",
      "INFO: Auto-setting vmin to  2.599e+03 [aplpy.core]\n",
      "INFO: Auto-setting vmax to  3.755e+03 [aplpy.core]\n"
     ]
    },
    {
     "name": "stderr",
     "output_type": "stream",
     "text": [
      "/home/hyliu/.conda/envs/terada2019/lib/python3.7/site-packages/aplpy/core.py:249: RuntimeWarning: More than 20 figures have been opened. Figures created through the pyplot interface (`matplotlib.pyplot.figure`) are retained until explicitly closed and may consume too much memory. (To control this warning, see the rcParam `figure.max_open_warning`).\n",
      "  self._figure = plt.figure(**kwargs)\n"
     ]
    },
    {
     "name": "stdout",
     "output_type": "stream",
     "text": [
      "INFO: Auto-setting vmin to  9.959e+02 [aplpy.core]\n",
      "INFO: Auto-setting vmax to  1.772e+03 [aplpy.core]\n",
      "INFO: Auto-setting vmin to  9.697e+02 [aplpy.core]\n",
      "INFO: Auto-setting vmax to  2.026e+03 [aplpy.core]\n"
     ]
    },
    {
     "name": "stderr",
     "output_type": "stream",
     "text": [
      "/home/hyliu/.conda/envs/terada2019/lib/python3.7/site-packages/aplpy/core.py:249: RuntimeWarning: More than 20 figures have been opened. Figures created through the pyplot interface (`matplotlib.pyplot.figure`) are retained until explicitly closed and may consume too much memory. (To control this warning, see the rcParam `figure.max_open_warning`).\n",
      "  self._figure = plt.figure(**kwargs)\n"
     ]
    },
    {
     "name": "stdout",
     "output_type": "stream",
     "text": [
      "INFO: Auto-setting vmin to  1.352e+03 [aplpy.core]\n",
      "INFO: Auto-setting vmax to  2.274e+03 [aplpy.core]\n",
      "INFO: Auto-setting vmin to  1.360e+03 [aplpy.core]\n",
      "INFO: Auto-setting vmax to  2.099e+03 [aplpy.core]\n"
     ]
    },
    {
     "name": "stderr",
     "output_type": "stream",
     "text": [
      "/home/hyliu/.conda/envs/terada2019/lib/python3.7/site-packages/aplpy/core.py:249: RuntimeWarning: More than 20 figures have been opened. Figures created through the pyplot interface (`matplotlib.pyplot.figure`) are retained until explicitly closed and may consume too much memory. (To control this warning, see the rcParam `figure.max_open_warning`).\n",
      "  self._figure = plt.figure(**kwargs)\n"
     ]
    },
    {
     "name": "stdout",
     "output_type": "stream",
     "text": [
      "INFO: Auto-setting vmin to  9.817e+02 [aplpy.core]\n",
      "INFO: Auto-setting vmax to  1.820e+03 [aplpy.core]\n",
      "INFO: Auto-setting vmin to  9.804e+02 [aplpy.core]\n",
      "INFO: Auto-setting vmax to  1.847e+03 [aplpy.core]\n"
     ]
    },
    {
     "name": "stderr",
     "output_type": "stream",
     "text": [
      "/home/hyliu/.conda/envs/terada2019/lib/python3.7/site-packages/aplpy/core.py:249: RuntimeWarning: More than 20 figures have been opened. Figures created through the pyplot interface (`matplotlib.pyplot.figure`) are retained until explicitly closed and may consume too much memory. (To control this warning, see the rcParam `figure.max_open_warning`).\n",
      "  self._figure = plt.figure(**kwargs)\n"
     ]
    },
    {
     "name": "stdout",
     "output_type": "stream",
     "text": [
      "INFO: Auto-setting vmin to  1.203e+03 [aplpy.core]\n",
      "INFO: Auto-setting vmax to  2.040e+03 [aplpy.core]\n",
      "INFO: Auto-setting vmin to  1.220e+03 [aplpy.core]\n",
      "INFO: Auto-setting vmax to  1.844e+03 [aplpy.core]\n"
     ]
    },
    {
     "name": "stderr",
     "output_type": "stream",
     "text": [
      "/home/hyliu/.conda/envs/terada2019/lib/python3.7/site-packages/aplpy/core.py:249: RuntimeWarning: More than 20 figures have been opened. Figures created through the pyplot interface (`matplotlib.pyplot.figure`) are retained until explicitly closed and may consume too much memory. (To control this warning, see the rcParam `figure.max_open_warning`).\n",
      "  self._figure = plt.figure(**kwargs)\n"
     ]
    },
    {
     "name": "stdout",
     "output_type": "stream",
     "text": [
      "INFO: Auto-setting vmin to  1.131e+03 [aplpy.core]\n",
      "INFO: Auto-setting vmax to  1.926e+03 [aplpy.core]\n",
      "INFO: Auto-setting vmin to  1.150e+03 [aplpy.core]\n",
      "INFO: Auto-setting vmax to  1.727e+03 [aplpy.core]\n"
     ]
    },
    {
     "name": "stderr",
     "output_type": "stream",
     "text": [
      "/home/hyliu/.conda/envs/terada2019/lib/python3.7/site-packages/aplpy/core.py:249: RuntimeWarning: More than 20 figures have been opened. Figures created through the pyplot interface (`matplotlib.pyplot.figure`) are retained until explicitly closed and may consume too much memory. (To control this warning, see the rcParam `figure.max_open_warning`).\n",
      "  self._figure = plt.figure(**kwargs)\n"
     ]
    },
    {
     "name": "stdout",
     "output_type": "stream",
     "text": [
      "INFO: Auto-setting vmin to  9.668e+02 [aplpy.core]\n",
      "INFO: Auto-setting vmax to  1.683e+03 [aplpy.core]\n",
      "INFO: Auto-setting vmin to  9.651e+02 [aplpy.core]\n",
      "INFO: Auto-setting vmax to  1.714e+03 [aplpy.core]\n"
     ]
    },
    {
     "name": "stderr",
     "output_type": "stream",
     "text": [
      "/home/hyliu/.conda/envs/terada2019/lib/python3.7/site-packages/aplpy/core.py:249: RuntimeWarning: More than 20 figures have been opened. Figures created through the pyplot interface (`matplotlib.pyplot.figure`) are retained until explicitly closed and may consume too much memory. (To control this warning, see the rcParam `figure.max_open_warning`).\n",
      "  self._figure = plt.figure(**kwargs)\n"
     ]
    },
    {
     "name": "stdout",
     "output_type": "stream",
     "text": [
      "INFO: Auto-setting vmin to  8.898e+02 [aplpy.core]\n",
      "INFO: Auto-setting vmax to  1.352e+03 [aplpy.core]\n",
      "INFO: Auto-setting vmin to  8.957e+02 [aplpy.core]\n",
      "INFO: Auto-setting vmax to  1.299e+03 [aplpy.core]\n"
     ]
    },
    {
     "name": "stderr",
     "output_type": "stream",
     "text": [
      "/home/hyliu/.conda/envs/terada2019/lib/python3.7/site-packages/aplpy/core.py:249: RuntimeWarning: More than 20 figures have been opened. Figures created through the pyplot interface (`matplotlib.pyplot.figure`) are retained until explicitly closed and may consume too much memory. (To control this warning, see the rcParam `figure.max_open_warning`).\n",
      "  self._figure = plt.figure(**kwargs)\n"
     ]
    },
    {
     "name": "stdout",
     "output_type": "stream",
     "text": [
      "INFO: Auto-setting vmin to  1.016e+03 [aplpy.core]\n",
      "INFO: Auto-setting vmax to  1.704e+03 [aplpy.core]\n",
      "INFO: Auto-setting vmin to  1.014e+03 [aplpy.core]\n",
      "INFO: Auto-setting vmax to  1.732e+03 [aplpy.core]\n"
     ]
    },
    {
     "name": "stderr",
     "output_type": "stream",
     "text": [
      "/home/hyliu/.conda/envs/terada2019/lib/python3.7/site-packages/aplpy/core.py:249: RuntimeWarning: More than 20 figures have been opened. Figures created through the pyplot interface (`matplotlib.pyplot.figure`) are retained until explicitly closed and may consume too much memory. (To control this warning, see the rcParam `figure.max_open_warning`).\n",
      "  self._figure = plt.figure(**kwargs)\n"
     ]
    },
    {
     "name": "stdout",
     "output_type": "stream",
     "text": [
      "INFO: Auto-setting vmin to  8.845e+02 [aplpy.core]\n",
      "INFO: Auto-setting vmax to  1.290e+03 [aplpy.core]\n",
      "INFO: Auto-setting vmin to  8.834e+02 [aplpy.core]\n",
      "INFO: Auto-setting vmax to  1.302e+03 [aplpy.core]\n"
     ]
    },
    {
     "name": "stderr",
     "output_type": "stream",
     "text": [
      "/home/hyliu/.conda/envs/terada2019/lib/python3.7/site-packages/aplpy/core.py:249: RuntimeWarning: More than 20 figures have been opened. Figures created through the pyplot interface (`matplotlib.pyplot.figure`) are retained until explicitly closed and may consume too much memory. (To control this warning, see the rcParam `figure.max_open_warning`).\n",
      "  self._figure = plt.figure(**kwargs)\n"
     ]
    },
    {
     "name": "stdout",
     "output_type": "stream",
     "text": [
      "INFO: Auto-setting vmin to  1.036e+03 [aplpy.core]\n",
      "INFO: Auto-setting vmax to  1.682e+03 [aplpy.core]\n",
      "INFO: Auto-setting vmin to  1.045e+03 [aplpy.core]\n",
      "INFO: Auto-setting vmax to  1.594e+03 [aplpy.core]\n"
     ]
    },
    {
     "name": "stderr",
     "output_type": "stream",
     "text": [
      "/home/hyliu/.conda/envs/terada2019/lib/python3.7/site-packages/aplpy/core.py:249: RuntimeWarning: More than 20 figures have been opened. Figures created through the pyplot interface (`matplotlib.pyplot.figure`) are retained until explicitly closed and may consume too much memory. (To control this warning, see the rcParam `figure.max_open_warning`).\n",
      "  self._figure = plt.figure(**kwargs)\n"
     ]
    },
    {
     "name": "stdout",
     "output_type": "stream",
     "text": [
      "INFO: Auto-setting vmin to  1.468e+03 [aplpy.core]\n",
      "INFO: Auto-setting vmax to  2.396e+03 [aplpy.core]\n",
      "INFO: Auto-setting vmin to  1.473e+03 [aplpy.core]\n",
      "INFO: Auto-setting vmax to  2.333e+03 [aplpy.core]\n"
     ]
    },
    {
     "name": "stderr",
     "output_type": "stream",
     "text": [
      "/home/hyliu/.conda/envs/terada2019/lib/python3.7/site-packages/aplpy/core.py:249: RuntimeWarning: More than 20 figures have been opened. Figures created through the pyplot interface (`matplotlib.pyplot.figure`) are retained until explicitly closed and may consume too much memory. (To control this warning, see the rcParam `figure.max_open_warning`).\n",
      "  self._figure = plt.figure(**kwargs)\n"
     ]
    },
    {
     "name": "stdout",
     "output_type": "stream",
     "text": [
      "INFO: Auto-setting vmin to  3.579e+03 [aplpy.core]\n",
      "INFO: Auto-setting vmax to  4.736e+03 [aplpy.core]\n",
      "INFO: Auto-setting vmin to  3.541e+03 [aplpy.core]\n",
      "INFO: Auto-setting vmax to  5.034e+03 [aplpy.core]\n"
     ]
    },
    {
     "name": "stderr",
     "output_type": "stream",
     "text": [
      "/home/hyliu/.conda/envs/terada2019/lib/python3.7/site-packages/aplpy/core.py:249: RuntimeWarning: More than 20 figures have been opened. Figures created through the pyplot interface (`matplotlib.pyplot.figure`) are retained until explicitly closed and may consume too much memory. (To control this warning, see the rcParam `figure.max_open_warning`).\n",
      "  self._figure = plt.figure(**kwargs)\n"
     ]
    },
    {
     "name": "stdout",
     "output_type": "stream",
     "text": [
      "INFO: Auto-setting vmin to  1.017e+03 [aplpy.core]\n",
      "INFO: Auto-setting vmax to  1.479e+03 [aplpy.core]\n",
      "INFO: Auto-setting vmin to  1.006e+03 [aplpy.core]\n",
      "INFO: Auto-setting vmax to  1.608e+03 [aplpy.core]\n"
     ]
    },
    {
     "name": "stderr",
     "output_type": "stream",
     "text": [
      "/home/hyliu/.conda/envs/terada2019/lib/python3.7/site-packages/aplpy/core.py:249: RuntimeWarning: More than 20 figures have been opened. Figures created through the pyplot interface (`matplotlib.pyplot.figure`) are retained until explicitly closed and may consume too much memory. (To control this warning, see the rcParam `figure.max_open_warning`).\n",
      "  self._figure = plt.figure(**kwargs)\n"
     ]
    },
    {
     "name": "stdout",
     "output_type": "stream",
     "text": [
      "INFO: Auto-setting vmin to  1.032e+03 [aplpy.core]\n",
      "INFO: Auto-setting vmax to  1.545e+03 [aplpy.core]\n",
      "INFO: Auto-setting vmin to  1.014e+03 [aplpy.core]\n",
      "INFO: Auto-setting vmax to  1.737e+03 [aplpy.core]\n"
     ]
    },
    {
     "name": "stderr",
     "output_type": "stream",
     "text": [
      "/home/hyliu/.conda/envs/terada2019/lib/python3.7/site-packages/aplpy/core.py:249: RuntimeWarning: More than 20 figures have been opened. Figures created through the pyplot interface (`matplotlib.pyplot.figure`) are retained until explicitly closed and may consume too much memory. (To control this warning, see the rcParam `figure.max_open_warning`).\n",
      "  self._figure = plt.figure(**kwargs)\n"
     ]
    },
    {
     "name": "stdout",
     "output_type": "stream",
     "text": [
      "INFO: Auto-setting vmin to  9.934e+02 [aplpy.core]\n",
      "INFO: Auto-setting vmax to  1.702e+03 [aplpy.core]\n",
      "INFO: Auto-setting vmin to  9.931e+02 [aplpy.core]\n",
      "INFO: Auto-setting vmax to  1.730e+03 [aplpy.core]\n"
     ]
    },
    {
     "name": "stderr",
     "output_type": "stream",
     "text": [
      "/home/hyliu/.conda/envs/terada2019/lib/python3.7/site-packages/aplpy/core.py:249: RuntimeWarning: More than 20 figures have been opened. Figures created through the pyplot interface (`matplotlib.pyplot.figure`) are retained until explicitly closed and may consume too much memory. (To control this warning, see the rcParam `figure.max_open_warning`).\n",
      "  self._figure = plt.figure(**kwargs)\n"
     ]
    },
    {
     "name": "stdout",
     "output_type": "stream",
     "text": [
      "INFO: Auto-setting vmin to  2.450e+03 [aplpy.core]\n",
      "INFO: Auto-setting vmax to  3.476e+03 [aplpy.core]\n",
      "INFO: Auto-setting vmin to  2.447e+03 [aplpy.core]\n",
      "INFO: Auto-setting vmax to  3.494e+03 [aplpy.core]\n"
     ]
    },
    {
     "name": "stderr",
     "output_type": "stream",
     "text": [
      "/home/hyliu/.conda/envs/terada2019/lib/python3.7/site-packages/aplpy/core.py:249: RuntimeWarning: More than 20 figures have been opened. Figures created through the pyplot interface (`matplotlib.pyplot.figure`) are retained until explicitly closed and may consume too much memory. (To control this warning, see the rcParam `figure.max_open_warning`).\n",
      "  self._figure = plt.figure(**kwargs)\n"
     ]
    },
    {
     "name": "stdout",
     "output_type": "stream",
     "text": [
      "INFO: Auto-setting vmin to  6.459e+02 [aplpy.core]\n",
      "INFO: Auto-setting vmax to  1.798e+03 [aplpy.core]\n",
      "INFO: Auto-setting vmin to  6.220e+02 [aplpy.core]\n",
      "INFO: Auto-setting vmax to  1.788e+03 [aplpy.core]\n"
     ]
    },
    {
     "name": "stderr",
     "output_type": "stream",
     "text": [
      "/home/hyliu/.conda/envs/terada2019/lib/python3.7/site-packages/aplpy/core.py:249: RuntimeWarning: More than 20 figures have been opened. Figures created through the pyplot interface (`matplotlib.pyplot.figure`) are retained until explicitly closed and may consume too much memory. (To control this warning, see the rcParam `figure.max_open_warning`).\n",
      "  self._figure = plt.figure(**kwargs)\n"
     ]
    },
    {
     "name": "stdout",
     "output_type": "stream",
     "text": [
      "INFO: Auto-setting vmin to  5.750e+03 [aplpy.core]\n",
      "INFO: Auto-setting vmax to  8.273e+03 [aplpy.core]\n",
      "INFO: Auto-setting vmin to  5.753e+03 [aplpy.core]\n",
      "INFO: Auto-setting vmax to  8.224e+03 [aplpy.core]\n"
     ]
    },
    {
     "name": "stderr",
     "output_type": "stream",
     "text": [
      "/home/hyliu/.conda/envs/terada2019/lib/python3.7/site-packages/aplpy/core.py:249: RuntimeWarning: More than 20 figures have been opened. Figures created through the pyplot interface (`matplotlib.pyplot.figure`) are retained until explicitly closed and may consume too much memory. (To control this warning, see the rcParam `figure.max_open_warning`).\n",
      "  self._figure = plt.figure(**kwargs)\n"
     ]
    },
    {
     "name": "stdout",
     "output_type": "stream",
     "text": [
      "INFO: Auto-setting vmin to -2.573e+01 [aplpy.core]\n",
      "INFO: Auto-setting vmax to  1.014e+02 [aplpy.core]\n",
      "INFO: Auto-setting vmin to -2.199e+01 [aplpy.core]\n",
      "INFO: Auto-setting vmax to  9.849e+01 [aplpy.core]\n"
     ]
    },
    {
     "name": "stderr",
     "output_type": "stream",
     "text": [
      "/home/hyliu/.conda/envs/terada2019/lib/python3.7/site-packages/aplpy/core.py:249: RuntimeWarning: More than 20 figures have been opened. Figures created through the pyplot interface (`matplotlib.pyplot.figure`) are retained until explicitly closed and may consume too much memory. (To control this warning, see the rcParam `figure.max_open_warning`).\n",
      "  self._figure = plt.figure(**kwargs)\n"
     ]
    },
    {
     "name": "stdout",
     "output_type": "stream",
     "text": [
      "INFO: Auto-setting vmin to  3.463e+01 [aplpy.core]\n",
      "INFO: Auto-setting vmax to  3.902e+02 [aplpy.core]\n",
      "INFO: Auto-setting vmin to  2.969e+01 [aplpy.core]\n",
      "INFO: Auto-setting vmax to  4.403e+02 [aplpy.core]\n"
     ]
    },
    {
     "name": "stderr",
     "output_type": "stream",
     "text": [
      "/home/hyliu/.conda/envs/terada2019/lib/python3.7/site-packages/aplpy/core.py:249: RuntimeWarning: More than 20 figures have been opened. Figures created through the pyplot interface (`matplotlib.pyplot.figure`) are retained until explicitly closed and may consume too much memory. (To control this warning, see the rcParam `figure.max_open_warning`).\n",
      "  self._figure = plt.figure(**kwargs)\n"
     ]
    },
    {
     "name": "stdout",
     "output_type": "stream",
     "text": [
      "INFO: Auto-setting vmin to  1.528e+03 [aplpy.core]\n",
      "INFO: Auto-setting vmax to  2.237e+03 [aplpy.core]\n",
      "INFO: Auto-setting vmin to  1.512e+03 [aplpy.core]\n",
      "INFO: Auto-setting vmax to  2.382e+03 [aplpy.core]\n"
     ]
    },
    {
     "name": "stderr",
     "output_type": "stream",
     "text": [
      "/home/hyliu/.conda/envs/terada2019/lib/python3.7/site-packages/aplpy/core.py:249: RuntimeWarning: More than 20 figures have been opened. Figures created through the pyplot interface (`matplotlib.pyplot.figure`) are retained until explicitly closed and may consume too much memory. (To control this warning, see the rcParam `figure.max_open_warning`).\n",
      "  self._figure = plt.figure(**kwargs)\n"
     ]
    },
    {
     "name": "stdout",
     "output_type": "stream",
     "text": [
      "INFO: Auto-setting vmin to -2.063e+01 [aplpy.core]\n",
      "INFO: Auto-setting vmax to  9.685e+01 [aplpy.core]\n",
      "INFO: Auto-setting vmin to -2.216e+01 [aplpy.core]\n",
      "INFO: Auto-setting vmax to  9.193e+01 [aplpy.core]\n"
     ]
    },
    {
     "name": "stderr",
     "output_type": "stream",
     "text": [
      "/home/hyliu/.conda/envs/terada2019/lib/python3.7/site-packages/aplpy/core.py:249: RuntimeWarning: More than 20 figures have been opened. Figures created through the pyplot interface (`matplotlib.pyplot.figure`) are retained until explicitly closed and may consume too much memory. (To control this warning, see the rcParam `figure.max_open_warning`).\n",
      "  self._figure = plt.figure(**kwargs)\n"
     ]
    },
    {
     "name": "stdout",
     "output_type": "stream",
     "text": [
      "INFO: Auto-setting vmin to  1.010e+03 [aplpy.core]\n",
      "INFO: Auto-setting vmax to  2.030e+03 [aplpy.core]\n",
      "INFO: Auto-setting vmin to  1.007e+03 [aplpy.core]\n",
      "INFO: Auto-setting vmax to  2.043e+03 [aplpy.core]\n"
     ]
    },
    {
     "name": "stderr",
     "output_type": "stream",
     "text": [
      "/home/hyliu/.conda/envs/terada2019/lib/python3.7/site-packages/aplpy/core.py:249: RuntimeWarning: More than 20 figures have been opened. Figures created through the pyplot interface (`matplotlib.pyplot.figure`) are retained until explicitly closed and may consume too much memory. (To control this warning, see the rcParam `figure.max_open_warning`).\n",
      "  self._figure = plt.figure(**kwargs)\n"
     ]
    },
    {
     "name": "stdout",
     "output_type": "stream",
     "text": [
      "INFO: Auto-setting vmin to  5.543e+01 [aplpy.core]\n",
      "INFO: Auto-setting vmax to  4.024e+02 [aplpy.core]\n",
      "INFO: Auto-setting vmin to  6.784e+01 [aplpy.core]\n",
      "INFO: Auto-setting vmax to  2.756e+02 [aplpy.core]\n"
     ]
    },
    {
     "name": "stderr",
     "output_type": "stream",
     "text": [
      "/home/hyliu/.conda/envs/terada2019/lib/python3.7/site-packages/aplpy/core.py:249: RuntimeWarning: More than 20 figures have been opened. Figures created through the pyplot interface (`matplotlib.pyplot.figure`) are retained until explicitly closed and may consume too much memory. (To control this warning, see the rcParam `figure.max_open_warning`).\n",
      "  self._figure = plt.figure(**kwargs)\n"
     ]
    },
    {
     "name": "stdout",
     "output_type": "stream",
     "text": [
      "INFO: Auto-setting vmin to  2.361e+03 [aplpy.core]\n",
      "INFO: Auto-setting vmax to  2.865e+03 [aplpy.core]\n",
      "INFO: Auto-setting vmin to  2.374e+03 [aplpy.core]\n",
      "INFO: Auto-setting vmax to  2.779e+03 [aplpy.core]\n"
     ]
    },
    {
     "name": "stderr",
     "output_type": "stream",
     "text": [
      "/home/hyliu/.conda/envs/terada2019/lib/python3.7/site-packages/aplpy/core.py:249: RuntimeWarning: More than 20 figures have been opened. Figures created through the pyplot interface (`matplotlib.pyplot.figure`) are retained until explicitly closed and may consume too much memory. (To control this warning, see the rcParam `figure.max_open_warning`).\n",
      "  self._figure = plt.figure(**kwargs)\n"
     ]
    },
    {
     "name": "stdout",
     "output_type": "stream",
     "text": [
      "INFO: Auto-setting vmin to  1.126e+03 [aplpy.core]\n",
      "INFO: Auto-setting vmax to  1.768e+03 [aplpy.core]\n",
      "INFO: Auto-setting vmin to  1.125e+03 [aplpy.core]\n",
      "INFO: Auto-setting vmax to  1.756e+03 [aplpy.core]\n"
     ]
    },
    {
     "name": "stderr",
     "output_type": "stream",
     "text": [
      "/home/hyliu/.conda/envs/terada2019/lib/python3.7/site-packages/aplpy/core.py:249: RuntimeWarning: More than 20 figures have been opened. Figures created through the pyplot interface (`matplotlib.pyplot.figure`) are retained until explicitly closed and may consume too much memory. (To control this warning, see the rcParam `figure.max_open_warning`).\n",
      "  self._figure = plt.figure(**kwargs)\n"
     ]
    },
    {
     "name": "stdout",
     "output_type": "stream",
     "text": [
      "INFO: Auto-setting vmin to -2.386e+01 [aplpy.core]\n",
      "INFO: Auto-setting vmax to  3.267e+02 [aplpy.core]\n",
      "INFO: Auto-setting vmin to -2.954e+01 [aplpy.core]\n",
      "INFO: Auto-setting vmax to  3.591e+02 [aplpy.core]\n"
     ]
    },
    {
     "name": "stderr",
     "output_type": "stream",
     "text": [
      "/home/hyliu/.conda/envs/terada2019/lib/python3.7/site-packages/aplpy/core.py:249: RuntimeWarning: More than 20 figures have been opened. Figures created through the pyplot interface (`matplotlib.pyplot.figure`) are retained until explicitly closed and may consume too much memory. (To control this warning, see the rcParam `figure.max_open_warning`).\n",
      "  self._figure = plt.figure(**kwargs)\n"
     ]
    },
    {
     "name": "stdout",
     "output_type": "stream",
     "text": [
      "INFO: Auto-setting vmin to  1.201e+03 [aplpy.core]\n",
      "INFO: Auto-setting vmax to  3.099e+03 [aplpy.core]\n",
      "INFO: Auto-setting vmin to  1.259e+03 [aplpy.core]\n",
      "INFO: Auto-setting vmax to  2.486e+03 [aplpy.core]\n"
     ]
    },
    {
     "name": "stderr",
     "output_type": "stream",
     "text": [
      "/home/hyliu/.conda/envs/terada2019/lib/python3.7/site-packages/aplpy/core.py:249: RuntimeWarning: More than 20 figures have been opened. Figures created through the pyplot interface (`matplotlib.pyplot.figure`) are retained until explicitly closed and may consume too much memory. (To control this warning, see the rcParam `figure.max_open_warning`).\n",
      "  self._figure = plt.figure(**kwargs)\n"
     ]
    },
    {
     "name": "stdout",
     "output_type": "stream",
     "text": [
      "INFO: Auto-setting vmin to  1.631e+02 [aplpy.core]\n",
      "INFO: Auto-setting vmax to  3.477e+02 [aplpy.core]\n",
      "INFO: Auto-setting vmin to  1.639e+02 [aplpy.core]\n",
      "INFO: Auto-setting vmax to  3.268e+02 [aplpy.core]\n"
     ]
    },
    {
     "name": "stderr",
     "output_type": "stream",
     "text": [
      "/home/hyliu/.conda/envs/terada2019/lib/python3.7/site-packages/aplpy/core.py:249: RuntimeWarning: More than 20 figures have been opened. Figures created through the pyplot interface (`matplotlib.pyplot.figure`) are retained until explicitly closed and may consume too much memory. (To control this warning, see the rcParam `figure.max_open_warning`).\n",
      "  self._figure = plt.figure(**kwargs)\n"
     ]
    },
    {
     "name": "stdout",
     "output_type": "stream",
     "text": [
      "INFO: Auto-setting vmin to  9.242e+02 [aplpy.core]\n",
      "INFO: Auto-setting vmax to  1.624e+03 [aplpy.core]\n",
      "INFO: Auto-setting vmin to  9.134e+02 [aplpy.core]\n",
      "INFO: Auto-setting vmax to  1.756e+03 [aplpy.core]\n"
     ]
    },
    {
     "name": "stderr",
     "output_type": "stream",
     "text": [
      "/home/hyliu/.conda/envs/terada2019/lib/python3.7/site-packages/aplpy/core.py:249: RuntimeWarning: More than 20 figures have been opened. Figures created through the pyplot interface (`matplotlib.pyplot.figure`) are retained until explicitly closed and may consume too much memory. (To control this warning, see the rcParam `figure.max_open_warning`).\n",
      "  self._figure = plt.figure(**kwargs)\n"
     ]
    },
    {
     "name": "stdout",
     "output_type": "stream",
     "text": [
      "INFO: Auto-setting vmin to -2.866e+01 [aplpy.core]\n",
      "INFO: Auto-setting vmax to  2.861e+02 [aplpy.core]\n",
      "INFO: Auto-setting vmin to -2.178e+01 [aplpy.core]\n",
      "INFO: Auto-setting vmax to  2.319e+02 [aplpy.core]\n"
     ]
    },
    {
     "name": "stderr",
     "output_type": "stream",
     "text": [
      "/home/hyliu/.conda/envs/terada2019/lib/python3.7/site-packages/aplpy/core.py:249: RuntimeWarning: More than 20 figures have been opened. Figures created through the pyplot interface (`matplotlib.pyplot.figure`) are retained until explicitly closed and may consume too much memory. (To control this warning, see the rcParam `figure.max_open_warning`).\n",
      "  self._figure = plt.figure(**kwargs)\n"
     ]
    },
    {
     "name": "stdout",
     "output_type": "stream",
     "text": [
      "INFO: Auto-setting vmin to  9.776e+02 [aplpy.core]\n",
      "INFO: Auto-setting vmax to  1.709e+03 [aplpy.core]\n",
      "INFO: Auto-setting vmin to  9.754e+02 [aplpy.core]\n",
      "INFO: Auto-setting vmax to  1.685e+03 [aplpy.core]\n"
     ]
    },
    {
     "name": "stderr",
     "output_type": "stream",
     "text": [
      "/home/hyliu/.conda/envs/terada2019/lib/python3.7/site-packages/aplpy/core.py:249: RuntimeWarning: More than 20 figures have been opened. Figures created through the pyplot interface (`matplotlib.pyplot.figure`) are retained until explicitly closed and may consume too much memory. (To control this warning, see the rcParam `figure.max_open_warning`).\n",
      "  self._figure = plt.figure(**kwargs)\n"
     ]
    },
    {
     "name": "stdout",
     "output_type": "stream",
     "text": [
      "INFO: Auto-setting vmin to  7.789e+03 [aplpy.core]\n",
      "INFO: Auto-setting vmax to  1.097e+04 [aplpy.core]\n",
      "INFO: Auto-setting vmin to  7.769e+03 [aplpy.core]\n",
      "INFO: Auto-setting vmax to  1.092e+04 [aplpy.core]\n"
     ]
    },
    {
     "name": "stderr",
     "output_type": "stream",
     "text": [
      "/home/hyliu/.conda/envs/terada2019/lib/python3.7/site-packages/aplpy/core.py:249: RuntimeWarning: More than 20 figures have been opened. Figures created through the pyplot interface (`matplotlib.pyplot.figure`) are retained until explicitly closed and may consume too much memory. (To control this warning, see the rcParam `figure.max_open_warning`).\n",
      "  self._figure = plt.figure(**kwargs)\n"
     ]
    },
    {
     "name": "stdout",
     "output_type": "stream",
     "text": [
      "INFO: Auto-setting vmin to  3.239e+01 [aplpy.core]\n",
      "INFO: Auto-setting vmax to  2.892e+02 [aplpy.core]\n",
      "INFO: Auto-setting vmin to  1.777e+01 [aplpy.core]\n",
      "INFO: Auto-setting vmax to  4.137e+02 [aplpy.core]\n"
     ]
    },
    {
     "name": "stderr",
     "output_type": "stream",
     "text": [
      "/home/hyliu/.conda/envs/terada2019/lib/python3.7/site-packages/aplpy/core.py:249: RuntimeWarning: More than 20 figures have been opened. Figures created through the pyplot interface (`matplotlib.pyplot.figure`) are retained until explicitly closed and may consume too much memory. (To control this warning, see the rcParam `figure.max_open_warning`).\n",
      "  self._figure = plt.figure(**kwargs)\n"
     ]
    },
    {
     "name": "stdout",
     "output_type": "stream",
     "text": [
      "INFO: Auto-setting vmin to  8.915e+02 [aplpy.core]\n",
      "INFO: Auto-setting vmax to  1.394e+03 [aplpy.core]\n",
      "INFO: Auto-setting vmin to  8.850e+02 [aplpy.core]\n",
      "INFO: Auto-setting vmax to  1.466e+03 [aplpy.core]\n"
     ]
    },
    {
     "name": "stderr",
     "output_type": "stream",
     "text": [
      "/home/hyliu/.conda/envs/terada2019/lib/python3.7/site-packages/aplpy/core.py:249: RuntimeWarning: More than 20 figures have been opened. Figures created through the pyplot interface (`matplotlib.pyplot.figure`) are retained until explicitly closed and may consume too much memory. (To control this warning, see the rcParam `figure.max_open_warning`).\n",
      "  self._figure = plt.figure(**kwargs)\n"
     ]
    },
    {
     "name": "stdout",
     "output_type": "stream",
     "text": [
      "INFO: Auto-setting vmin to  1.335e+01 [aplpy.core]\n",
      "INFO: Auto-setting vmax to  2.813e+02 [aplpy.core]\n",
      "INFO: Auto-setting vmin to  2.044e+01 [aplpy.core]\n",
      "INFO: Auto-setting vmax to  2.032e+02 [aplpy.core]\n"
     ]
    },
    {
     "name": "stderr",
     "output_type": "stream",
     "text": [
      "/home/hyliu/.conda/envs/terada2019/lib/python3.7/site-packages/aplpy/core.py:249: RuntimeWarning: More than 20 figures have been opened. Figures created through the pyplot interface (`matplotlib.pyplot.figure`) are retained until explicitly closed and may consume too much memory. (To control this warning, see the rcParam `figure.max_open_warning`).\n",
      "  self._figure = plt.figure(**kwargs)\n"
     ]
    },
    {
     "name": "stdout",
     "output_type": "stream",
     "text": [
      "INFO: Auto-setting vmin to  1.145e+03 [aplpy.core]\n",
      "INFO: Auto-setting vmax to  1.878e+03 [aplpy.core]\n",
      "INFO: Auto-setting vmin to  1.161e+03 [aplpy.core]\n",
      "INFO: Auto-setting vmax to  1.702e+03 [aplpy.core]\n"
     ]
    },
    {
     "name": "stderr",
     "output_type": "stream",
     "text": [
      "/home/hyliu/.conda/envs/terada2019/lib/python3.7/site-packages/aplpy/core.py:249: RuntimeWarning: More than 20 figures have been opened. Figures created through the pyplot interface (`matplotlib.pyplot.figure`) are retained until explicitly closed and may consume too much memory. (To control this warning, see the rcParam `figure.max_open_warning`).\n",
      "  self._figure = plt.figure(**kwargs)\n"
     ]
    },
    {
     "name": "stdout",
     "output_type": "stream",
     "text": [
      "INFO: Auto-setting vmin to  1.761e+03 [aplpy.core]\n",
      "INFO: Auto-setting vmax to  2.555e+03 [aplpy.core]\n",
      "INFO: Auto-setting vmin to  1.758e+03 [aplpy.core]\n",
      "INFO: Auto-setting vmax to  2.655e+03 [aplpy.core]\n"
     ]
    },
    {
     "name": "stderr",
     "output_type": "stream",
     "text": [
      "/home/hyliu/.conda/envs/terada2019/lib/python3.7/site-packages/aplpy/core.py:249: RuntimeWarning: More than 20 figures have been opened. Figures created through the pyplot interface (`matplotlib.pyplot.figure`) are retained until explicitly closed and may consume too much memory. (To control this warning, see the rcParam `figure.max_open_warning`).\n",
      "  self._figure = plt.figure(**kwargs)\n"
     ]
    },
    {
     "name": "stdout",
     "output_type": "stream",
     "text": [
      "INFO: Auto-setting vmin to  3.595e+03 [aplpy.core]\n",
      "INFO: Auto-setting vmax to  5.135e+03 [aplpy.core]\n",
      "INFO: Auto-setting vmin to  3.605e+03 [aplpy.core]\n",
      "INFO: Auto-setting vmax to  5.028e+03 [aplpy.core]\n"
     ]
    },
    {
     "name": "stderr",
     "output_type": "stream",
     "text": [
      "/home/hyliu/.conda/envs/terada2019/lib/python3.7/site-packages/aplpy/core.py:249: RuntimeWarning: More than 20 figures have been opened. Figures created through the pyplot interface (`matplotlib.pyplot.figure`) are retained until explicitly closed and may consume too much memory. (To control this warning, see the rcParam `figure.max_open_warning`).\n",
      "  self._figure = plt.figure(**kwargs)\n"
     ]
    },
    {
     "name": "stdout",
     "output_type": "stream",
     "text": [
      "INFO: Auto-setting vmin to  2.897e+03 [aplpy.core]\n",
      "INFO: Auto-setting vmax to  4.114e+03 [aplpy.core]\n",
      "INFO: Auto-setting vmin to  2.862e+03 [aplpy.core]\n",
      "INFO: Auto-setting vmax to  4.378e+03 [aplpy.core]\n"
     ]
    },
    {
     "name": "stderr",
     "output_type": "stream",
     "text": [
      "/home/hyliu/.conda/envs/terada2019/lib/python3.7/site-packages/aplpy/core.py:249: RuntimeWarning: More than 20 figures have been opened. Figures created through the pyplot interface (`matplotlib.pyplot.figure`) are retained until explicitly closed and may consume too much memory. (To control this warning, see the rcParam `figure.max_open_warning`).\n",
      "  self._figure = plt.figure(**kwargs)\n"
     ]
    },
    {
     "name": "stdout",
     "output_type": "stream",
     "text": [
      "INFO: Auto-setting vmin to  9.734e+02 [aplpy.core]\n",
      "INFO: Auto-setting vmax to  1.634e+03 [aplpy.core]\n",
      "INFO: Auto-setting vmin to  9.481e+02 [aplpy.core]\n",
      "INFO: Auto-setting vmax to  1.927e+03 [aplpy.core]\n"
     ]
    },
    {
     "name": "stderr",
     "output_type": "stream",
     "text": [
      "/home/hyliu/.conda/envs/terada2019/lib/python3.7/site-packages/aplpy/core.py:249: RuntimeWarning: More than 20 figures have been opened. Figures created through the pyplot interface (`matplotlib.pyplot.figure`) are retained until explicitly closed and may consume too much memory. (To control this warning, see the rcParam `figure.max_open_warning`).\n",
      "  self._figure = plt.figure(**kwargs)\n"
     ]
    },
    {
     "name": "stdout",
     "output_type": "stream",
     "text": [
      "INFO: Auto-setting vmin to  2.495e+03 [aplpy.core]\n",
      "INFO: Auto-setting vmax to  2.876e+03 [aplpy.core]\n",
      "INFO: Auto-setting vmin to  2.487e+03 [aplpy.core]\n",
      "INFO: Auto-setting vmax to  2.901e+03 [aplpy.core]\n"
     ]
    },
    {
     "name": "stderr",
     "output_type": "stream",
     "text": [
      "/home/hyliu/.conda/envs/terada2019/lib/python3.7/site-packages/aplpy/core.py:249: RuntimeWarning: More than 20 figures have been opened. Figures created through the pyplot interface (`matplotlib.pyplot.figure`) are retained until explicitly closed and may consume too much memory. (To control this warning, see the rcParam `figure.max_open_warning`).\n",
      "  self._figure = plt.figure(**kwargs)\n"
     ]
    },
    {
     "name": "stdout",
     "output_type": "stream",
     "text": [
      "INFO: Auto-setting vmin to  1.008e+03 [aplpy.core]\n",
      "INFO: Auto-setting vmax to  1.687e+03 [aplpy.core]\n",
      "INFO: Auto-setting vmin to  1.010e+03 [aplpy.core]\n",
      "INFO: Auto-setting vmax to  1.687e+03 [aplpy.core]\n"
     ]
    },
    {
     "name": "stderr",
     "output_type": "stream",
     "text": [
      "/home/hyliu/.conda/envs/terada2019/lib/python3.7/site-packages/aplpy/core.py:249: RuntimeWarning: More than 20 figures have been opened. Figures created through the pyplot interface (`matplotlib.pyplot.figure`) are retained until explicitly closed and may consume too much memory. (To control this warning, see the rcParam `figure.max_open_warning`).\n",
      "  self._figure = plt.figure(**kwargs)\n"
     ]
    },
    {
     "name": "stdout",
     "output_type": "stream",
     "text": [
      "INFO: Auto-setting vmin to  1.124e+02 [aplpy.core]\n",
      "INFO: Auto-setting vmax to  2.738e+02 [aplpy.core]\n",
      "INFO: Auto-setting vmin to  1.102e+02 [aplpy.core]\n",
      "INFO: Auto-setting vmax to  2.691e+02 [aplpy.core]\n"
     ]
    },
    {
     "name": "stderr",
     "output_type": "stream",
     "text": [
      "/home/hyliu/.conda/envs/terada2019/lib/python3.7/site-packages/aplpy/core.py:249: RuntimeWarning: More than 20 figures have been opened. Figures created through the pyplot interface (`matplotlib.pyplot.figure`) are retained until explicitly closed and may consume too much memory. (To control this warning, see the rcParam `figure.max_open_warning`).\n",
      "  self._figure = plt.figure(**kwargs)\n"
     ]
    },
    {
     "name": "stdout",
     "output_type": "stream",
     "text": [
      "INFO: Auto-setting vmin to  9.763e+02 [aplpy.core]\n",
      "INFO: Auto-setting vmax to  1.917e+03 [aplpy.core]\n",
      "INFO: Auto-setting vmin to  9.729e+02 [aplpy.core]\n",
      "INFO: Auto-setting vmax to  1.930e+03 [aplpy.core]\n"
     ]
    },
    {
     "name": "stderr",
     "output_type": "stream",
     "text": [
      "/home/hyliu/.conda/envs/terada2019/lib/python3.7/site-packages/aplpy/core.py:249: RuntimeWarning: More than 20 figures have been opened. Figures created through the pyplot interface (`matplotlib.pyplot.figure`) are retained until explicitly closed and may consume too much memory. (To control this warning, see the rcParam `figure.max_open_warning`).\n",
      "  self._figure = plt.figure(**kwargs)\n"
     ]
    },
    {
     "name": "stdout",
     "output_type": "stream",
     "text": [
      "INFO: Auto-setting vmin to  1.919e+03 [aplpy.core]\n",
      "INFO: Auto-setting vmax to  2.751e+03 [aplpy.core]\n",
      "INFO: Auto-setting vmin to  1.915e+03 [aplpy.core]\n",
      "INFO: Auto-setting vmax to  2.809e+03 [aplpy.core]\n"
     ]
    },
    {
     "name": "stderr",
     "output_type": "stream",
     "text": [
      "/home/hyliu/.conda/envs/terada2019/lib/python3.7/site-packages/aplpy/core.py:249: RuntimeWarning: More than 20 figures have been opened. Figures created through the pyplot interface (`matplotlib.pyplot.figure`) are retained until explicitly closed and may consume too much memory. (To control this warning, see the rcParam `figure.max_open_warning`).\n",
      "  self._figure = plt.figure(**kwargs)\n"
     ]
    },
    {
     "name": "stdout",
     "output_type": "stream",
     "text": [
      "INFO: Auto-setting vmin to  8.730e+02 [aplpy.core]\n",
      "INFO: Auto-setting vmax to  1.333e+03 [aplpy.core]\n",
      "INFO: Auto-setting vmin to  8.808e+02 [aplpy.core]\n",
      "INFO: Auto-setting vmax to  1.283e+03 [aplpy.core]\n"
     ]
    },
    {
     "name": "stderr",
     "output_type": "stream",
     "text": [
      "/home/hyliu/.conda/envs/terada2019/lib/python3.7/site-packages/aplpy/core.py:249: RuntimeWarning: More than 20 figures have been opened. Figures created through the pyplot interface (`matplotlib.pyplot.figure`) are retained until explicitly closed and may consume too much memory. (To control this warning, see the rcParam `figure.max_open_warning`).\n",
      "  self._figure = plt.figure(**kwargs)\n"
     ]
    },
    {
     "name": "stdout",
     "output_type": "stream",
     "text": [
      "INFO: Auto-setting vmin to  3.392e+02 [aplpy.core]\n",
      "INFO: Auto-setting vmax to  6.282e+02 [aplpy.core]\n",
      "INFO: Auto-setting vmin to  3.427e+02 [aplpy.core]\n",
      "INFO: Auto-setting vmax to  6.029e+02 [aplpy.core]\n"
     ]
    },
    {
     "name": "stderr",
     "output_type": "stream",
     "text": [
      "/home/hyliu/.conda/envs/terada2019/lib/python3.7/site-packages/aplpy/core.py:249: RuntimeWarning: More than 20 figures have been opened. Figures created through the pyplot interface (`matplotlib.pyplot.figure`) are retained until explicitly closed and may consume too much memory. (To control this warning, see the rcParam `figure.max_open_warning`).\n",
      "  self._figure = plt.figure(**kwargs)\n"
     ]
    },
    {
     "name": "stdout",
     "output_type": "stream",
     "text": [
      "INFO: Auto-setting vmin to  9.919e+02 [aplpy.core]\n",
      "INFO: Auto-setting vmax to  1.562e+03 [aplpy.core]\n",
      "INFO: Auto-setting vmin to  9.684e+02 [aplpy.core]\n",
      "INFO: Auto-setting vmax to  1.798e+03 [aplpy.core]\n"
     ]
    },
    {
     "name": "stderr",
     "output_type": "stream",
     "text": [
      "/home/hyliu/.conda/envs/terada2019/lib/python3.7/site-packages/aplpy/core.py:249: RuntimeWarning: More than 20 figures have been opened. Figures created through the pyplot interface (`matplotlib.pyplot.figure`) are retained until explicitly closed and may consume too much memory. (To control this warning, see the rcParam `figure.max_open_warning`).\n",
      "  self._figure = plt.figure(**kwargs)\n"
     ]
    },
    {
     "name": "stdout",
     "output_type": "stream",
     "text": [
      "INFO: Auto-setting vmin to  5.092e+02 [aplpy.core]\n",
      "INFO: Auto-setting vmax to  8.470e+02 [aplpy.core]\n",
      "INFO: Auto-setting vmin to  5.074e+02 [aplpy.core]\n",
      "INFO: Auto-setting vmax to  8.510e+02 [aplpy.core]\n"
     ]
    },
    {
     "name": "stderr",
     "output_type": "stream",
     "text": [
      "/home/hyliu/.conda/envs/terada2019/lib/python3.7/site-packages/aplpy/core.py:249: RuntimeWarning: More than 20 figures have been opened. Figures created through the pyplot interface (`matplotlib.pyplot.figure`) are retained until explicitly closed and may consume too much memory. (To control this warning, see the rcParam `figure.max_open_warning`).\n",
      "  self._figure = plt.figure(**kwargs)\n"
     ]
    },
    {
     "name": "stdout",
     "output_type": "stream",
     "text": [
      "INFO: Auto-setting vmin to  8.774e+02 [aplpy.core]\n",
      "INFO: Auto-setting vmax to  1.308e+03 [aplpy.core]\n",
      "INFO: Auto-setting vmin to  8.733e+02 [aplpy.core]\n",
      "INFO: Auto-setting vmax to  1.342e+03 [aplpy.core]\n"
     ]
    },
    {
     "name": "stderr",
     "output_type": "stream",
     "text": [
      "/home/hyliu/.conda/envs/terada2019/lib/python3.7/site-packages/aplpy/core.py:249: RuntimeWarning: More than 20 figures have been opened. Figures created through the pyplot interface (`matplotlib.pyplot.figure`) are retained until explicitly closed and may consume too much memory. (To control this warning, see the rcParam `figure.max_open_warning`).\n",
      "  self._figure = plt.figure(**kwargs)\n"
     ]
    },
    {
     "name": "stdout",
     "output_type": "stream",
     "text": [
      "INFO: Auto-setting vmin to  8.288e+01 [aplpy.core]\n",
      "INFO: Auto-setting vmax to  4.566e+02 [aplpy.core]\n",
      "INFO: Auto-setting vmin to  9.930e+01 [aplpy.core]\n",
      "INFO: Auto-setting vmax to  3.234e+02 [aplpy.core]\n"
     ]
    },
    {
     "name": "stderr",
     "output_type": "stream",
     "text": [
      "/home/hyliu/.conda/envs/terada2019/lib/python3.7/site-packages/aplpy/core.py:249: RuntimeWarning: More than 20 figures have been opened. Figures created through the pyplot interface (`matplotlib.pyplot.figure`) are retained until explicitly closed and may consume too much memory. (To control this warning, see the rcParam `figure.max_open_warning`).\n",
      "  self._figure = plt.figure(**kwargs)\n"
     ]
    },
    {
     "name": "stdout",
     "output_type": "stream",
     "text": [
      "INFO: Auto-setting vmin to  6.274e+01 [aplpy.core]\n",
      "INFO: Auto-setting vmax to  3.027e+02 [aplpy.core]\n",
      "INFO: Auto-setting vmin to  6.033e+01 [aplpy.core]\n",
      "INFO: Auto-setting vmax to  3.402e+02 [aplpy.core]\n"
     ]
    },
    {
     "name": "stderr",
     "output_type": "stream",
     "text": [
      "/home/hyliu/.conda/envs/terada2019/lib/python3.7/site-packages/aplpy/core.py:249: RuntimeWarning: More than 20 figures have been opened. Figures created through the pyplot interface (`matplotlib.pyplot.figure`) are retained until explicitly closed and may consume too much memory. (To control this warning, see the rcParam `figure.max_open_warning`).\n",
      "  self._figure = plt.figure(**kwargs)\n"
     ]
    },
    {
     "name": "stdout",
     "output_type": "stream",
     "text": [
      "INFO: Auto-setting vmin to  4.708e+01 [aplpy.core]\n",
      "INFO: Auto-setting vmax to  2.880e+02 [aplpy.core]\n",
      "INFO: Auto-setting vmin to  3.881e+01 [aplpy.core]\n",
      "INFO: Auto-setting vmax to  4.041e+02 [aplpy.core]\n"
     ]
    },
    {
     "name": "stderr",
     "output_type": "stream",
     "text": [
      "/home/hyliu/.conda/envs/terada2019/lib/python3.7/site-packages/aplpy/core.py:249: RuntimeWarning: More than 20 figures have been opened. Figures created through the pyplot interface (`matplotlib.pyplot.figure`) are retained until explicitly closed and may consume too much memory. (To control this warning, see the rcParam `figure.max_open_warning`).\n",
      "  self._figure = plt.figure(**kwargs)\n"
     ]
    },
    {
     "name": "stdout",
     "output_type": "stream",
     "text": [
      "INFO: Auto-setting vmin to  1.099e+03 [aplpy.core]\n",
      "INFO: Auto-setting vmax to  1.638e+03 [aplpy.core]\n",
      "INFO: Auto-setting vmin to  1.068e+03 [aplpy.core]\n",
      "INFO: Auto-setting vmax to  1.979e+03 [aplpy.core]\n"
     ]
    },
    {
     "name": "stderr",
     "output_type": "stream",
     "text": [
      "/home/hyliu/.conda/envs/terada2019/lib/python3.7/site-packages/aplpy/core.py:249: RuntimeWarning: More than 20 figures have been opened. Figures created through the pyplot interface (`matplotlib.pyplot.figure`) are retained until explicitly closed and may consume too much memory. (To control this warning, see the rcParam `figure.max_open_warning`).\n",
      "  self._figure = plt.figure(**kwargs)\n"
     ]
    },
    {
     "name": "stdout",
     "output_type": "stream",
     "text": [
      "INFO: Auto-setting vmin to  8.649e+02 [aplpy.core]\n",
      "INFO: Auto-setting vmax to  1.447e+03 [aplpy.core]\n",
      "INFO: Auto-setting vmin to  8.636e+02 [aplpy.core]\n",
      "INFO: Auto-setting vmax to  1.449e+03 [aplpy.core]\n"
     ]
    },
    {
     "name": "stderr",
     "output_type": "stream",
     "text": [
      "/home/hyliu/.conda/envs/terada2019/lib/python3.7/site-packages/aplpy/core.py:249: RuntimeWarning: More than 20 figures have been opened. Figures created through the pyplot interface (`matplotlib.pyplot.figure`) are retained until explicitly closed and may consume too much memory. (To control this warning, see the rcParam `figure.max_open_warning`).\n",
      "  self._figure = plt.figure(**kwargs)\n"
     ]
    },
    {
     "name": "stdout",
     "output_type": "stream",
     "text": [
      "INFO: Auto-setting vmin to  9.978e+02 [aplpy.core]\n",
      "INFO: Auto-setting vmax to  1.678e+03 [aplpy.core]\n",
      "INFO: Auto-setting vmin to  9.912e+02 [aplpy.core]\n",
      "INFO: Auto-setting vmax to  1.751e+03 [aplpy.core]\n"
     ]
    },
    {
     "name": "stderr",
     "output_type": "stream",
     "text": [
      "/home/hyliu/.conda/envs/terada2019/lib/python3.7/site-packages/aplpy/core.py:249: RuntimeWarning: More than 20 figures have been opened. Figures created through the pyplot interface (`matplotlib.pyplot.figure`) are retained until explicitly closed and may consume too much memory. (To control this warning, see the rcParam `figure.max_open_warning`).\n",
      "  self._figure = plt.figure(**kwargs)\n"
     ]
    },
    {
     "name": "stdout",
     "output_type": "stream",
     "text": [
      "INFO: Auto-setting vmin to  2.110e+03 [aplpy.core]\n",
      "INFO: Auto-setting vmax to  2.530e+03 [aplpy.core]\n",
      "INFO: Auto-setting vmin to  2.116e+03 [aplpy.core]\n",
      "INFO: Auto-setting vmax to  2.524e+03 [aplpy.core]\n"
     ]
    },
    {
     "name": "stderr",
     "output_type": "stream",
     "text": [
      "/home/hyliu/.conda/envs/terada2019/lib/python3.7/site-packages/aplpy/core.py:249: RuntimeWarning: More than 20 figures have been opened. Figures created through the pyplot interface (`matplotlib.pyplot.figure`) are retained until explicitly closed and may consume too much memory. (To control this warning, see the rcParam `figure.max_open_warning`).\n",
      "  self._figure = plt.figure(**kwargs)\n"
     ]
    },
    {
     "name": "stdout",
     "output_type": "stream",
     "text": [
      "INFO: Auto-setting vmin to  1.144e+04 [aplpy.core]\n",
      "INFO: Auto-setting vmax to  1.288e+04 [aplpy.core]\n",
      "INFO: Auto-setting vmin to  1.143e+04 [aplpy.core]\n",
      "INFO: Auto-setting vmax to  1.288e+04 [aplpy.core]\n"
     ]
    },
    {
     "name": "stderr",
     "output_type": "stream",
     "text": [
      "/home/hyliu/.conda/envs/terada2019/lib/python3.7/site-packages/aplpy/core.py:249: RuntimeWarning: More than 20 figures have been opened. Figures created through the pyplot interface (`matplotlib.pyplot.figure`) are retained until explicitly closed and may consume too much memory. (To control this warning, see the rcParam `figure.max_open_warning`).\n",
      "  self._figure = plt.figure(**kwargs)\n"
     ]
    },
    {
     "name": "stdout",
     "output_type": "stream",
     "text": [
      "INFO: Auto-setting vmin to  8.974e+02 [aplpy.core]\n",
      "INFO: Auto-setting vmax to  1.340e+03 [aplpy.core]\n",
      "INFO: Auto-setting vmin to  8.924e+02 [aplpy.core]\n",
      "INFO: Auto-setting vmax to  1.372e+03 [aplpy.core]\n"
     ]
    },
    {
     "name": "stderr",
     "output_type": "stream",
     "text": [
      "/home/hyliu/.conda/envs/terada2019/lib/python3.7/site-packages/aplpy/core.py:249: RuntimeWarning: More than 20 figures have been opened. Figures created through the pyplot interface (`matplotlib.pyplot.figure`) are retained until explicitly closed and may consume too much memory. (To control this warning, see the rcParam `figure.max_open_warning`).\n",
      "  self._figure = plt.figure(**kwargs)\n"
     ]
    },
    {
     "name": "stdout",
     "output_type": "stream",
     "text": [
      "INFO: Auto-setting vmin to  9.006e+03 [aplpy.core]\n",
      "INFO: Auto-setting vmax to  1.381e+04 [aplpy.core]\n",
      "INFO: Auto-setting vmin to  8.911e+03 [aplpy.core]\n",
      "INFO: Auto-setting vmax to  1.399e+04 [aplpy.core]\n"
     ]
    },
    {
     "name": "stderr",
     "output_type": "stream",
     "text": [
      "/home/hyliu/.conda/envs/terada2019/lib/python3.7/site-packages/aplpy/core.py:249: RuntimeWarning: More than 20 figures have been opened. Figures created through the pyplot interface (`matplotlib.pyplot.figure`) are retained until explicitly closed and may consume too much memory. (To control this warning, see the rcParam `figure.max_open_warning`).\n",
      "  self._figure = plt.figure(**kwargs)\n"
     ]
    },
    {
     "name": "stdout",
     "output_type": "stream",
     "text": [
      "INFO: Auto-setting vmin to  1.164e+03 [aplpy.core]\n",
      "INFO: Auto-setting vmax to  1.962e+03 [aplpy.core]\n",
      "INFO: Auto-setting vmin to  1.164e+03 [aplpy.core]\n",
      "INFO: Auto-setting vmax to  1.931e+03 [aplpy.core]\n"
     ]
    },
    {
     "name": "stderr",
     "output_type": "stream",
     "text": [
      "/home/hyliu/.conda/envs/terada2019/lib/python3.7/site-packages/aplpy/core.py:249: RuntimeWarning: More than 20 figures have been opened. Figures created through the pyplot interface (`matplotlib.pyplot.figure`) are retained until explicitly closed and may consume too much memory. (To control this warning, see the rcParam `figure.max_open_warning`).\n",
      "  self._figure = plt.figure(**kwargs)\n"
     ]
    },
    {
     "name": "stdout",
     "output_type": "stream",
     "text": [
      "INFO: Auto-setting vmin to  9.560e+02 [aplpy.core]\n",
      "INFO: Auto-setting vmax to  2.009e+03 [aplpy.core]\n",
      "INFO: Auto-setting vmin to  9.386e+02 [aplpy.core]\n",
      "INFO: Auto-setting vmax to  2.190e+03 [aplpy.core]\n"
     ]
    },
    {
     "name": "stderr",
     "output_type": "stream",
     "text": [
      "/home/hyliu/.conda/envs/terada2019/lib/python3.7/site-packages/aplpy/core.py:249: RuntimeWarning: More than 20 figures have been opened. Figures created through the pyplot interface (`matplotlib.pyplot.figure`) are retained until explicitly closed and may consume too much memory. (To control this warning, see the rcParam `figure.max_open_warning`).\n",
      "  self._figure = plt.figure(**kwargs)\n"
     ]
    },
    {
     "name": "stdout",
     "output_type": "stream",
     "text": [
      "INFO: Auto-setting vmin to  1.150e+03 [aplpy.core]\n",
      "INFO: Auto-setting vmax to  1.566e+03 [aplpy.core]\n",
      "INFO: Auto-setting vmin to  1.151e+03 [aplpy.core]\n",
      "INFO: Auto-setting vmax to  1.561e+03 [aplpy.core]\n"
     ]
    },
    {
     "name": "stderr",
     "output_type": "stream",
     "text": [
      "/home/hyliu/.conda/envs/terada2019/lib/python3.7/site-packages/aplpy/core.py:249: RuntimeWarning: More than 20 figures have been opened. Figures created through the pyplot interface (`matplotlib.pyplot.figure`) are retained until explicitly closed and may consume too much memory. (To control this warning, see the rcParam `figure.max_open_warning`).\n",
      "  self._figure = plt.figure(**kwargs)\n"
     ]
    },
    {
     "name": "stdout",
     "output_type": "stream",
     "text": [
      "INFO: Auto-setting vmin to  8.693e+02 [aplpy.core]\n",
      "INFO: Auto-setting vmax to  1.386e+03 [aplpy.core]\n",
      "INFO: Auto-setting vmin to  8.802e+02 [aplpy.core]\n",
      "INFO: Auto-setting vmax to  1.277e+03 [aplpy.core]\n"
     ]
    },
    {
     "name": "stderr",
     "output_type": "stream",
     "text": [
      "/home/hyliu/.conda/envs/terada2019/lib/python3.7/site-packages/aplpy/core.py:249: RuntimeWarning: More than 20 figures have been opened. Figures created through the pyplot interface (`matplotlib.pyplot.figure`) are retained until explicitly closed and may consume too much memory. (To control this warning, see the rcParam `figure.max_open_warning`).\n",
      "  self._figure = plt.figure(**kwargs)\n"
     ]
    },
    {
     "name": "stdout",
     "output_type": "stream",
     "text": [
      "INFO: Auto-setting vmin to  1.125e+03 [aplpy.core]\n",
      "INFO: Auto-setting vmax to  2.006e+03 [aplpy.core]\n",
      "INFO: Auto-setting vmin to  1.128e+03 [aplpy.core]\n",
      "INFO: Auto-setting vmax to  1.997e+03 [aplpy.core]\n"
     ]
    },
    {
     "name": "stderr",
     "output_type": "stream",
     "text": [
      "/home/hyliu/.conda/envs/terada2019/lib/python3.7/site-packages/aplpy/core.py:249: RuntimeWarning: More than 20 figures have been opened. Figures created through the pyplot interface (`matplotlib.pyplot.figure`) are retained until explicitly closed and may consume too much memory. (To control this warning, see the rcParam `figure.max_open_warning`).\n",
      "  self._figure = plt.figure(**kwargs)\n"
     ]
    },
    {
     "name": "stdout",
     "output_type": "stream",
     "text": [
      "INFO: Auto-setting vmin to  8.900e+02 [aplpy.core]\n",
      "INFO: Auto-setting vmax to  1.374e+03 [aplpy.core]\n",
      "INFO: Auto-setting vmin to  8.910e+02 [aplpy.core]\n",
      "INFO: Auto-setting vmax to  1.315e+03 [aplpy.core]\n"
     ]
    },
    {
     "name": "stderr",
     "output_type": "stream",
     "text": [
      "/home/hyliu/.conda/envs/terada2019/lib/python3.7/site-packages/aplpy/core.py:249: RuntimeWarning: More than 20 figures have been opened. Figures created through the pyplot interface (`matplotlib.pyplot.figure`) are retained until explicitly closed and may consume too much memory. (To control this warning, see the rcParam `figure.max_open_warning`).\n",
      "  self._figure = plt.figure(**kwargs)\n"
     ]
    },
    {
     "name": "stdout",
     "output_type": "stream",
     "text": [
      "INFO: Auto-setting vmin to  2.036e+03 [aplpy.core]\n",
      "INFO: Auto-setting vmax to  3.024e+03 [aplpy.core]\n",
      "INFO: Auto-setting vmin to  2.037e+03 [aplpy.core]\n",
      "INFO: Auto-setting vmax to  3.024e+03 [aplpy.core]\n"
     ]
    },
    {
     "name": "stderr",
     "output_type": "stream",
     "text": [
      "/home/hyliu/.conda/envs/terada2019/lib/python3.7/site-packages/aplpy/core.py:249: RuntimeWarning: More than 20 figures have been opened. Figures created through the pyplot interface (`matplotlib.pyplot.figure`) are retained until explicitly closed and may consume too much memory. (To control this warning, see the rcParam `figure.max_open_warning`).\n",
      "  self._figure = plt.figure(**kwargs)\n"
     ]
    },
    {
     "name": "stdout",
     "output_type": "stream",
     "text": [
      "INFO: Auto-setting vmin to  1.009e+03 [aplpy.core]\n",
      "INFO: Auto-setting vmax to  1.732e+03 [aplpy.core]\n",
      "INFO: Auto-setting vmin to  9.962e+02 [aplpy.core]\n",
      "INFO: Auto-setting vmax to  1.865e+03 [aplpy.core]\n"
     ]
    },
    {
     "name": "stderr",
     "output_type": "stream",
     "text": [
      "/home/hyliu/.conda/envs/terada2019/lib/python3.7/site-packages/aplpy/core.py:249: RuntimeWarning: More than 20 figures have been opened. Figures created through the pyplot interface (`matplotlib.pyplot.figure`) are retained until explicitly closed and may consume too much memory. (To control this warning, see the rcParam `figure.max_open_warning`).\n",
      "  self._figure = plt.figure(**kwargs)\n"
     ]
    },
    {
     "name": "stdout",
     "output_type": "stream",
     "text": [
      "INFO: Auto-setting vmin to  4.551e+00 [aplpy.core]\n",
      "INFO: Auto-setting vmax to  2.384e+02 [aplpy.core]\n",
      "INFO: Auto-setting vmin to  9.830e+00 [aplpy.core]\n",
      "INFO: Auto-setting vmax to  1.700e+02 [aplpy.core]\n"
     ]
    }
   ],
   "source": [
    "dmtau = apt_pipe(data_path = r\"../3488473-dm tau\", markerfile   = './markers.txt', verbose=True)\n",
    "dmtau.plot_preview(label_marker=False)"
   ]
  },
  {
   "cell_type": "code",
   "execution_count": null,
   "metadata": {},
   "outputs": [],
   "source": [
    "!ls ../"
   ]
  },
  {
   "cell_type": "code",
   "execution_count": null,
   "metadata": {},
   "outputs": [],
   "source": [
    "'''\n",
    "# Directory for input image\n",
    "data_path   = r\"../3488473-dm tau\"\n",
    "\n",
    "# Defining output directories\n",
    "output_path_dict = {}\n",
    "output_path_dict['R'] = './R_maps'\n",
    "output_path_dict['V'] = './V_maps'\n",
    "output_path_dict['I'] = './I_maps'\n",
    "\n",
    "# set if we want to do photometry for objects in the markers list\n",
    "dophotometry     = True\n",
    "aperature_r_pix  = 10.0 # pixels\n",
    "if (dophotometry == True):\n",
    "    print(\"Will output photometry. Please define the output filename if not yet.\")\n",
    "    photometry_file_dict = {}\n",
    "    photometry_file_dict['R'] = './R_phot.txt'\n",
    "    photometry_file_dict['V'] = './V_phot.txt'\n",
    "    photometry_file_dict['I'] = './I_phot.txt'\n",
    "    \n",
    "\n",
    "# Output ASCII list for FITS images which do not possess coordinate headers\n",
    "f = open(\"NO_COORD_HEADER_list.txt\",\"w\")    \n",
    "    \n",
    "markerfile = './markers.txt'\n",
    "    \n",
    "# Preparation ##############################################################\n",
    "for key in output_path_dict.keys():\n",
    "    os.system('rm -rf ' + output_path_dict[key] )\n",
    "    os.system('mkdir '  + output_path_dict[key] )\n",
    "    \n",
    "if (dophotometry == True):\n",
    "    for key in photometry_file_dict.keys():\n",
    "        os.system('rm -rf ' + photometry_file_dict[key] )\n",
    "        photo_file = open(photometry_file_dict[key],\"a+\")\n",
    "        photo_file.write(\"# Data  target_name  JD  Counts\")\n",
    "\n",
    "num_markers = 0\n",
    "try:\n",
    "    marker_label = np.loadtxt(markerfile, comments='#', skiprows=0, usecols=0, dtype=np.str)\n",
    "    rah, ram, ras = np.loadtxt(markerfile, comments='#', skiprows=0, usecols=(1,2,3) )\n",
    "    decd, decm, decs = np.loadtxt(markerfile, comments='#', skiprows=0, usecols=(4,5,6) )\n",
    "    markerR, markerG, markerB = np.loadtxt(markerfile, comments='#', skiprows=0, usecols=(7,8,9) )\n",
    "    marker_alpha = np.loadtxt(markerfile, comments='#', skiprows=0, usecols=10)\n",
    "    marker_size  = np.loadtxt(markerfile, comments='#', skiprows=0, usecols=11)\n",
    "    \n",
    "    ra  = ( rah + ram / 60.0 + ras / 3600.0 ) * 15.0\n",
    "    if (decd > 0 ):\n",
    "        dec = decd + decm / 60.0 + decs / 3600.0\n",
    "    else:\n",
    "        dec = decd - decm / 60.0 - decs / 3600.0\n",
    "    num_markers = np.size(ra)\n",
    "    \n",
    "except:\n",
    "    print('No markers found')\n",
    "    \n",
    "images     = os.listdir( data_path )\n",
    "num_images = len(images)\n",
    "############################################################################\n",
    "    \n",
    "\n",
    "for i in range(0, num_images):\n",
    "    image_name = images[i]\n",
    "    \n",
    "    info = image_name.strip('.fits').split('_')\n",
    "    target_name    = info[0]\n",
    "    directory_name = info[1]\n",
    "    band           = info[2]\n",
    "    epoch_idx      = info[3]\n",
    "    \n",
    "    # open FITS image\n",
    "    hdulist = fits.open(data_path + '/' + image_name)\n",
    "    try:\n",
    "        crval1 = hdulist[0].header['crval1']\n",
    "        crval2 = hdulist[0].header['crval2']\n",
    "        date   = hdulist[0].header['date-obs']\n",
    "        jd     = hdulist[0].header['jd']\n",
    "    except:\n",
    "        print('Error, coordinate header of ' + image_name + ' does not exist.')\n",
    "        f.write( image_name + '\\n' )\n",
    "        continue\n",
    "\n",
    "    # loading image\n",
    "    if (dophotometry == True):\n",
    "        try:\n",
    "            image = hdulist[0].data\n",
    "            w = wcs.WCS(hdulist[0].header)\n",
    "        except:\n",
    "            print(\"Error loading image \" + directory_name + '_' + band + '_' + epoch_idx)\n",
    "        \n",
    "    \n",
    "    fig = aplpy.FITSFigure(data_path + '/' + image_name)\n",
    "    #fig.set_xaxis_coord_type('longitude')\n",
    "    #fig.set_yaxis_coord_type('latitude')\n",
    "    fig.axis_labels.hide()\n",
    "    fig.show_grayscale(invert=False)\n",
    "    \n",
    "    # mark stars\n",
    "    for j in range(0, num_markers):\n",
    "        # plot markers in the png figure\n",
    "        if (num_markers==1):\n",
    "            x, y = ra, dec\n",
    "            pixcrd2 = w.wcs_world2pix([ [x,y] ], 0)\n",
    "            xpix = pixcrd2[0][0]\n",
    "            ypix = pixcrd2[0][1]\n",
    "            mcolor = (markerR, markerG, markerB)\n",
    "            malpha = marker_alpha\n",
    "            msize  = marker_size\n",
    "            mlabel = str(marker_label)\n",
    "        else:\n",
    "            x, y = ra[j], dec[j]\n",
    "            mcolor = (markerR[j], markerG[j], markerB[j])\n",
    "            malpha = marker_alpha[j]\n",
    "            msize = marker_size[j]\n",
    "            mlabel = str(marker_label[j])\n",
    "        \n",
    "        fig.show_markers(\n",
    "                         x, y, \n",
    "                         edgecolor=mcolor, \n",
    "                         # facecolor=facecolor[plot_id],\n",
    "                         marker='o', s=msize, \n",
    "                         alpha=malpha\n",
    "                        )\n",
    "        fig.add_label(x, y, '  ' + mlabel, \n",
    "                      color=mcolor, fontsize=12, horizontalalignment='left')\n",
    "        \n",
    "        # optionally, do aperture photometry\n",
    "        if (dophotometry == True):              \n",
    "            # making photometry\n",
    "            xpix_min = int(round(xpix - aperature_r_pix*3) )\n",
    "            xpix_max = int(round(xpix + aperature_r_pix*3) )\n",
    "            ypix_min = int(round(ypix - aperature_r_pix*3) )\n",
    "            ypix_max = int(round(ypix + aperature_r_pix*3) )\n",
    "            try:\n",
    "                print(directory_name + '_' + band + '_' + epoch_idx)\n",
    "                crop = image[ypix_min:ypix_max, xpix_min:xpix_max].astype(float)\n",
    "                \n",
    "                # background subtraction\n",
    "                crop -= np.median(crop)\n",
    "                \n",
    "                # estimate pixel statistics\n",
    "                bkg_sigma = mad_std(crop)\n",
    "                \n",
    "                # find stars\n",
    "                daofind = DAOStarFinder(fwhm= aperature_r_pix/2.0, threshold=5.*bkg_sigma)\n",
    "                sources = daofind(crop)\n",
    "\n",
    "                \n",
    "                mxcentroid_array = np.array( sources['xcentroid'] )\n",
    "                mycentroid_array = np.array( sources['ycentroid'] )\n",
    "                mpeak_array      = np.array( sources['peak']      )\n",
    "                \n",
    "                if ( len(mpeak_array) > 0 ):\n",
    "                    # Very ugly code here due to unfamiliar with python.\n",
    "                    # need to update. Baobab, 2019.Dec.25\n",
    "                    index_array = range(0, len(mpeak_array) )\n",
    "                    xindex = np.max(np.where( mpeak_array == np.max(mpeak_array), index_array, -1))\n",
    "                    yindex = np.max(np.where( mpeak_array == np.max(mpeak_array), index_array, -1))\n",
    "                    mxcentroid = mxcentroid_array[xindex]\n",
    "                    mycentroid = mycentroid_array[yindex]\n",
    "                    positions = np.transpose((mxcentroid, mycentroid))\n",
    "                    apertures = CircularAperture(positions, aperature_r_pix)\n",
    "                    phot_table = aperture_photometry(crop, apertures)\n",
    "                    counts    = phot_table['aperture_sum'][0]\n",
    "\n",
    "                    try:\n",
    "                        photo_file = open(photometry_file_dict[band],\"a+\")\n",
    "                        outtext     = directory_name + '_' + band + '_' + epoch_idx + '  ' + \\\n",
    "                                      str(marker_label) + '   ' + \\\n",
    "                                      str(jd).strip() + '   ' + \\\n",
    "                                      str(counts) + '   \\n'\n",
    "                        photo_file.write(outtext)\n",
    "                        photo_file.close()\n",
    "                    except:\n",
    "                        print('Error opening output file. ' + directory_name + '_' + band + '_' + epoch_idx)\n",
    "                    \n",
    "                else:\n",
    "                    print(\"No source found in\" + directory_name + '_' + band + '_' + epoch_idx)\n",
    "                    \n",
    "                \n",
    "            except:\n",
    "                print(\"Error making photometry \" + directory_name + '_' + band + '_' + epoch_idx)\n",
    "                \n",
    "            \n",
    "        \n",
    "    # label date\n",
    "    date_label = 'Date : ' + date + '  JD : ' + str(jd).strip() + '   Band : ' + band  \n",
    "    fig.add_label(0.02, 0.95, date_label, relative=True, \n",
    "                  color=(0,1,1,1),\n",
    "                  fontsize=9, horizontalalignment='left')\n",
    "\n",
    "\n",
    "    \n",
    "    outfig_name = directory_name + '_' + band + '_' + epoch_idx + '.png'\n",
    "    \n",
    "    fig.save(outfig_name)    \n",
    "    os.system('mv ' + outfig_name + ' ' + output_path_dict[band] )\n",
    "    \n",
    "    # close FITS image\n",
    "    hdulist.close()\n",
    "    \n",
    "f.close()\n",
    "'''"
   ]
  },
  {
   "cell_type": "code",
   "execution_count": null,
   "metadata": {},
   "outputs": [],
   "source": [
    "test = []\n",
    "test.append('I')\n",
    "test.append('J')\n",
    "print(test)"
   ]
  },
  {
   "cell_type": "code",
   "execution_count": null,
   "metadata": {},
   "outputs": [],
   "source": []
  },
  {
   "cell_type": "code",
   "execution_count": null,
   "metadata": {},
   "outputs": [],
   "source": []
  }
 ],
 "metadata": {
  "kernelspec": {
   "display_name": "Python 3",
   "language": "python",
   "name": "python3"
  },
  "language_info": {
   "codemirror_mode": {
    "name": "ipython",
    "version": 3
   },
   "file_extension": ".py",
   "mimetype": "text/x-python",
   "name": "python",
   "nbconvert_exporter": "python",
   "pygments_lexer": "ipython3",
   "version": "3.7.5"
  }
 },
 "nbformat": 4,
 "nbformat_minor": 2
}
