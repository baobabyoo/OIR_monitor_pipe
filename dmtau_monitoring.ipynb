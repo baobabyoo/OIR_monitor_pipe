{
 "cells": [
  {
   "cell_type": "markdown",
   "metadata": {},
   "source": [
    "# Making Plots from Original images"
   ]
  },
  {
   "cell_type": "code",
   "execution_count": 1,
   "metadata": {},
   "outputs": [],
   "source": [
    "#### Conda environment\n",
    "# conda create --name terada2019 python=3.7\n",
    "# pip install --upgrade pip\n",
    "# pip install astropy scipy\n",
    "# pip install photutils\n",
    "# pip install jupyter matplotlib h5py aplpy pyregion PyAVM healpy"
   ]
  },
  {
   "cell_type": "code",
   "execution_count": 2,
   "metadata": {},
   "outputs": [],
   "source": [
    "import os\n",
    "import sys\n",
    "import time\n",
    "sys.path\n",
    "sys.path.append('./')\n",
    "\n",
    "import numpy as np\n",
    "from astropy.stats import mad_std\n",
    "\n",
    "from photutils import datasets\n",
    "from photutils import DAOStarFinder\n",
    "from photutils import aperture_photometry, CircularAperture\n",
    "\n",
    "import aplpy\n",
    "from astropy.io.fits import getdata\n",
    "from astropy import wcs\n",
    "from astropy.io import fits\n",
    "from astropy import units as u\n",
    "from astropy import constants as con\n",
    "from astropy.coordinates import SkyCoord\n",
    "from mpl_toolkits.axes_grid1.inset_locator import zoomed_inset_axes\n",
    "from mpl_toolkits.axes_grid1.inset_locator import mark_inset\n",
    "\n",
    "import matplotlib\n",
    "matplotlib.use('PDF')\n",
    "import matplotlib.pyplot as plt\n",
    "from matplotlib.colors import BoundaryNorm\n",
    "from matplotlib.ticker import MaxNLocator\n",
    "# %matplotlib inline"
   ]
  },
  {
   "cell_type": "markdown",
   "metadata": {},
   "source": [
    "#### Format of marker file:\n",
    "\n",
    "name, ra_h ra_m ra_s dec_d dec_m dec_s  R:0-1 G:0-1 B:0-1 alpha  size\n",
    "\n",
    "dm_tau  04 33 48.7335659850  +18 10 09.974471722  1 0.2 0.2 1.0 2.0"
   ]
  },
  {
   "cell_type": "markdown",
   "metadata": {},
   "source": [
    "## Defining a aperture photometry pipeline class"
   ]
  },
  {
   "cell_type": "code",
   "execution_count": 5,
   "metadata": {},
   "outputs": [],
   "source": [
    "class marker:\n",
    "    '''\n",
    "    Class for marker objects\n",
    "    '''\n",
    "    \n",
    "    def __init__(self, label='unknown_marker'):\n",
    "        self.label = label\n",
    "        self.ra  = 0.0\n",
    "        self.dec  = 0.0\n",
    "        self.color = (0,0,0)\n",
    "        self.alpha = 1.0\n",
    "        self.size  = 1.0\n",
    "    \n",
    "    def __del__(self):\n",
    "        pass\n",
    "        \n",
    "\n",
    "class apt_pipe:\n",
    "    '''\n",
    "    Class for apeture photometry pipeline.\n",
    "    \n",
    "    History:\n",
    "    1. Basic version developed.  (Baobab Liu, 2019, Dec.07)\n",
    "    \n",
    "    2 Required Conda enviornment:\n",
    "    # conda create --name terada2019 python=3.7\n",
    "    # pip install --upgrade pip\n",
    "    # pip install astropy scipy\n",
    "    # pip install photutils\n",
    "    # pip install jupyter matplotlib h5py aplpy pyregion PyAVM healpy\n",
    "    \n",
    "    '''\n",
    "\n",
    "    \n",
    "    def __init__(self, data_path = './',\n",
    "                 markerfile   = './markers.txt',\n",
    "                 ascii_report = './ascii_report.txt',\n",
    "                 verbose      = False\n",
    "                ):\n",
    "        '''\n",
    "        Initializer of the class.\n",
    "        It first load image names from the FITS image directory.\n",
    "        Then it checks the integrity of the FITS image headers,\n",
    "        and dump report to an ASCII file.\n",
    "        Finally, it loads the coordinate of the markerfile if any.\n",
    "        \n",
    "        Keywords:\n",
    "        \n",
    "        data_path [string] or list of [string] : Default: './'.\n",
    "                  Can either load data from one specified directory or a list of \n",
    "                  specified directory.\n",
    "        \n",
    "        markerfile [string]   : File name of one or a list of markers.\n",
    "                  Format :\n",
    "                  name, ra_h ra_m ra_s dec_d dec_m dec_s R:0-1 G:0-1 B:0-1 alpha size\n",
    "                  Example :\n",
    "                  dm_tau  04 33 48.7335659850 +18 10 09.974471722   1 0.2 0.2 1.0 2.0\n",
    "                  test    04 33 48.7335659850  +18 10 49.974471722  0.0 1.0 0 1.0 30.0\n",
    "        \n",
    "        ascii_report [string] :\n",
    "        \n",
    "        verbose   [True]      : Verbosely dump the status of the data.\n",
    "        \n",
    "        '''\n",
    "                                        \n",
    "        self.data_path  = data_path\n",
    "        self.markerfile = markerfile\n",
    "        self.verbose    = verbose\n",
    "        self.num_images = 0\n",
    "        self.num_markers = 0\n",
    "        \n",
    "        # initialize variables\n",
    "        os.system('rm -rf ' + ascii_report)\n",
    "        F_report = open(\"ascii_report.txt\",\"w+\")\n",
    "        self.data_path_list = []\n",
    "        self.num_data_path  = 0\n",
    "        self.filterlist     = []\n",
    "        self.images         = []\n",
    "        self.path_dict      = {}\n",
    "        self.band_dict      = {}\n",
    "        self.date_dict      = {}\n",
    "        self.jd_dict        = {}\n",
    "        self.marker_list    = []\n",
    "        \n",
    "        # load image names\n",
    "        if ( type(data_path) == str ):\n",
    "            self.data_path_list.append(data_path)\n",
    "            self.num_data_path = 1\n",
    "            if (verbose==True):\n",
    "                print('Loading FITS image from single directory : ' + data_path)\n",
    "                \n",
    "        if ( type(data_path) == list ):\n",
    "            self.data_path_list.extend(data_path)\n",
    "            self.num_data_path = len( self.data_path_list )\n",
    "            if (verbose==True):\n",
    "                for data_idx in range(0, len(data_path) ):\n",
    "                    print('Loading FITS image from : ' + data_path[data_idx])\n",
    "                            \n",
    "        try:\n",
    "            for data_idx in range(0, self.num_data_path):\n",
    "                self.images.extend(  os.listdir( self.data_path_list[data_idx] )  )\n",
    "                temp_names = os.listdir( self.data_path_list[data_idx] )\n",
    "                # self.num_images = self.num_images + len( temp_names )\n",
    "                for name in temp_names:\n",
    "                    self.path_dict[name] = self.data_path_list[data_idx]\n",
    "            self.num_images = len( self.images )\n",
    "                \n",
    "            if ( verbose == True ):\n",
    "                print('##############################################################')\n",
    "                print('Processing ' + str(self.num_images).strip() + ' images \\n')\n",
    "                print('##############################################################')\n",
    "        except:\n",
    "            print('No image found')\n",
    "            \n",
    "            \n",
    "        # checking integrity of FITS headers\n",
    "        F_report.write('FITS header integrity: \\n')\n",
    "        for i in range(0, self.num_images):\n",
    "            \n",
    "            image_name = self.images[i]\n",
    "            hdulist = fits.open( self.path_dict[image_name] + '/' + image_name)\n",
    "            try:\n",
    "                crval1 = hdulist[0].header['crval1']\n",
    "                crval2 = hdulist[0].header['crval2']\n",
    "            except:\n",
    "                if (verbose == True ):\n",
    "                    print('Warning, coordinate header of ' + image_name + ' does not exist.')\n",
    "                F_report.write( image_name + ' has no coordinate header \\n' )\n",
    "                continue\n",
    "                \n",
    "            try:\n",
    "                date   = hdulist[0].header['date-obs']\n",
    "                jd     = hdulist[0].header['jd']\n",
    "                self.date_dict[image_name] = date\n",
    "                self.jd_dict[image_name]  = jd\n",
    "            except:\n",
    "                if (verbose == True ):\n",
    "                    print('Warning. Observing date of ' + image_name + ' is not known.')\n",
    "                F_report.write( image_name + ' has no observing time information \\n' )\n",
    "                continue\n",
    "                \n",
    "            try:\n",
    "                band   = hdulist[0].header['filter']\n",
    "                if (band not in self.filterlist):\n",
    "                    self.filterlist.append(band)\n",
    "                self.band_dict[image_name] = band\n",
    "            except:\n",
    "                if (verbose == True ):\n",
    "                    print('Warning. Filter name of ' + image_name + ' does not exist.')\n",
    "                F_report.write( image_name + ' has unknown filter band. \\n' )\n",
    "                continue\n",
    "                \n",
    "        F_report.write('\\n')\n",
    "        \n",
    "        # load markers if there is\n",
    "        try:\n",
    "            marker_label     = np.loadtxt(markerfile, comments='#', skiprows=0, usecols=0, dtype=np.str)\n",
    "            rah              = np.loadtxt(markerfile, comments='#', skiprows=0, usecols=1 )\n",
    "            ram              = np.loadtxt(markerfile, comments='#', skiprows=0, usecols=2 )\n",
    "            ras              = np.loadtxt(markerfile, comments='#', skiprows=0, usecols=3 )\n",
    "            decd             = np.loadtxt(markerfile, comments='#', skiprows=0, usecols=4 )\n",
    "            decm             = np.loadtxt(markerfile, comments='#', skiprows=0, usecols=5 )\n",
    "            decs             = np.loadtxt(markerfile, comments='#', skiprows=0, usecols=6 )\n",
    "            markerR          = np.loadtxt(markerfile, comments='#', skiprows=0, usecols=7 )\n",
    "            markerG          = np.loadtxt(markerfile, comments='#', skiprows=0, usecols=8 )\n",
    "            markerB          = np.loadtxt(markerfile, comments='#', skiprows=0, usecols=9 )\n",
    "            marker_alpha     = np.loadtxt(markerfile, comments='#', skiprows=0, usecols=10)\n",
    "            marker_size      = np.loadtxt(markerfile, comments='#', skiprows=0, usecols=11)\n",
    "                        \n",
    "            ra  = ( rah + ram / 60.0 + ras / 3600.0 ) * 15.0\n",
    "            dec_sign = np.where( (decd>0), 1.0, -1.0)\n",
    "            dec      = decd + dec_sign * decm / 60.0 + dec_sign * decs / 3600.0\n",
    "                \n",
    "            self.num_markers = np.size(ra)\n",
    "            if (verbose == True):\n",
    "                print('Number of markers : ' + str(self.num_markers).strip() )\n",
    "                \n",
    "            # loading to marker objects\n",
    "            for mid in range(0, self.num_markers):\n",
    "                if (self.num_markers > 1):\n",
    "                    temp_marker       = marker(label=marker_label[mid])\n",
    "                    temp_marker.ra    = ra[mid] \n",
    "                    temp_marker.dec   = dec[mid]\n",
    "                    temp_marker.color = (markerR[mid], markerG[mid], markerB[mid])\n",
    "                    temp_marker.alpha = (marker_alpha[mid])\n",
    "                    temp_marker.size  = (marker_size[mid])\n",
    "                    self.marker_list.append(temp_marker)\n",
    "                else:\n",
    "                    temp_marker       = marker(label=marker_label)\n",
    "                    temp_marker.ra    = ra\n",
    "                    temp_marker.dec   = dec\n",
    "                    temp_marker.color = (markerR, markerG, markerB)\n",
    "                    temp_marker.alpha = (marker_alpha)\n",
    "                    temp_marker.size  = (marker_size)\n",
    "                    self.marker_list.append(temp_marker)\n",
    "            \n",
    "        except:\n",
    "            if (verbose == True):\n",
    "                print('No markers loaded')\n",
    "\n",
    "        # Dumping more information ot the report\n",
    "        # filters\n",
    "        F_report.write('Used filters: \\n')\n",
    "        outstring = ' '\n",
    "        for tempstr in self.filterlist:\n",
    "            outstring = outstring + tempstr + ' '\n",
    "        F_report.write(outstring + '\\n')\n",
    "        \n",
    "        F_report.close()\n",
    "\n",
    "        \n",
    "        \n",
    "    def __del__(self):\n",
    "        pass\n",
    "    \n",
    "    \n",
    "    \n",
    "    def plot_preview(self, output_directory='./preview_images',\n",
    "                     label_marker=True,\n",
    "                     fig_format='png'\n",
    "                    ):\n",
    "        '''\n",
    "        Function to plot the preview figures for FITS imagfes.\n",
    "        It will produce figures for the observed images (one sub-directory for each band),\n",
    "        and collect them into an output_directory.\n",
    "        \n",
    "        \n",
    "        Keywords:\n",
    "        \n",
    "        output_directory [string] : The directory to collect the output images.\n",
    "        \n",
    "        label_marker [True/False] : If True, label the names of the markers on the figure.\n",
    "        \n",
    "        fig_format   [string]     : 'png' or 'pdf'\n",
    "        '''\n",
    "        \n",
    "        F_report = open(\"ascii_report.txt\",\"a+\")\n",
    "        F_report.write('\\n')\n",
    "        F_report.write('Image preview summary: \\n')\n",
    "        \n",
    "        os.system('rm -rf ' + output_directory)\n",
    "        os.system('mkdir '  + output_directory)\n",
    "        \n",
    "        output_path_dict = {}\n",
    "        for tempstr in self.filterlist:\n",
    "            output_path_dict[tempstr] = './' + tempstr + 'band_maps'\n",
    "            \n",
    "        for key in output_path_dict.keys():\n",
    "            os.system('rm -rf ' + output_path_dict[key] )\n",
    "            os.system('mkdir '  + output_path_dict[key] )\n",
    "            \n",
    "        # plot images\n",
    "        for i in range(0, self.num_images):\n",
    "            image_name = self.images[i]\n",
    "            try:\n",
    "                band       = self.band_dict[image_name]\n",
    "                jd         = self.jd_dict[image_name]\n",
    "            except:\n",
    "                F_report.write('Warning. Image ' +  image_name + ' is not saved. \\n')\n",
    "                continue\n",
    "            \n",
    "            # plot image\n",
    "            fig = aplpy.FITSFigure( self.path_dict[image_name] + '/' + image_name)\n",
    "            fig.show_grayscale(invert=False)\n",
    "            \n",
    "            # plot symbol\n",
    "            \n",
    "            # define output figure name\n",
    "            try:\n",
    "                outfig_name = \\\n",
    "                              band + '_' + \\\n",
    "                              str( round(jd,4) ) + '.' + fig_format\n",
    "                # fig.set_xaxis_coord_type('longitude')\n",
    "                # fig.set_yaxis_coord_type('latitude')\n",
    "                fig.axis_labels.hide()\n",
    "                fig.show_grayscale(invert=False)\n",
    "            except:\n",
    "                if (self.verbose == True):\n",
    "                    F_report.write('Warning. Image ' +  image_name + ' is not saved. \\n')\n",
    "                    \n",
    "            # plot markers\n",
    "            for marker in self.marker_list:\n",
    "                # plot markers in the png figure\n",
    "                fig.show_markers(\n",
    "                                 marker.ra, marker.dec, \n",
    "                                 edgecolor=marker.color, \n",
    "                                 # facecolor=facecolor[plot_id],\n",
    "                                 marker='o', s=marker.size, \n",
    "                                 alpha=marker.alpha\n",
    "                                )\n",
    "                \n",
    "                if (label_marker == True):\n",
    "                    label = marker.label\n",
    "                else:\n",
    "                    label = ' '\n",
    "                    \n",
    "                fig.add_label(marker.ra, marker.dec, '  ' + label, \n",
    "                              color=marker.color, fontsize=12, horizontalalignment='left')\n",
    "                \n",
    "            # label date\n",
    "            try:\n",
    "                date = self.date_dict[image_name].strip()\n",
    "            except:\n",
    "                date = 'unknown_date'\n",
    "                \n",
    "            date_label = 'Date : ' + date + '  JD : ' \\\n",
    "                         +  str(jd).strip()                    \\\n",
    "                         + '   Band : ' + band  \n",
    "            fig.add_label(0.02, 0.95, date_label, relative=True, \n",
    "                         color=(0,1,1,1),\n",
    "                         fontsize=9, horizontalalignment='left')\n",
    "                    \n",
    "            fig.axis_labels.hide()\n",
    "            fig.save(outfig_name)    \n",
    "            os.system('mv ' + outfig_name + ' ' + output_path_dict[band] )\n",
    "            \n",
    "        # pack output maps to be under the same directory\n",
    "        for key in output_path_dict.keys():\n",
    "            os.system('mv ' + output_path_dict[key] + ' ./' +  output_directory)   \n",
    "            \n",
    "        F_report.close()"
   ]
  },
  {
   "cell_type": "code",
   "execution_count": 6,
   "metadata": {},
   "outputs": [
    {
     "data": {
      "text/plain": [
       "'\\ndmtau = apt_pipe(data_path = r\"../3486034-dm tau\",\\n                 markerfile   = \\'./markers.txt\\', verbose=True)\\ndmtau.plot_preview(label_marker=False)\\n'"
      ]
     },
     "execution_count": 6,
     "metadata": {},
     "output_type": "execute_result"
    }
   ],
   "source": [
    "'''\n",
    "dmtau = apt_pipe(data_path = r\"../3486034-dm tau\",\n",
    "                 markerfile   = './markers.txt', verbose=True)\n",
    "dmtau.plot_preview(label_marker=False)\n",
    "'''"
   ]
  },
  {
   "cell_type": "code",
   "execution_count": 7,
   "metadata": {},
   "outputs": [
    {
     "name": "stdout",
     "output_type": "stream",
     "text": [
      "Loading FITS image from : ../3463766-dm tau\n",
      "Loading FITS image from : ../3486034-dm tau\n",
      "Loading FITS image from : ../3488473-dm tau\n",
      "##############################################################\n",
      "Processing 117 images \n",
      "\n",
      "##############################################################\n",
      "Warning, coordinate header of dm tau_3463766_V_002.fits does not exist.\n",
      "Warning, coordinate header of dm tau_3463766_I_008.fits does not exist.\n",
      "Warning, coordinate header of dm tau_3463766_V_000.fits does not exist.\n",
      "Warning, coordinate header of dm tau_3463766_R_004.fits does not exist.\n",
      "Warning, coordinate header of dm tau_3463766_R_005.fits does not exist.\n",
      "Warning, coordinate header of dm tau_3463766_R_003.fits does not exist.\n",
      "Warning, coordinate header of dm tau_3463766_I_006.fits does not exist.\n",
      "Warning, coordinate header of dm tau_3463766_I_007.fits does not exist.\n",
      "Warning, coordinate header of dm tau_3463766_V_001.fits does not exist.\n",
      "Warning, coordinate header of dm tau_3488473_I_047.fits does not exist.\n",
      "Number of markers : 2\n",
      "##### Processing image 0   dm tau_3463766_V_002.fits\n",
      "##### Processing image 1   dm tau_3463766_I_015.fits\n",
      "INFO: Auto-setting vmin to  9.589e+02 [aplpy.core]\n",
      "INFO: Auto-setting vmax to  1.444e+03 [aplpy.core]\n",
      "INFO: Auto-setting vmin to  9.507e+02 [aplpy.core]\n",
      "INFO: Auto-setting vmax to  1.499e+03 [aplpy.core]\n",
      "#### 1 ### 2458491.56799249 ### I_2458491.568.png\n",
      "##### saving image 1   dm tau_3463766_I_015.fits\n",
      "##### Processing image 2   dm tau_3463766_I_008.fits\n",
      "##### Processing image 3   dm tau_3463766_V_019.fits\n",
      "INFO: Auto-setting vmin to  5.437e+00 [aplpy.core]\n",
      "INFO: Auto-setting vmax to  1.692e+02 [aplpy.core]\n",
      "INFO: Auto-setting vmin to  6.559e+00 [aplpy.core]\n",
      "INFO: Auto-setting vmax to  1.937e+02 [aplpy.core]\n",
      "#### 3 ### 2458492.56429361 ### V_2458492.5643.png\n",
      "##### saving image 3   dm tau_3463766_V_019.fits\n",
      "##### Processing image 4   dm tau_3463766_V_000.fits\n",
      "##### Processing image 5   dm tau_3463766_R_021.fits\n",
      "INFO: Auto-setting vmin to  9.426e+02 [aplpy.core]\n",
      "INFO: Auto-setting vmax to  1.540e+03 [aplpy.core]\n",
      "INFO: Auto-setting vmin to  9.355e+02 [aplpy.core]\n",
      "INFO: Auto-setting vmax to  1.643e+03 [aplpy.core]\n",
      "#### 5 ### 2458492.56588635 ### R_2458492.5659.png\n",
      "##### saving image 5   dm tau_3463766_R_021.fits\n",
      "##### Processing image 6   dm tau_3463766_V_018.fits\n",
      "INFO: Auto-setting vmin to -2.952e+00 [aplpy.core]\n",
      "INFO: Auto-setting vmax to  2.727e+02 [aplpy.core]\n",
      "INFO: Auto-setting vmin to  4.555e+00 [aplpy.core]\n",
      "INFO: Auto-setting vmax to  2.032e+02 [aplpy.core]\n",
      "#### 6 ### 2458492.56343425 ### V_2458492.5634.png\n",
      "##### saving image 6   dm tau_3463766_V_018.fits\n",
      "##### Processing image 7   dm tau_3463766_I_026.fits\n",
      "INFO: Auto-setting vmin to  9.669e+02 [aplpy.core]\n",
      "INFO: Auto-setting vmax to  1.513e+03 [aplpy.core]\n",
      "INFO: Auto-setting vmin to  9.789e+02 [aplpy.core]\n",
      "INFO: Auto-setting vmax to  1.404e+03 [aplpy.core]\n",
      "#### 7 ### 2458492.569831 ### I_2458492.5698.png\n",
      "##### saving image 7   dm tau_3463766_I_026.fits\n",
      "##### Processing image 8   dm tau_3463766_I_025.fits\n",
      "INFO: Auto-setting vmin to  9.794e+02 [aplpy.core]\n",
      "INFO: Auto-setting vmax to  1.398e+03 [aplpy.core]\n",
      "INFO: Auto-setting vmin to  9.737e+02 [aplpy.core]\n",
      "INFO: Auto-setting vmax to  1.510e+03 [aplpy.core]\n",
      "#### 8 ### 2458492.56903694 ### I_2458492.569.png\n",
      "##### saving image 8   dm tau_3463766_I_025.fits\n",
      "##### Processing image 9   dm tau_3463766_I_033.fits\n",
      "INFO: Auto-setting vmin to  9.981e+02 [aplpy.core]\n",
      "INFO: Auto-setting vmax to  1.384e+03 [aplpy.core]\n",
      "INFO: Auto-setting vmin to  9.831e+02 [aplpy.core]\n",
      "INFO: Auto-setting vmax to  1.551e+03 [aplpy.core]\n",
      "#### 9 ### 2458493.56853693 ### I_2458493.5685.png\n",
      "##### saving image 9   dm tau_3463766_I_033.fits\n",
      "##### Processing image 10   dm tau_3463766_V_027.fits\n",
      "INFO: Auto-setting vmin to  6.188e+00 [aplpy.core]\n",
      "INFO: Auto-setting vmax to  1.765e+02 [aplpy.core]\n",
      "INFO: Auto-setting vmin to  9.888e+00 [aplpy.core]\n",
      "INFO: Auto-setting vmax to  1.629e+02 [aplpy.core]\n",
      "#### 10 ### 2458493.56380615 ### V_2458493.5638.png\n",
      "##### saving image 10   dm tau_3463766_V_027.fits\n",
      "##### Processing image 11   dm tau_3463766_R_004.fits\n",
      "##### Processing image 12   dm tau_3463766_R_014.fits\n",
      "INFO: Auto-setting vmin to  9.460e+02 [aplpy.core]\n",
      "INFO: Auto-setting vmax to  1.430e+03 [aplpy.core]\n",
      "INFO: Auto-setting vmin to  9.396e+02 [aplpy.core]\n",
      "INFO: Auto-setting vmax to  1.513e+03 [aplpy.core]\n",
      "#### 12 ### 2458491.567211 ### R_2458491.5672.png\n",
      "##### saving image 12   dm tau_3463766_R_014.fits\n",
      "##### Processing image 13   dm tau_3463766_R_005.fits\n",
      "##### Processing image 14   dm tau_3463766_R_003.fits\n",
      "##### Processing image 15   dm tau_3463766_R_023.fits\n",
      "INFO: Auto-setting vmin to  9.565e+02 [aplpy.core]\n",
      "INFO: Auto-setting vmax to  1.398e+03 [aplpy.core]\n",
      "INFO: Auto-setting vmin to  9.441e+02 [aplpy.core]\n",
      "INFO: Auto-setting vmax to  1.560e+03 [aplpy.core]\n",
      "#### 15 ### 2458492.56745289 ### R_2458492.5675.png\n",
      "##### saving image 15   dm tau_3463766_R_023.fits\n",
      "##### Processing image 16   dm tau_3463766_R_030.fits\n",
      "INFO: Auto-setting vmin to  9.447e+02 [aplpy.core]\n",
      "INFO: Auto-setting vmax to  1.517e+03 [aplpy.core]\n",
      "INFO: Auto-setting vmin to  9.457e+02 [aplpy.core]\n",
      "INFO: Auto-setting vmax to  1.518e+03 [aplpy.core]\n",
      "#### 16 ### 2458493.56618446 ### R_2458493.5662.png\n",
      "##### saving image 16   dm tau_3463766_R_030.fits\n",
      "##### Processing image 17   dm tau_3463766_I_024.fits\n",
      "INFO: Auto-setting vmin to  9.777e+02 [aplpy.core]\n",
      "INFO: Auto-setting vmax to  1.465e+03 [aplpy.core]\n",
      "INFO: Auto-setting vmin to  9.664e+02 [aplpy.core]\n",
      "INFO: Auto-setting vmax to  1.603e+03 [aplpy.core]\n",
      "#### 17 ### 2458492.56823317 ### I_2458492.5682.png\n",
      "##### saving image 17   dm tau_3463766_I_024.fits\n",
      "##### Processing image 18   dm tau_3463766_V_011.fits\n",
      "INFO: Auto-setting vmin to  2.808e-01 [aplpy.core]\n",
      "INFO: Auto-setting vmax to  2.127e+02 [aplpy.core]\n",
      "INFO: Auto-setting vmin to -1.901e+00 [aplpy.core]\n",
      "INFO: Auto-setting vmax to  2.116e+02 [aplpy.core]\n",
      "#### 18 ### 2458491.5648587 ### V_2458491.5649.png\n",
      "##### saving image 18   dm tau_3463766_V_011.fits\n",
      "##### Processing image 19   dm tau_3463766_I_034.fits\n",
      "INFO: Auto-setting vmin to  9.731e+02 [aplpy.core]\n",
      "INFO: Auto-setting vmax to  1.637e+03 [aplpy.core]\n",
      "INFO: Auto-setting vmin to  9.866e+02 [aplpy.core]\n",
      "INFO: Auto-setting vmax to  1.500e+03 [aplpy.core]\n",
      "#### 19 ### 2458493.569325 ### I_2458493.5693.png\n",
      "##### saving image 19   dm tau_3463766_I_034.fits\n",
      "##### Processing image 20   dm tau_3463766_R_022.fits\n",
      "INFO: Auto-setting vmin to  9.524e+02 [aplpy.core]\n",
      "INFO: Auto-setting vmax to  1.468e+03 [aplpy.core]\n",
      "INFO: Auto-setting vmin to  9.612e+02 [aplpy.core]\n",
      "INFO: Auto-setting vmax to  1.358e+03 [aplpy.core]\n",
      "#### 20 ### 2458492.56666817 ### R_2458492.5667.png\n",
      "##### saving image 20   dm tau_3463766_R_022.fits\n",
      "##### Processing image 21   dm tau_3463766_I_006.fits\n",
      "##### Processing image 22   dm tau_3463766_I_016.fits\n",
      "INFO: Auto-setting vmin to  9.487e+02 [aplpy.core]\n",
      "INFO: Auto-setting vmax to  1.545e+03 [aplpy.core]\n",
      "INFO: Auto-setting vmin to  9.570e+02 [aplpy.core]\n",
      "INFO: Auto-setting vmax to  1.441e+03 [aplpy.core]\n",
      "#### 22 ### 2458491.56877346 ### I_2458491.5688.png\n",
      "##### saving image 22   dm tau_3463766_I_016.fits\n",
      "##### Processing image 23   dm tau_3463766_R_013.fits\n",
      "INFO: Auto-setting vmin to  9.487e+02 [aplpy.core]\n",
      "INFO: Auto-setting vmax to  1.400e+03 [aplpy.core]\n",
      "INFO: Auto-setting vmin to  9.460e+02 [aplpy.core]\n",
      "INFO: Auto-setting vmax to  1.454e+03 [aplpy.core]\n",
      "#### 23 ### 2458491.56643016 ### R_2458491.5664.png\n",
      "##### saving image 23   dm tau_3463766_R_013.fits\n",
      "##### Processing image 24   dm tau_3463766_R_032.fits\n",
      "INFO: Auto-setting vmin to  9.516e+02 [aplpy.core]\n",
      "INFO: Auto-setting vmax to  1.440e+03 [aplpy.core]\n",
      "INFO: Auto-setting vmin to  9.443e+02 [aplpy.core]\n",
      "INFO: Auto-setting vmax to  1.522e+03 [aplpy.core]\n",
      "#### 24 ### 2458493.567761 ### R_2458493.5678.png\n",
      "##### saving image 24   dm tau_3463766_R_032.fits\n",
      "##### Processing image 25   dm tau_3463766_V_009.fits\n",
      "INFO: Auto-setting vmin to  6.415e-01 [aplpy.core]\n",
      "INFO: Auto-setting vmax to  1.857e+02 [aplpy.core]\n",
      "INFO: Auto-setting vmin to  3.326e+00 [aplpy.core]\n",
      "INFO: Auto-setting vmax to  1.751e+02 [aplpy.core]\n",
      "#### 25 ### 2458491.56320821 ### V_2458491.5632.png\n",
      "##### saving image 25   dm tau_3463766_V_009.fits\n"
     ]
    },
    {
     "name": "stdout",
     "output_type": "stream",
     "text": [
      "##### Processing image 26   dm tau_3463766_V_028.fits\n",
      "INFO: Auto-setting vmin to  3.702e+00 [aplpy.core]\n",
      "INFO: Auto-setting vmax to  2.123e+02 [aplpy.core]\n",
      "INFO: Auto-setting vmin to  2.828e+00 [aplpy.core]\n",
      "INFO: Auto-setting vmax to  2.263e+02 [aplpy.core]\n",
      "#### 26 ### 2458493.56462337 ### V_2458493.5646.png\n",
      "##### saving image 26   dm tau_3463766_V_028.fits\n",
      "##### Processing image 27   dm tau_3463766_V_010.fits\n",
      "INFO: Auto-setting vmin to  5.491e+00 [aplpy.core]\n",
      "INFO: Auto-setting vmax to  1.342e+02 [aplpy.core]\n",
      "INFO: Auto-setting vmin to  1.584e+00 [aplpy.core]\n",
      "INFO: Auto-setting vmax to  1.607e+02 [aplpy.core]\n",
      "#### 27 ### 2458491.56406927 ### V_2458491.5641.png\n",
      "##### saving image 27   dm tau_3463766_V_010.fits\n"
     ]
    },
    {
     "name": "stderr",
     "output_type": "stream",
     "text": [
      "/home/hyliu/.conda/envs/terada2019/lib/python3.7/site-packages/aplpy/core.py:249: RuntimeWarning: More than 20 figures have been opened. Figures created through the pyplot interface (`matplotlib.pyplot.figure`) are retained until explicitly closed and may consume too much memory. (To control this warning, see the rcParam `figure.max_open_warning`).\n",
      "  self._figure = plt.figure(**kwargs)\n"
     ]
    },
    {
     "name": "stdout",
     "output_type": "stream",
     "text": [
      "##### Processing image 28   dm tau_3463766_I_007.fits\n",
      "##### Processing image 29   dm tau_3463766_V_029.fits\n",
      "INFO: Auto-setting vmin to  4.129e+00 [aplpy.core]\n",
      "INFO: Auto-setting vmax to  2.186e+02 [aplpy.core]\n",
      "INFO: Auto-setting vmin to -5.429e+00 [aplpy.core]\n",
      "INFO: Auto-setting vmax to  3.025e+02 [aplpy.core]\n",
      "#### 29 ### 2458493.56540598 ### V_2458493.5654.png\n",
      "##### saving image 29   dm tau_3463766_V_029.fits\n"
     ]
    },
    {
     "name": "stderr",
     "output_type": "stream",
     "text": [
      "/home/hyliu/.conda/envs/terada2019/lib/python3.7/site-packages/aplpy/core.py:249: RuntimeWarning: More than 20 figures have been opened. Figures created through the pyplot interface (`matplotlib.pyplot.figure`) are retained until explicitly closed and may consume too much memory. (To control this warning, see the rcParam `figure.max_open_warning`).\n",
      "  self._figure = plt.figure(**kwargs)\n"
     ]
    },
    {
     "name": "stdout",
     "output_type": "stream",
     "text": [
      "##### Processing image 30   dm tau_3463766_I_017.fits\n",
      "INFO: Auto-setting vmin to  9.583e+02 [aplpy.core]\n",
      "INFO: Auto-setting vmax to  1.451e+03 [aplpy.core]\n",
      "INFO: Auto-setting vmin to  9.633e+02 [aplpy.core]\n",
      "INFO: Auto-setting vmax to  1.371e+03 [aplpy.core]\n",
      "#### 30 ### 2458491.56955438 ### I_2458491.5696.png\n",
      "##### saving image 30   dm tau_3463766_I_017.fits\n"
     ]
    },
    {
     "name": "stderr",
     "output_type": "stream",
     "text": [
      "/home/hyliu/.conda/envs/terada2019/lib/python3.7/site-packages/aplpy/core.py:249: RuntimeWarning: More than 20 figures have been opened. Figures created through the pyplot interface (`matplotlib.pyplot.figure`) are retained until explicitly closed and may consume too much memory. (To control this warning, see the rcParam `figure.max_open_warning`).\n",
      "  self._figure = plt.figure(**kwargs)\n"
     ]
    },
    {
     "name": "stdout",
     "output_type": "stream",
     "text": [
      "##### Processing image 31   dm tau_3463766_V_020.fits\n",
      "INFO: Auto-setting vmin to  6.602e+00 [aplpy.core]\n",
      "INFO: Auto-setting vmax to  1.451e+02 [aplpy.core]\n",
      "INFO: Auto-setting vmin to  5.509e+00 [aplpy.core]\n",
      "INFO: Auto-setting vmax to  1.770e+02 [aplpy.core]\n",
      "#### 31 ### 2458492.5650759 ### V_2458492.5651.png\n",
      "##### saving image 31   dm tau_3463766_V_020.fits\n"
     ]
    },
    {
     "name": "stderr",
     "output_type": "stream",
     "text": [
      "/home/hyliu/.conda/envs/terada2019/lib/python3.7/site-packages/aplpy/core.py:249: RuntimeWarning: More than 20 figures have been opened. Figures created through the pyplot interface (`matplotlib.pyplot.figure`) are retained until explicitly closed and may consume too much memory. (To control this warning, see the rcParam `figure.max_open_warning`).\n",
      "  self._figure = plt.figure(**kwargs)\n"
     ]
    },
    {
     "name": "stdout",
     "output_type": "stream",
     "text": [
      "##### Processing image 32   dm tau_3463766_R_031.fits\n",
      "INFO: Auto-setting vmin to  9.475e+02 [aplpy.core]\n",
      "INFO: Auto-setting vmax to  1.498e+03 [aplpy.core]\n",
      "INFO: Auto-setting vmin to  9.513e+02 [aplpy.core]\n",
      "INFO: Auto-setting vmax to  1.456e+03 [aplpy.core]\n",
      "#### 32 ### 2458493.56697859 ### R_2458493.567.png\n",
      "##### saving image 32   dm tau_3463766_R_031.fits\n"
     ]
    },
    {
     "name": "stderr",
     "output_type": "stream",
     "text": [
      "/home/hyliu/.conda/envs/terada2019/lib/python3.7/site-packages/aplpy/core.py:249: RuntimeWarning: More than 20 figures have been opened. Figures created through the pyplot interface (`matplotlib.pyplot.figure`) are retained until explicitly closed and may consume too much memory. (To control this warning, see the rcParam `figure.max_open_warning`).\n",
      "  self._figure = plt.figure(**kwargs)\n"
     ]
    },
    {
     "name": "stdout",
     "output_type": "stream",
     "text": [
      "##### Processing image 33   dm tau_3463766_R_012.fits\n",
      "INFO: Auto-setting vmin to  9.486e+02 [aplpy.core]\n",
      "INFO: Auto-setting vmax to  1.425e+03 [aplpy.core]\n",
      "INFO: Auto-setting vmin to  9.449e+02 [aplpy.core]\n",
      "INFO: Auto-setting vmax to  1.466e+03 [aplpy.core]\n",
      "#### 33 ### 2458491.56563715 ### R_2458491.5656.png\n",
      "##### saving image 33   dm tau_3463766_R_012.fits\n"
     ]
    },
    {
     "name": "stderr",
     "output_type": "stream",
     "text": [
      "/home/hyliu/.conda/envs/terada2019/lib/python3.7/site-packages/aplpy/core.py:249: RuntimeWarning: More than 20 figures have been opened. Figures created through the pyplot interface (`matplotlib.pyplot.figure`) are retained until explicitly closed and may consume too much memory. (To control this warning, see the rcParam `figure.max_open_warning`).\n",
      "  self._figure = plt.figure(**kwargs)\n"
     ]
    },
    {
     "name": "stdout",
     "output_type": "stream",
     "text": [
      "##### Processing image 34   dm tau_3463766_V_001.fits\n",
      "##### Processing image 35   dm tau_3463766_I_035.fits\n",
      "INFO: Auto-setting vmin to  9.744e+02 [aplpy.core]\n",
      "INFO: Auto-setting vmax to  1.635e+03 [aplpy.core]\n",
      "INFO: Auto-setting vmin to  9.652e+02 [aplpy.core]\n",
      "INFO: Auto-setting vmax to  1.725e+03 [aplpy.core]\n",
      "#### 35 ### 2458493.57011502 ### I_2458493.5701.png\n",
      "##### saving image 35   dm tau_3463766_I_035.fits\n"
     ]
    },
    {
     "name": "stderr",
     "output_type": "stream",
     "text": [
      "/home/hyliu/.conda/envs/terada2019/lib/python3.7/site-packages/aplpy/core.py:249: RuntimeWarning: More than 20 figures have been opened. Figures created through the pyplot interface (`matplotlib.pyplot.figure`) are retained until explicitly closed and may consume too much memory. (To control this warning, see the rcParam `figure.max_open_warning`).\n",
      "  self._figure = plt.figure(**kwargs)\n"
     ]
    },
    {
     "name": "stdout",
     "output_type": "stream",
     "text": [
      "##### Processing image 36   dm tau_3486034_V_000.fits\n",
      "INFO: Auto-setting vmin to  9.156e+01 [aplpy.core]\n",
      "INFO: Auto-setting vmax to  6.413e+02 [aplpy.core]\n",
      "INFO: Auto-setting vmin to  7.788e+01 [aplpy.core]\n",
      "INFO: Auto-setting vmax to  8.049e+02 [aplpy.core]\n",
      "#### 36 ### 2458494.59689922 ### V_2458494.5969.png\n",
      "##### saving image 36   dm tau_3486034_V_000.fits\n"
     ]
    },
    {
     "name": "stderr",
     "output_type": "stream",
     "text": [
      "/home/hyliu/.conda/envs/terada2019/lib/python3.7/site-packages/aplpy/core.py:249: RuntimeWarning: More than 20 figures have been opened. Figures created through the pyplot interface (`matplotlib.pyplot.figure`) are retained until explicitly closed and may consume too much memory. (To control this warning, see the rcParam `figure.max_open_warning`).\n",
      "  self._figure = plt.figure(**kwargs)\n"
     ]
    },
    {
     "name": "stdout",
     "output_type": "stream",
     "text": [
      "##### Processing image 37   dm tau_3486034_I_002.fits\n",
      "INFO: Auto-setting vmin to  1.054e+03 [aplpy.core]\n",
      "INFO: Auto-setting vmax to  1.795e+03 [aplpy.core]\n",
      "INFO: Auto-setting vmin to  1.049e+03 [aplpy.core]\n",
      "INFO: Auto-setting vmax to  1.863e+03 [aplpy.core]\n",
      "#### 37 ### 2458494.60040152 ### I_2458494.6004.png\n",
      "##### saving image 37   dm tau_3486034_I_002.fits\n"
     ]
    },
    {
     "name": "stderr",
     "output_type": "stream",
     "text": [
      "/home/hyliu/.conda/envs/terada2019/lib/python3.7/site-packages/aplpy/core.py:249: RuntimeWarning: More than 20 figures have been opened. Figures created through the pyplot interface (`matplotlib.pyplot.figure`) are retained until explicitly closed and may consume too much memory. (To control this warning, see the rcParam `figure.max_open_warning`).\n",
      "  self._figure = plt.figure(**kwargs)\n"
     ]
    },
    {
     "name": "stdout",
     "output_type": "stream",
     "text": [
      "##### Processing image 38   dm tau_3486034_R_001.fits\n",
      "INFO: Auto-setting vmin to  9.617e+02 [aplpy.core]\n",
      "INFO: Auto-setting vmax to  2.901e+03 [aplpy.core]\n",
      "INFO: Auto-setting vmin to  9.794e+02 [aplpy.core]\n",
      "INFO: Auto-setting vmax to  2.705e+03 [aplpy.core]\n",
      "#### 38 ### 2458494.59868628 ### R_2458494.5987.png\n",
      "##### saving image 38   dm tau_3486034_R_001.fits\n"
     ]
    },
    {
     "name": "stderr",
     "output_type": "stream",
     "text": [
      "/home/hyliu/.conda/envs/terada2019/lib/python3.7/site-packages/aplpy/core.py:249: RuntimeWarning: More than 20 figures have been opened. Figures created through the pyplot interface (`matplotlib.pyplot.figure`) are retained until explicitly closed and may consume too much memory. (To control this warning, see the rcParam `figure.max_open_warning`).\n",
      "  self._figure = plt.figure(**kwargs)\n"
     ]
    },
    {
     "name": "stdout",
     "output_type": "stream",
     "text": [
      "##### Processing image 39   dm tau_3488473_V_009.fits\n",
      "INFO: Auto-setting vmin to  7.626e+02 [aplpy.core]\n",
      "INFO: Auto-setting vmax to  1.139e+03 [aplpy.core]\n",
      "INFO: Auto-setting vmin to  7.798e+02 [aplpy.core]\n",
      "INFO: Auto-setting vmax to  1.035e+03 [aplpy.core]\n",
      "#### 39 ### 2458499.5603736 ### V_2458499.5604.png\n",
      "##### saving image 39   dm tau_3488473_V_009.fits\n"
     ]
    },
    {
     "name": "stderr",
     "output_type": "stream",
     "text": [
      "/home/hyliu/.conda/envs/terada2019/lib/python3.7/site-packages/aplpy/core.py:249: RuntimeWarning: More than 20 figures have been opened. Figures created through the pyplot interface (`matplotlib.pyplot.figure`) are retained until explicitly closed and may consume too much memory. (To control this warning, see the rcParam `figure.max_open_warning`).\n",
      "  self._figure = plt.figure(**kwargs)\n"
     ]
    },
    {
     "name": "stdout",
     "output_type": "stream",
     "text": [
      "##### Processing image 40   dm tau_3488473_R_010.fits\n",
      "INFO: Auto-setting vmin to  1.793e+03 [aplpy.core]\n",
      "INFO: Auto-setting vmax to  2.407e+03 [aplpy.core]\n",
      "INFO: Auto-setting vmin to  1.760e+03 [aplpy.core]\n",
      "INFO: Auto-setting vmax to  2.759e+03 [aplpy.core]\n",
      "#### 40 ### 2458499.56160539 ### R_2458499.5616.png\n",
      "##### saving image 40   dm tau_3488473_R_010.fits\n"
     ]
    },
    {
     "name": "stderr",
     "output_type": "stream",
     "text": [
      "/home/hyliu/.conda/envs/terada2019/lib/python3.7/site-packages/aplpy/core.py:249: RuntimeWarning: More than 20 figures have been opened. Figures created through the pyplot interface (`matplotlib.pyplot.figure`) are retained until explicitly closed and may consume too much memory. (To control this warning, see the rcParam `figure.max_open_warning`).\n",
      "  self._figure = plt.figure(**kwargs)\n"
     ]
    },
    {
     "name": "stdout",
     "output_type": "stream",
     "text": [
      "##### Processing image 41   dm tau_3488473_V_066.fits\n",
      "INFO: Auto-setting vmin to  1.480e+01 [aplpy.core]\n",
      "INFO: Auto-setting vmax to  5.781e+02 [aplpy.core]\n",
      "INFO: Auto-setting vmin to  3.383e+01 [aplpy.core]\n",
      "INFO: Auto-setting vmax to  3.474e+02 [aplpy.core]\n",
      "#### 41 ### 2458522.59115633 ### V_2458522.5912.png\n",
      "##### saving image 41   dm tau_3488473_V_066.fits\n"
     ]
    },
    {
     "name": "stderr",
     "output_type": "stream",
     "text": [
      "/home/hyliu/.conda/envs/terada2019/lib/python3.7/site-packages/aplpy/core.py:249: RuntimeWarning: More than 20 figures have been opened. Figures created through the pyplot interface (`matplotlib.pyplot.figure`) are retained until explicitly closed and may consume too much memory. (To control this warning, see the rcParam `figure.max_open_warning`).\n",
      "  self._figure = plt.figure(**kwargs)\n"
     ]
    },
    {
     "name": "stdout",
     "output_type": "stream",
     "text": [
      "##### Processing image 42   dm tau_3488473_I_020.fits\n",
      "INFO: Auto-setting vmin to  2.500e+03 [aplpy.core]\n",
      "INFO: Auto-setting vmax to  3.581e+03 [aplpy.core]\n",
      "INFO: Auto-setting vmin to  2.508e+03 [aplpy.core]\n",
      "INFO: Auto-setting vmax to  3.505e+03 [aplpy.core]\n",
      "#### 42 ### 2458502.61624347 ### I_2458502.6162.png\n",
      "##### saving image 42   dm tau_3488473_I_020.fits\n"
     ]
    },
    {
     "name": "stderr",
     "output_type": "stream",
     "text": [
      "/home/hyliu/.conda/envs/terada2019/lib/python3.7/site-packages/aplpy/core.py:249: RuntimeWarning: More than 20 figures have been opened. Figures created through the pyplot interface (`matplotlib.pyplot.figure`) are retained until explicitly closed and may consume too much memory. (To control this warning, see the rcParam `figure.max_open_warning`).\n",
      "  self._figure = plt.figure(**kwargs)\n"
     ]
    },
    {
     "name": "stdout",
     "output_type": "stream",
     "text": [
      "##### Processing image 43   dm tau_3488473_R_040.fits\n",
      "INFO: Auto-setting vmin to  9.405e+02 [aplpy.core]\n",
      "INFO: Auto-setting vmax to  1.624e+03 [aplpy.core]\n",
      "INFO: Auto-setting vmin to  9.400e+02 [aplpy.core]\n",
      "INFO: Auto-setting vmax to  1.630e+03 [aplpy.core]\n",
      "#### 43 ### 2458509.61610566 ### R_2458509.6161.png\n",
      "##### saving image 43   dm tau_3488473_R_040.fits\n"
     ]
    },
    {
     "name": "stderr",
     "output_type": "stream",
     "text": [
      "/home/hyliu/.conda/envs/terada2019/lib/python3.7/site-packages/aplpy/core.py:249: RuntimeWarning: More than 20 figures have been opened. Figures created through the pyplot interface (`matplotlib.pyplot.figure`) are retained until explicitly closed and may consume too much memory. (To control this warning, see the rcParam `figure.max_open_warning`).\n",
      "  self._figure = plt.figure(**kwargs)\n"
     ]
    },
    {
     "name": "stdout",
     "output_type": "stream",
     "text": [
      "##### Processing image 44   dm tau_3488473_I_077.fits\n",
      "INFO: Auto-setting vmin to  1.131e+03 [aplpy.core]\n",
      "INFO: Auto-setting vmax to  1.712e+03 [aplpy.core]\n",
      "INFO: Auto-setting vmin to  1.125e+03 [aplpy.core]\n",
      "INFO: Auto-setting vmax to  1.791e+03 [aplpy.core]\n",
      "#### 44 ### 2458525.59120326 ### I_2458525.5912.png\n",
      "##### saving image 44   dm tau_3488473_I_077.fits\n"
     ]
    },
    {
     "name": "stderr",
     "output_type": "stream",
     "text": [
      "/home/hyliu/.conda/envs/terada2019/lib/python3.7/site-packages/aplpy/core.py:249: RuntimeWarning: More than 20 figures have been opened. Figures created through the pyplot interface (`matplotlib.pyplot.figure`) are retained until explicitly closed and may consume too much memory. (To control this warning, see the rcParam `figure.max_open_warning`).\n",
      "  self._figure = plt.figure(**kwargs)\n"
     ]
    },
    {
     "name": "stdout",
     "output_type": "stream",
     "text": [
      "##### Processing image 45   dm tau_3488473_R_025.fits\n",
      "INFO: Auto-setting vmin to  2.586e+03 [aplpy.core]\n",
      "INFO: Auto-setting vmax to  3.963e+03 [aplpy.core]\n",
      "INFO: Auto-setting vmin to  2.604e+03 [aplpy.core]\n",
      "INFO: Auto-setting vmax to  3.722e+03 [aplpy.core]\n",
      "#### 45 ### 2458504.644298 ### R_2458504.6443.png\n",
      "##### saving image 45   dm tau_3488473_R_025.fits\n"
     ]
    },
    {
     "name": "stderr",
     "output_type": "stream",
     "text": [
      "/home/hyliu/.conda/envs/terada2019/lib/python3.7/site-packages/aplpy/core.py:249: RuntimeWarning: More than 20 figures have been opened. Figures created through the pyplot interface (`matplotlib.pyplot.figure`) are retained until explicitly closed and may consume too much memory. (To control this warning, see the rcParam `figure.max_open_warning`).\n",
      "  self._figure = plt.figure(**kwargs)\n"
     ]
    },
    {
     "name": "stdout",
     "output_type": "stream",
     "text": [
      "##### Processing image 46   dm tau_3488473_I_005.fits\n",
      "INFO: Auto-setting vmin to  9.925e+02 [aplpy.core]\n",
      "INFO: Auto-setting vmax to  1.785e+03 [aplpy.core]\n",
      "INFO: Auto-setting vmin to  1.013e+03 [aplpy.core]\n",
      "INFO: Auto-setting vmax to  1.567e+03 [aplpy.core]\n",
      "#### 46 ### 2458496.56134466 ### I_2458496.5613.png\n",
      "##### saving image 46   dm tau_3488473_I_005.fits\n"
     ]
    },
    {
     "name": "stderr",
     "output_type": "stream",
     "text": [
      "/home/hyliu/.conda/envs/terada2019/lib/python3.7/site-packages/aplpy/core.py:249: RuntimeWarning: More than 20 figures have been opened. Figures created through the pyplot interface (`matplotlib.pyplot.figure`) are retained until explicitly closed and may consume too much memory. (To control this warning, see the rcParam `figure.max_open_warning`).\n",
      "  self._figure = plt.figure(**kwargs)\n"
     ]
    },
    {
     "name": "stdout",
     "output_type": "stream",
     "text": [
      "##### Processing image 47   dm tau_3488473_R_031.fits\n",
      "INFO: Auto-setting vmin to  1.351e+03 [aplpy.core]\n",
      "INFO: Auto-setting vmax to  2.233e+03 [aplpy.core]\n",
      "INFO: Auto-setting vmin to  1.350e+03 [aplpy.core]\n",
      "INFO: Auto-setting vmax to  2.232e+03 [aplpy.core]\n",
      "#### 47 ### 2458506.59618728 ### R_2458506.5962.png\n",
      "##### saving image 47   dm tau_3488473_R_031.fits\n"
     ]
    },
    {
     "name": "stderr",
     "output_type": "stream",
     "text": [
      "/home/hyliu/.conda/envs/terada2019/lib/python3.7/site-packages/aplpy/core.py:249: RuntimeWarning: More than 20 figures have been opened. Figures created through the pyplot interface (`matplotlib.pyplot.figure`) are retained until explicitly closed and may consume too much memory. (To control this warning, see the rcParam `figure.max_open_warning`).\n",
      "  self._figure = plt.figure(**kwargs)\n"
     ]
    },
    {
     "name": "stdout",
     "output_type": "stream",
     "text": [
      "##### Processing image 48   dm tau_3488473_R_064.fits\n",
      "INFO: Auto-setting vmin to  9.987e+02 [aplpy.core]\n",
      "INFO: Auto-setting vmax to  1.644e+03 [aplpy.core]\n",
      "INFO: Auto-setting vmin to  9.957e+02 [aplpy.core]\n",
      "INFO: Auto-setting vmax to  1.653e+03 [aplpy.core]\n",
      "#### 48 ### 2458521.55098513 ### R_2458521.551.png\n",
      "##### saving image 48   dm tau_3488473_R_064.fits\n"
     ]
    },
    {
     "name": "stderr",
     "output_type": "stream",
     "text": [
      "/home/hyliu/.conda/envs/terada2019/lib/python3.7/site-packages/aplpy/core.py:249: RuntimeWarning: More than 20 figures have been opened. Figures created through the pyplot interface (`matplotlib.pyplot.figure`) are retained until explicitly closed and may consume too much memory. (To control this warning, see the rcParam `figure.max_open_warning`).\n",
      "  self._figure = plt.figure(**kwargs)\n"
     ]
    },
    {
     "name": "stdout",
     "output_type": "stream",
     "text": [
      "##### Processing image 49   dm tau_3488473_I_038.fits\n",
      "INFO: Auto-setting vmin to  1.219e+03 [aplpy.core]\n",
      "INFO: Auto-setting vmax to  1.868e+03 [aplpy.core]\n",
      "INFO: Auto-setting vmin to  1.217e+03 [aplpy.core]\n",
      "INFO: Auto-setting vmax to  1.895e+03 [aplpy.core]\n",
      "#### 49 ### 2458508.63674647 ### I_2458508.6367.png\n",
      "##### saving image 49   dm tau_3488473_I_038.fits\n"
     ]
    },
    {
     "name": "stderr",
     "output_type": "stream",
     "text": [
      "/home/hyliu/.conda/envs/terada2019/lib/python3.7/site-packages/aplpy/core.py:249: RuntimeWarning: More than 20 figures have been opened. Figures created through the pyplot interface (`matplotlib.pyplot.figure`) are retained until explicitly closed and may consume too much memory. (To control this warning, see the rcParam `figure.max_open_warning`).\n",
      "  self._figure = plt.figure(**kwargs)\n"
     ]
    },
    {
     "name": "stdout",
     "output_type": "stream",
     "text": [
      "##### Processing image 50   dm tau_3488473_I_032.fits\n",
      "INFO: Auto-setting vmin to  1.131e+03 [aplpy.core]\n",
      "INFO: Auto-setting vmax to  1.936e+03 [aplpy.core]\n",
      "INFO: Auto-setting vmin to  1.131e+03 [aplpy.core]\n",
      "INFO: Auto-setting vmax to  1.943e+03 [aplpy.core]\n",
      "#### 50 ### 2458506.59718499 ### I_2458506.5972.png\n",
      "##### saving image 50   dm tau_3488473_I_032.fits\n"
     ]
    },
    {
     "name": "stderr",
     "output_type": "stream",
     "text": [
      "/home/hyliu/.conda/envs/terada2019/lib/python3.7/site-packages/aplpy/core.py:249: RuntimeWarning: More than 20 figures have been opened. Figures created through the pyplot interface (`matplotlib.pyplot.figure`) are retained until explicitly closed and may consume too much memory. (To control this warning, see the rcParam `figure.max_open_warning`).\n",
      "  self._figure = plt.figure(**kwargs)\n"
     ]
    },
    {
     "name": "stdout",
     "output_type": "stream",
     "text": [
      "##### Processing image 51   dm tau_3488473_I_068.fits\n",
      "INFO: Auto-setting vmin to  9.756e+02 [aplpy.core]\n",
      "INFO: Auto-setting vmax to  1.598e+03 [aplpy.core]\n",
      "INFO: Auto-setting vmin to  9.771e+02 [aplpy.core]\n",
      "INFO: Auto-setting vmax to  1.569e+03 [aplpy.core]\n",
      "#### 51 ### 2458522.59349546 ### I_2458522.5935.png\n",
      "##### saving image 51   dm tau_3488473_I_068.fits\n"
     ]
    },
    {
     "name": "stderr",
     "output_type": "stream",
     "text": [
      "/home/hyliu/.conda/envs/terada2019/lib/python3.7/site-packages/aplpy/core.py:249: RuntimeWarning: More than 20 figures have been opened. Figures created through the pyplot interface (`matplotlib.pyplot.figure`) are retained until explicitly closed and may consume too much memory. (To control this warning, see the rcParam `figure.max_open_warning`).\n",
      "  self._figure = plt.figure(**kwargs)\n"
     ]
    },
    {
     "name": "stdout",
     "output_type": "stream",
     "text": [
      "##### Processing image 52   dm tau_3488473_I_056.fits\n",
      "INFO: Auto-setting vmin to  8.884e+02 [aplpy.core]\n",
      "INFO: Auto-setting vmax to  1.355e+03 [aplpy.core]\n",
      "INFO: Auto-setting vmin to  8.816e+02 [aplpy.core]\n",
      "INFO: Auto-setting vmax to  1.443e+03 [aplpy.core]\n",
      "#### 52 ### 2458518.59494601 ### I_2458518.5949.png\n",
      "##### saving image 52   dm tau_3488473_I_056.fits\n"
     ]
    },
    {
     "name": "stderr",
     "output_type": "stream",
     "text": [
      "/home/hyliu/.conda/envs/terada2019/lib/python3.7/site-packages/aplpy/core.py:249: RuntimeWarning: More than 20 figures have been opened. Figures created through the pyplot interface (`matplotlib.pyplot.figure`) are retained until explicitly closed and may consume too much memory. (To control this warning, see the rcParam `figure.max_open_warning`).\n",
      "  self._figure = plt.figure(**kwargs)\n"
     ]
    },
    {
     "name": "stdout",
     "output_type": "stream",
     "text": [
      "##### Processing image 53   dm tau_3488473_I_062.fits\n",
      "INFO: Auto-setting vmin to  9.943e+02 [aplpy.core]\n",
      "INFO: Auto-setting vmax to  1.947e+03 [aplpy.core]\n",
      "INFO: Auto-setting vmin to  1.024e+03 [aplpy.core]\n",
      "INFO: Auto-setting vmax to  1.633e+03 [aplpy.core]\n",
      "#### 53 ### 2458520.55779635 ### I_2458520.5578.png\n",
      "##### saving image 53   dm tau_3488473_I_062.fits\n"
     ]
    },
    {
     "name": "stderr",
     "output_type": "stream",
     "text": [
      "/home/hyliu/.conda/envs/terada2019/lib/python3.7/site-packages/aplpy/core.py:249: RuntimeWarning: More than 20 figures have been opened. Figures created through the pyplot interface (`matplotlib.pyplot.figure`) are retained until explicitly closed and may consume too much memory. (To control this warning, see the rcParam `figure.max_open_warning`).\n",
      "  self._figure = plt.figure(**kwargs)\n"
     ]
    },
    {
     "name": "stdout",
     "output_type": "stream",
     "text": [
      "##### Processing image 54   dm tau_3488473_R_046.fits\n",
      "INFO: Auto-setting vmin to  8.797e+02 [aplpy.core]\n",
      "INFO: Auto-setting vmax to  1.331e+03 [aplpy.core]\n",
      "INFO: Auto-setting vmin to  8.736e+02 [aplpy.core]\n",
      "INFO: Auto-setting vmax to  1.423e+03 [aplpy.core]\n",
      "#### 54 ### 2458512.63343294 ### R_2458512.6334.png\n",
      "##### saving image 54   dm tau_3488473_R_046.fits\n"
     ]
    },
    {
     "name": "stderr",
     "output_type": "stream",
     "text": [
      "/home/hyliu/.conda/envs/terada2019/lib/python3.7/site-packages/aplpy/core.py:249: RuntimeWarning: More than 20 figures have been opened. Figures created through the pyplot interface (`matplotlib.pyplot.figure`) are retained until explicitly closed and may consume too much memory. (To control this warning, see the rcParam `figure.max_open_warning`).\n",
      "  self._figure = plt.figure(**kwargs)\n"
     ]
    },
    {
     "name": "stdout",
     "output_type": "stream",
     "text": [
      "##### Processing image 55   dm tau_3488473_R_004.fits\n",
      "INFO: Auto-setting vmin to  1.031e+03 [aplpy.core]\n",
      "INFO: Auto-setting vmax to  1.739e+03 [aplpy.core]\n",
      "INFO: Auto-setting vmin to  1.025e+03 [aplpy.core]\n",
      "INFO: Auto-setting vmax to  1.828e+03 [aplpy.core]\n",
      "#### 55 ### 2458496.56032325 ### R_2458496.5603.png\n",
      "##### saving image 55   dm tau_3488473_R_004.fits\n"
     ]
    },
    {
     "name": "stderr",
     "output_type": "stream",
     "text": [
      "/home/hyliu/.conda/envs/terada2019/lib/python3.7/site-packages/aplpy/core.py:249: RuntimeWarning: More than 20 figures have been opened. Figures created through the pyplot interface (`matplotlib.pyplot.figure`) are retained until explicitly closed and may consume too much memory. (To control this warning, see the rcParam `figure.max_open_warning`).\n",
      "  self._figure = plt.figure(**kwargs)\n"
     ]
    },
    {
     "name": "stdout",
     "output_type": "stream",
     "text": [
      "##### Processing image 56   dm tau_3488473_I_029.fits\n",
      "INFO: Auto-setting vmin to  1.494e+03 [aplpy.core]\n",
      "INFO: Auto-setting vmax to  2.132e+03 [aplpy.core]\n",
      "INFO: Auto-setting vmin to  1.429e+03 [aplpy.core]\n",
      "INFO: Auto-setting vmax to  2.892e+03 [aplpy.core]\n",
      "#### 56 ### 2458505.60924439 ### I_2458505.6092.png\n",
      "##### saving image 56   dm tau_3488473_I_029.fits\n"
     ]
    },
    {
     "name": "stderr",
     "output_type": "stream",
     "text": [
      "/home/hyliu/.conda/envs/terada2019/lib/python3.7/site-packages/aplpy/core.py:249: RuntimeWarning: More than 20 figures have been opened. Figures created through the pyplot interface (`matplotlib.pyplot.figure`) are retained until explicitly closed and may consume too much memory. (To control this warning, see the rcParam `figure.max_open_warning`).\n",
      "  self._figure = plt.figure(**kwargs)\n"
     ]
    },
    {
     "name": "stdout",
     "output_type": "stream",
     "text": [
      "##### Processing image 57   dm tau_3488473_R_016.fits\n",
      "INFO: Auto-setting vmin to  3.592e+03 [aplpy.core]\n",
      "INFO: Auto-setting vmax to  4.581e+03 [aplpy.core]\n",
      "INFO: Auto-setting vmin to  3.547e+03 [aplpy.core]\n",
      "INFO: Auto-setting vmax to  5.098e+03 [aplpy.core]\n",
      "#### 57 ### 2458502.61028573 ### R_2458502.6103.png\n",
      "##### saving image 57   dm tau_3488473_R_016.fits\n"
     ]
    },
    {
     "name": "stderr",
     "output_type": "stream",
     "text": [
      "/home/hyliu/.conda/envs/terada2019/lib/python3.7/site-packages/aplpy/core.py:249: RuntimeWarning: More than 20 figures have been opened. Figures created through the pyplot interface (`matplotlib.pyplot.figure`) are retained until explicitly closed and may consume too much memory. (To control this warning, see the rcParam `figure.max_open_warning`).\n",
      "  self._figure = plt.figure(**kwargs)\n"
     ]
    },
    {
     "name": "stdout",
     "output_type": "stream",
     "text": [
      "##### Processing image 58   dm tau_3488473_R_070.fits\n",
      "INFO: Auto-setting vmin to  9.969e+02 [aplpy.core]\n",
      "INFO: Auto-setting vmax to  1.712e+03 [aplpy.core]\n",
      "INFO: Auto-setting vmin to  1.005e+03 [aplpy.core]\n",
      "INFO: Auto-setting vmax to  1.623e+03 [aplpy.core]\n",
      "#### 58 ### 2458523.55587124 ### R_2458523.5559.png\n",
      "##### saving image 58   dm tau_3488473_R_070.fits\n"
     ]
    },
    {
     "name": "stderr",
     "output_type": "stream",
     "text": [
      "/home/hyliu/.conda/envs/terada2019/lib/python3.7/site-packages/aplpy/core.py:249: RuntimeWarning: More than 20 figures have been opened. Figures created through the pyplot interface (`matplotlib.pyplot.figure`) are retained until explicitly closed and may consume too much memory. (To control this warning, see the rcParam `figure.max_open_warning`).\n",
      "  self._figure = plt.figure(**kwargs)\n"
     ]
    },
    {
     "name": "stdout",
     "output_type": "stream",
     "text": [
      "##### Processing image 59   dm tau_3488473_I_071.fits\n",
      "INFO: Auto-setting vmin to  1.027e+03 [aplpy.core]\n",
      "INFO: Auto-setting vmax to  1.609e+03 [aplpy.core]\n",
      "INFO: Auto-setting vmin to  1.030e+03 [aplpy.core]\n",
      "INFO: Auto-setting vmax to  1.581e+03 [aplpy.core]\n",
      "#### 59 ### 2458523.55689372 ### I_2458523.5569.png\n",
      "##### saving image 59   dm tau_3488473_I_071.fits\n"
     ]
    },
    {
     "name": "stderr",
     "output_type": "stream",
     "text": [
      "/home/hyliu/.conda/envs/terada2019/lib/python3.7/site-packages/aplpy/core.py:249: RuntimeWarning: More than 20 figures have been opened. Figures created through the pyplot interface (`matplotlib.pyplot.figure`) are retained until explicitly closed and may consume too much memory. (To control this warning, see the rcParam `figure.max_open_warning`).\n",
      "  self._figure = plt.figure(**kwargs)\n"
     ]
    },
    {
     "name": "stdout",
     "output_type": "stream",
     "text": [
      "##### Processing image 60   dm tau_3488473_R_001.fits\n",
      "INFO: Auto-setting vmin to  9.973e+02 [aplpy.core]\n",
      "INFO: Auto-setting vmax to  1.659e+03 [aplpy.core]\n",
      "INFO: Auto-setting vmin to  9.876e+02 [aplpy.core]\n",
      "INFO: Auto-setting vmax to  1.779e+03 [aplpy.core]\n",
      "#### 60 ### 2458495.56409741 ### R_2458495.5641.png\n",
      "##### saving image 60   dm tau_3488473_R_001.fits\n"
     ]
    },
    {
     "name": "stderr",
     "output_type": "stream",
     "text": [
      "/home/hyliu/.conda/envs/terada2019/lib/python3.7/site-packages/aplpy/core.py:249: RuntimeWarning: More than 20 figures have been opened. Figures created through the pyplot interface (`matplotlib.pyplot.figure`) are retained until explicitly closed and may consume too much memory. (To control this warning, see the rcParam `figure.max_open_warning`).\n",
      "  self._figure = plt.figure(**kwargs)\n"
     ]
    },
    {
     "name": "stdout",
     "output_type": "stream",
     "text": [
      "##### Processing image 61   dm tau_3488473_I_017.fits\n",
      "INFO: Auto-setting vmin to  2.435e+03 [aplpy.core]\n",
      "INFO: Auto-setting vmax to  3.653e+03 [aplpy.core]\n",
      "INFO: Auto-setting vmin to  2.456e+03 [aplpy.core]\n",
      "INFO: Auto-setting vmax to  3.452e+03 [aplpy.core]\n",
      "#### 61 ### 2458502.61138985 ### I_2458502.6114.png\n",
      "##### saving image 61   dm tau_3488473_I_017.fits\n"
     ]
    },
    {
     "name": "stderr",
     "output_type": "stream",
     "text": [
      "/home/hyliu/.conda/envs/terada2019/lib/python3.7/site-packages/aplpy/core.py:249: RuntimeWarning: More than 20 figures have been opened. Figures created through the pyplot interface (`matplotlib.pyplot.figure`) are retained until explicitly closed and may consume too much memory. (To control this warning, see the rcParam `figure.max_open_warning`).\n",
      "  self._figure = plt.figure(**kwargs)\n"
     ]
    },
    {
     "name": "stdout",
     "output_type": "stream",
     "text": [
      "##### Processing image 62   dm tau_3488473_V_045.fits\n",
      "INFO: Auto-setting vmin to  6.557e+02 [aplpy.core]\n",
      "INFO: Auto-setting vmax to  1.799e+03 [aplpy.core]\n",
      "INFO: Auto-setting vmin to  6.136e+02 [aplpy.core]\n",
      "INFO: Auto-setting vmax to  1.797e+03 [aplpy.core]\n",
      "#### 62 ### 2458512.56547387 ### V_2458512.5655.png\n",
      "##### saving image 62   dm tau_3488473_V_045.fits\n"
     ]
    },
    {
     "name": "stderr",
     "output_type": "stream",
     "text": [
      "/home/hyliu/.conda/envs/terada2019/lib/python3.7/site-packages/aplpy/core.py:249: RuntimeWarning: More than 20 figures have been opened. Figures created through the pyplot interface (`matplotlib.pyplot.figure`) are retained until explicitly closed and may consume too much memory. (To control this warning, see the rcParam `figure.max_open_warning`).\n",
      "  self._figure = plt.figure(**kwargs)\n"
     ]
    },
    {
     "name": "stdout",
     "output_type": "stream",
     "text": [
      "##### Processing image 63   dm tau_3488473_V_012.fits\n",
      "INFO: Auto-setting vmin to  5.738e+03 [aplpy.core]\n",
      "INFO: Auto-setting vmax to  8.220e+03 [aplpy.core]\n",
      "INFO: Auto-setting vmin to  5.737e+03 [aplpy.core]\n",
      "INFO: Auto-setting vmax to  8.238e+03 [aplpy.core]\n",
      "#### 63 ### 2458500.59668128 ### V_2458500.5967.png\n",
      "##### saving image 63   dm tau_3488473_V_012.fits\n"
     ]
    },
    {
     "name": "stderr",
     "output_type": "stream",
     "text": [
      "/home/hyliu/.conda/envs/terada2019/lib/python3.7/site-packages/aplpy/core.py:249: RuntimeWarning: More than 20 figures have been opened. Figures created through the pyplot interface (`matplotlib.pyplot.figure`) are retained until explicitly closed and may consume too much memory. (To control this warning, see the rcParam `figure.max_open_warning`).\n",
      "  self._figure = plt.figure(**kwargs)\n"
     ]
    },
    {
     "name": "stdout",
     "output_type": "stream",
     "text": [
      "##### Processing image 64   dm tau_3488473_V_048.fits\n",
      "INFO: Auto-setting vmin to -2.312e+01 [aplpy.core]\n",
      "INFO: Auto-setting vmax to  1.021e+02 [aplpy.core]\n",
      "INFO: Auto-setting vmin to -2.322e+01 [aplpy.core]\n",
      "INFO: Auto-setting vmax to  9.837e+01 [aplpy.core]\n",
      "#### 64 ### 2458513.61338427 ### V_2458513.6134.png\n",
      "##### saving image 64   dm tau_3488473_V_048.fits\n"
     ]
    },
    {
     "name": "stderr",
     "output_type": "stream",
     "text": [
      "/home/hyliu/.conda/envs/terada2019/lib/python3.7/site-packages/aplpy/core.py:249: RuntimeWarning: More than 20 figures have been opened. Figures created through the pyplot interface (`matplotlib.pyplot.figure`) are retained until explicitly closed and may consume too much memory. (To control this warning, see the rcParam `figure.max_open_warning`).\n",
      "  self._figure = plt.figure(**kwargs)\n"
     ]
    },
    {
     "name": "stdout",
     "output_type": "stream",
     "text": [
      "##### Processing image 65   dm tau_3488473_V_060.fits\n",
      "INFO: Auto-setting vmin to  3.157e+01 [aplpy.core]\n",
      "INFO: Auto-setting vmax to  4.036e+02 [aplpy.core]\n",
      "INFO: Auto-setting vmin to  4.171e+01 [aplpy.core]\n",
      "INFO: Auto-setting vmax to  2.958e+02 [aplpy.core]\n",
      "#### 65 ### 2458520.55546859 ### V_2458520.5555.png\n",
      "##### saving image 65   dm tau_3488473_V_060.fits\n"
     ]
    },
    {
     "name": "stderr",
     "output_type": "stream",
     "text": [
      "/home/hyliu/.conda/envs/terada2019/lib/python3.7/site-packages/aplpy/core.py:249: RuntimeWarning: More than 20 figures have been opened. Figures created through the pyplot interface (`matplotlib.pyplot.figure`) are retained until explicitly closed and may consume too much memory. (To control this warning, see the rcParam `figure.max_open_warning`).\n",
      "  self._figure = plt.figure(**kwargs)\n"
     ]
    },
    {
     "name": "stdout",
     "output_type": "stream",
     "text": [
      "##### Processing image 66   dm tau_3488473_I_011.fits\n",
      "INFO: Auto-setting vmin to  1.522e+03 [aplpy.core]\n",
      "INFO: Auto-setting vmax to  2.257e+03 [aplpy.core]\n",
      "INFO: Auto-setting vmin to  1.528e+03 [aplpy.core]\n",
      "INFO: Auto-setting vmax to  2.264e+03 [aplpy.core]\n",
      "#### 66 ### 2458499.5626159 ### I_2458499.5626.png\n",
      "##### saving image 66   dm tau_3488473_I_011.fits\n"
     ]
    },
    {
     "name": "stderr",
     "output_type": "stream",
     "text": [
      "/home/hyliu/.conda/envs/terada2019/lib/python3.7/site-packages/aplpy/core.py:249: RuntimeWarning: More than 20 figures have been opened. Figures created through the pyplot interface (`matplotlib.pyplot.figure`) are retained until explicitly closed and may consume too much memory. (To control this warning, see the rcParam `figure.max_open_warning`).\n",
      "  self._figure = plt.figure(**kwargs)\n"
     ]
    },
    {
     "name": "stdout",
     "output_type": "stream",
     "text": [
      "##### Processing image 67   dm tau_3488473_V_051.fits\n",
      "INFO: Auto-setting vmin to -2.082e+01 [aplpy.core]\n",
      "INFO: Auto-setting vmax to  9.690e+01 [aplpy.core]\n",
      "INFO: Auto-setting vmin to -2.341e+01 [aplpy.core]\n",
      "INFO: Auto-setting vmax to  1.012e+02 [aplpy.core]\n",
      "#### 67 ### 2458514.55247883 ### V_2458514.5525.png\n",
      "##### saving image 67   dm tau_3488473_V_051.fits\n"
     ]
    },
    {
     "name": "stderr",
     "output_type": "stream",
     "text": [
      "/home/hyliu/.conda/envs/terada2019/lib/python3.7/site-packages/aplpy/core.py:249: RuntimeWarning: More than 20 figures have been opened. Figures created through the pyplot interface (`matplotlib.pyplot.figure`) are retained until explicitly closed and may consume too much memory. (To control this warning, see the rcParam `figure.max_open_warning`).\n",
      "  self._figure = plt.figure(**kwargs)\n"
     ]
    },
    {
     "name": "stdout",
     "output_type": "stream",
     "text": [
      "##### Processing image 68   dm tau_3488473_I_047.fits\n",
      "##### Processing image 69   dm tau_3488473_R_034.fits\n",
      "INFO: Auto-setting vmin to  1.041e+03 [aplpy.core]\n",
      "INFO: Auto-setting vmax to  1.658e+03 [aplpy.core]\n",
      "INFO: Auto-setting vmin to  1.046e+03 [aplpy.core]\n",
      "INFO: Auto-setting vmax to  1.618e+03 [aplpy.core]\n",
      "#### 69 ### 2458507.59824234 ### R_2458507.5982.png\n",
      "##### saving image 69   dm tau_3488473_R_034.fits\n"
     ]
    },
    {
     "name": "stderr",
     "output_type": "stream",
     "text": [
      "/home/hyliu/.conda/envs/terada2019/lib/python3.7/site-packages/aplpy/core.py:249: RuntimeWarning: More than 20 figures have been opened. Figures created through the pyplot interface (`matplotlib.pyplot.figure`) are retained until explicitly closed and may consume too much memory. (To control this warning, see the rcParam `figure.max_open_warning`).\n",
      "  self._figure = plt.figure(**kwargs)\n"
     ]
    },
    {
     "name": "stdout",
     "output_type": "stream",
     "text": [
      "##### Processing image 70   dm tau_3488473_V_072.fits\n",
      "INFO: Auto-setting vmin to  6.121e+01 [aplpy.core]\n",
      "INFO: Auto-setting vmax to  3.455e+02 [aplpy.core]\n",
      "INFO: Auto-setting vmin to  6.399e+01 [aplpy.core]\n",
      "INFO: Auto-setting vmax to  3.073e+02 [aplpy.core]\n",
      "#### 70 ### 2458524.59259373 ### V_2458524.5926.png\n",
      "##### saving image 70   dm tau_3488473_V_072.fits\n"
     ]
    },
    {
     "name": "stderr",
     "output_type": "stream",
     "text": [
      "/home/hyliu/.conda/envs/terada2019/lib/python3.7/site-packages/aplpy/core.py:249: RuntimeWarning: More than 20 figures have been opened. Figures created through the pyplot interface (`matplotlib.pyplot.figure`) are retained until explicitly closed and may consume too much memory. (To control this warning, see the rcParam `figure.max_open_warning`).\n",
      "  self._figure = plt.figure(**kwargs)\n"
     ]
    },
    {
     "name": "stdout",
     "output_type": "stream",
     "text": [
      "##### Processing image 71   dm tau_3488473_V_024.fits\n",
      "INFO: Auto-setting vmin to  2.369e+03 [aplpy.core]\n",
      "INFO: Auto-setting vmax to  2.816e+03 [aplpy.core]\n",
      "INFO: Auto-setting vmin to  2.373e+03 [aplpy.core]\n",
      "INFO: Auto-setting vmax to  2.767e+03 [aplpy.core]\n",
      "#### 71 ### 2458504.64295574 ### V_2458504.643.png\n",
      "##### saving image 71   dm tau_3488473_V_024.fits\n"
     ]
    },
    {
     "name": "stderr",
     "output_type": "stream",
     "text": [
      "/home/hyliu/.conda/envs/terada2019/lib/python3.7/site-packages/aplpy/core.py:249: RuntimeWarning: More than 20 figures have been opened. Figures created through the pyplot interface (`matplotlib.pyplot.figure`) are retained until explicitly closed and may consume too much memory. (To control this warning, see the rcParam `figure.max_open_warning`).\n",
      "  self._figure = plt.figure(**kwargs)\n"
     ]
    },
    {
     "name": "stdout",
     "output_type": "stream",
     "text": [
      "##### Processing image 72   dm tau_3488473_V_075.fits\n",
      "INFO: Auto-setting vmin to  1.108e+03 [aplpy.core]\n",
      "INFO: Auto-setting vmax to  1.942e+03 [aplpy.core]\n",
      "INFO: Auto-setting vmin to  1.131e+03 [aplpy.core]\n",
      "INFO: Auto-setting vmax to  1.685e+03 [aplpy.core]\n",
      "#### 72 ### 2458525.58893138 ### V_2458525.5889.png\n",
      "##### saving image 72   dm tau_3488473_V_075.fits\n"
     ]
    },
    {
     "name": "stderr",
     "output_type": "stream",
     "text": [
      "/home/hyliu/.conda/envs/terada2019/lib/python3.7/site-packages/aplpy/core.py:249: RuntimeWarning: More than 20 figures have been opened. Figures created through the pyplot interface (`matplotlib.pyplot.figure`) are retained until explicitly closed and may consume too much memory. (To control this warning, see the rcParam `figure.max_open_warning`).\n",
      "  self._figure = plt.figure(**kwargs)\n"
     ]
    },
    {
     "name": "stdout",
     "output_type": "stream",
     "text": [
      "##### Processing image 73   dm tau_3488473_V_057.fits\n",
      "INFO: Auto-setting vmin to -2.193e+01 [aplpy.core]\n",
      "INFO: Auto-setting vmax to  3.193e+02 [aplpy.core]\n",
      "INFO: Auto-setting vmin to -1.888e+01 [aplpy.core]\n",
      "INFO: Auto-setting vmax to  2.719e+02 [aplpy.core]\n",
      "#### 73 ### 2458519.55277093 ### V_2458519.5528.png\n",
      "##### saving image 73   dm tau_3488473_V_057.fits\n"
     ]
    },
    {
     "name": "stderr",
     "output_type": "stream",
     "text": [
      "/home/hyliu/.conda/envs/terada2019/lib/python3.7/site-packages/aplpy/core.py:249: RuntimeWarning: More than 20 figures have been opened. Figures created through the pyplot interface (`matplotlib.pyplot.figure`) are retained until explicitly closed and may consume too much memory. (To control this warning, see the rcParam `figure.max_open_warning`).\n",
      "  self._figure = plt.figure(**kwargs)\n"
     ]
    },
    {
     "name": "stdout",
     "output_type": "stream",
     "text": [
      "##### Processing image 74   dm tau_3488473_R_007.fits\n",
      "INFO: Auto-setting vmin to  1.287e+03 [aplpy.core]\n",
      "INFO: Auto-setting vmax to  2.209e+03 [aplpy.core]\n",
      "INFO: Auto-setting vmin to  1.273e+03 [aplpy.core]\n",
      "INFO: Auto-setting vmax to  2.327e+03 [aplpy.core]\n",
      "#### 74 ### 2458498.58725939 ### R_2458498.5873.png\n",
      "##### saving image 74   dm tau_3488473_R_007.fits\n"
     ]
    },
    {
     "name": "stderr",
     "output_type": "stream",
     "text": [
      "/home/hyliu/.conda/envs/terada2019/lib/python3.7/site-packages/aplpy/core.py:249: RuntimeWarning: More than 20 figures have been opened. Figures created through the pyplot interface (`matplotlib.pyplot.figure`) are retained until explicitly closed and may consume too much memory. (To control this warning, see the rcParam `figure.max_open_warning`).\n",
      "  self._figure = plt.figure(**kwargs)\n"
     ]
    },
    {
     "name": "stdout",
     "output_type": "stream",
     "text": [
      "##### Processing image 75   dm tau_3488473_V_036.fits\n"
     ]
    },
    {
     "name": "stderr",
     "output_type": "stream",
     "text": [
      "/home/hyliu/.conda/envs/terada2019/lib/python3.7/site-packages/aplpy/core.py:249: RuntimeWarning: More than 20 figures have been opened. Figures created through the pyplot interface (`matplotlib.pyplot.figure`) are retained until explicitly closed and may consume too much memory. (To control this warning, see the rcParam `figure.max_open_warning`).\n",
      "  self._figure = plt.figure(**kwargs)\n"
     ]
    },
    {
     "name": "stdout",
     "output_type": "stream",
     "text": [
      "INFO: Auto-setting vmin to  1.641e+02 [aplpy.core]\n",
      "INFO: Auto-setting vmax to  3.071e+02 [aplpy.core]\n",
      "INFO: Auto-setting vmin to  1.654e+02 [aplpy.core]\n",
      "INFO: Auto-setting vmax to  3.025e+02 [aplpy.core]\n",
      "#### 75 ### 2458508.63437654 ### V_2458508.6344.png\n",
      "##### saving image 75   dm tau_3488473_V_036.fits\n",
      "##### Processing image 76   dm tau_3488473_R_043.fits\n",
      "INFO: Auto-setting vmin to  9.322e+02 [aplpy.core]\n",
      "INFO: Auto-setting vmax to  1.547e+03 [aplpy.core]\n",
      "INFO: Auto-setting vmin to  9.303e+02 [aplpy.core]\n",
      "INFO: Auto-setting vmax to  1.556e+03 [aplpy.core]\n",
      "#### 76 ### 2458510.61867237 ### R_2458510.6187.png\n",
      "##### saving image 76   dm tau_3488473_R_043.fits\n"
     ]
    },
    {
     "name": "stderr",
     "output_type": "stream",
     "text": [
      "/home/hyliu/.conda/envs/terada2019/lib/python3.7/site-packages/aplpy/core.py:249: RuntimeWarning: More than 20 figures have been opened. Figures created through the pyplot interface (`matplotlib.pyplot.figure`) are retained until explicitly closed and may consume too much memory. (To control this warning, see the rcParam `figure.max_open_warning`).\n",
      "  self._figure = plt.figure(**kwargs)\n"
     ]
    },
    {
     "name": "stdout",
     "output_type": "stream",
     "text": [
      "##### Processing image 77   dm tau_3488473_V_054.fits\n",
      "INFO: Auto-setting vmin to -2.381e+01 [aplpy.core]\n",
      "INFO: Auto-setting vmax to  2.519e+02 [aplpy.core]\n",
      "INFO: Auto-setting vmin to -3.203e+01 [aplpy.core]\n",
      "INFO: Auto-setting vmax to  3.095e+02 [aplpy.core]\n",
      "#### 77 ### 2458518.59259984 ### V_2458518.5926.png\n",
      "##### saving image 77   dm tau_3488473_V_054.fits\n"
     ]
    },
    {
     "name": "stderr",
     "output_type": "stream",
     "text": [
      "/home/hyliu/.conda/envs/terada2019/lib/python3.7/site-packages/aplpy/core.py:249: RuntimeWarning: More than 20 figures have been opened. Figures created through the pyplot interface (`matplotlib.pyplot.figure`) are retained until explicitly closed and may consume too much memory. (To control this warning, see the rcParam `figure.max_open_warning`).\n",
      "  self._figure = plt.figure(**kwargs)\n"
     ]
    },
    {
     "name": "stdout",
     "output_type": "stream",
     "text": [
      "##### Processing image 78   dm tau_3488473_I_074.fits\n",
      "INFO: Auto-setting vmin to  9.938e+02 [aplpy.core]\n",
      "INFO: Auto-setting vmax to  1.517e+03 [aplpy.core]\n",
      "INFO: Auto-setting vmin to  9.924e+02 [aplpy.core]\n",
      "INFO: Auto-setting vmax to  1.532e+03 [aplpy.core]\n",
      "#### 78 ### 2458524.59493335 ### I_2458524.5949.png\n",
      "##### saving image 78   dm tau_3488473_I_074.fits\n"
     ]
    },
    {
     "name": "stderr",
     "output_type": "stream",
     "text": [
      "/home/hyliu/.conda/envs/terada2019/lib/python3.7/site-packages/aplpy/core.py:249: RuntimeWarning: More than 20 figures have been opened. Figures created through the pyplot interface (`matplotlib.pyplot.figure`) are retained until explicitly closed and may consume too much memory. (To control this warning, see the rcParam `figure.max_open_warning`).\n",
      "  self._figure = plt.figure(**kwargs)\n"
     ]
    },
    {
     "name": "stdout",
     "output_type": "stream",
     "text": [
      "##### Processing image 79   dm tau_3488473_I_014.fits\n",
      "INFO: Auto-setting vmin to  7.784e+03 [aplpy.core]\n",
      "INFO: Auto-setting vmax to  1.092e+04 [aplpy.core]\n",
      "INFO: Auto-setting vmin to  7.716e+03 [aplpy.core]\n",
      "INFO: Auto-setting vmax to  1.132e+04 [aplpy.core]\n",
      "#### 79 ### 2458500.59903797 ### I_2458500.599.png\n",
      "##### saving image 79   dm tau_3488473_I_014.fits\n"
     ]
    },
    {
     "name": "stderr",
     "output_type": "stream",
     "text": [
      "/home/hyliu/.conda/envs/terada2019/lib/python3.7/site-packages/aplpy/core.py:249: RuntimeWarning: More than 20 figures have been opened. Figures created through the pyplot interface (`matplotlib.pyplot.figure`) are retained until explicitly closed and may consume too much memory. (To control this warning, see the rcParam `figure.max_open_warning`).\n",
      "  self._figure = plt.figure(**kwargs)\n"
     ]
    },
    {
     "name": "stdout",
     "output_type": "stream",
     "text": [
      "##### Processing image 80   dm tau_3488473_V_063.fits\n",
      "INFO: Auto-setting vmin to  2.939e+01 [aplpy.core]\n",
      "INFO: Auto-setting vmax to  2.802e+02 [aplpy.core]\n",
      "INFO: Auto-setting vmin to  3.563e+01 [aplpy.core]\n",
      "INFO: Auto-setting vmax to  2.394e+02 [aplpy.core]\n",
      "#### 80 ### 2458521.54965927 ### V_2458521.5497.png\n",
      "##### saving image 80   dm tau_3488473_V_063.fits\n"
     ]
    },
    {
     "name": "stderr",
     "output_type": "stream",
     "text": [
      "/home/hyliu/.conda/envs/terada2019/lib/python3.7/site-packages/aplpy/core.py:249: RuntimeWarning: More than 20 figures have been opened. Figures created through the pyplot interface (`matplotlib.pyplot.figure`) are retained until explicitly closed and may consume too much memory. (To control this warning, see the rcParam `figure.max_open_warning`).\n",
      "  self._figure = plt.figure(**kwargs)\n"
     ]
    },
    {
     "name": "stdout",
     "output_type": "stream",
     "text": [
      "##### Processing image 81   dm tau_3488473_R_058.fits\n",
      "INFO: Auto-setting vmin to  8.926e+02 [aplpy.core]\n",
      "INFO: Auto-setting vmax to  1.394e+03 [aplpy.core]\n",
      "INFO: Auto-setting vmin to  8.982e+02 [aplpy.core]\n",
      "INFO: Auto-setting vmax to  1.331e+03 [aplpy.core]\n",
      "#### 81 ### 2458519.55402009 ### R_2458519.554.png\n",
      "##### saving image 81   dm tau_3488473_R_058.fits\n"
     ]
    },
    {
     "name": "stderr",
     "output_type": "stream",
     "text": [
      "/home/hyliu/.conda/envs/terada2019/lib/python3.7/site-packages/aplpy/core.py:249: RuntimeWarning: More than 20 figures have been opened. Figures created through the pyplot interface (`matplotlib.pyplot.figure`) are retained until explicitly closed and may consume too much memory. (To control this warning, see the rcParam `figure.max_open_warning`).\n",
      "  self._figure = plt.figure(**kwargs)\n"
     ]
    },
    {
     "name": "stdout",
     "output_type": "stream",
     "text": [
      "##### Processing image 82   dm tau_3488473_V_039.fits\n",
      "INFO: Auto-setting vmin to  2.042e+01 [aplpy.core]\n",
      "INFO: Auto-setting vmax to  2.096e+02 [aplpy.core]\n",
      "INFO: Auto-setting vmin to  2.001e+01 [aplpy.core]\n",
      "INFO: Auto-setting vmax to  1.898e+02 [aplpy.core]\n",
      "#### 82 ### 2458509.61477806 ### V_2458509.6148.png\n",
      "##### saving image 82   dm tau_3488473_V_039.fits\n"
     ]
    },
    {
     "name": "stderr",
     "output_type": "stream",
     "text": [
      "/home/hyliu/.conda/envs/terada2019/lib/python3.7/site-packages/aplpy/core.py:249: RuntimeWarning: More than 20 figures have been opened. Figures created through the pyplot interface (`matplotlib.pyplot.figure`) are retained until explicitly closed and may consume too much memory. (To control this warning, see the rcParam `figure.max_open_warning`).\n",
      "  self._figure = plt.figure(**kwargs)\n"
     ]
    },
    {
     "name": "stdout",
     "output_type": "stream",
     "text": [
      "##### Processing image 83   dm tau_3488473_I_008.fits\n",
      "INFO: Auto-setting vmin to  1.148e+03 [aplpy.core]\n",
      "INFO: Auto-setting vmax to  1.874e+03 [aplpy.core]\n",
      "INFO: Auto-setting vmin to  1.160e+03 [aplpy.core]\n",
      "INFO: Auto-setting vmax to  1.749e+03 [aplpy.core]\n",
      "#### 83 ### 2458498.58827719 ### I_2458498.5883.png\n",
      "##### saving image 83   dm tau_3488473_I_008.fits\n"
     ]
    },
    {
     "name": "stderr",
     "output_type": "stream",
     "text": [
      "/home/hyliu/.conda/envs/terada2019/lib/python3.7/site-packages/aplpy/core.py:249: RuntimeWarning: More than 20 figures have been opened. Figures created through the pyplot interface (`matplotlib.pyplot.figure`) are retained until explicitly closed and may consume too much memory. (To control this warning, see the rcParam `figure.max_open_warning`).\n",
      "  self._figure = plt.figure(**kwargs)\n"
     ]
    },
    {
     "name": "stdout",
     "output_type": "stream",
     "text": [
      "##### Processing image 84   dm tau_3488473_I_026.fits\n",
      "INFO: Auto-setting vmin to  1.759e+03 [aplpy.core]\n",
      "INFO: Auto-setting vmax to  2.591e+03 [aplpy.core]\n",
      "INFO: Auto-setting vmin to  1.763e+03 [aplpy.core]\n",
      "INFO: Auto-setting vmax to  2.617e+03 [aplpy.core]\n",
      "#### 84 ### 2458504.64531635 ### I_2458504.6453.png\n",
      "##### saving image 84   dm tau_3488473_I_026.fits\n"
     ]
    },
    {
     "name": "stderr",
     "output_type": "stream",
     "text": [
      "/home/hyliu/.conda/envs/terada2019/lib/python3.7/site-packages/aplpy/core.py:249: RuntimeWarning: More than 20 figures have been opened. Figures created through the pyplot interface (`matplotlib.pyplot.figure`) are retained until explicitly closed and may consume too much memory. (To control this warning, see the rcParam `figure.max_open_warning`).\n",
      "  self._figure = plt.figure(**kwargs)\n"
     ]
    },
    {
     "name": "stdout",
     "output_type": "stream",
     "text": [
      "##### Processing image 85   dm tau_3488473_R_019.fits\n",
      "INFO: Auto-setting vmin to  3.598e+03 [aplpy.core]\n",
      "INFO: Auto-setting vmax to  5.206e+03 [aplpy.core]\n",
      "INFO: Auto-setting vmin to  3.613e+03 [aplpy.core]\n",
      "INFO: Auto-setting vmax to  5.037e+03 [aplpy.core]\n",
      "#### 85 ### 2458502.61521738 ### R_2458502.6152.png\n",
      "##### saving image 85   dm tau_3488473_R_019.fits\n"
     ]
    },
    {
     "name": "stderr",
     "output_type": "stream",
     "text": [
      "/home/hyliu/.conda/envs/terada2019/lib/python3.7/site-packages/aplpy/core.py:249: RuntimeWarning: More than 20 figures have been opened. Figures created through the pyplot interface (`matplotlib.pyplot.figure`) are retained until explicitly closed and may consume too much memory. (To control this warning, see the rcParam `figure.max_open_warning`).\n",
      "  self._figure = plt.figure(**kwargs)\n"
     ]
    },
    {
     "name": "stdout",
     "output_type": "stream",
     "text": [
      "##### Processing image 86   dm tau_3488473_R_022.fits\n",
      "INFO: Auto-setting vmin to  2.876e+03 [aplpy.core]\n",
      "INFO: Auto-setting vmax to  4.209e+03 [aplpy.core]\n",
      "INFO: Auto-setting vmin to  2.836e+03 [aplpy.core]\n",
      "INFO: Auto-setting vmax to  4.679e+03 [aplpy.core]\n",
      "#### 86 ### 2458503.59722594 ### R_2458503.5972.png\n",
      "##### saving image 86   dm tau_3488473_R_022.fits\n"
     ]
    },
    {
     "name": "stderr",
     "output_type": "stream",
     "text": [
      "/home/hyliu/.conda/envs/terada2019/lib/python3.7/site-packages/aplpy/core.py:249: RuntimeWarning: More than 20 figures have been opened. Figures created through the pyplot interface (`matplotlib.pyplot.figure`) are retained until explicitly closed and may consume too much memory. (To control this warning, see the rcParam `figure.max_open_warning`).\n",
      "  self._figure = plt.figure(**kwargs)\n"
     ]
    },
    {
     "name": "stdout",
     "output_type": "stream",
     "text": [
      "##### Processing image 87   dm tau_3488473_R_067.fits\n",
      "INFO: Auto-setting vmin to  9.447e+02 [aplpy.core]\n",
      "INFO: Auto-setting vmax to  1.965e+03 [aplpy.core]\n",
      "INFO: Auto-setting vmin to  9.638e+02 [aplpy.core]\n",
      "INFO: Auto-setting vmax to  1.729e+03 [aplpy.core]\n",
      "#### 87 ### 2458522.59247574 ### R_2458522.5925.png\n",
      "##### saving image 87   dm tau_3488473_R_067.fits\n"
     ]
    },
    {
     "name": "stderr",
     "output_type": "stream",
     "text": [
      "/home/hyliu/.conda/envs/terada2019/lib/python3.7/site-packages/aplpy/core.py:249: RuntimeWarning: More than 20 figures have been opened. Figures created through the pyplot interface (`matplotlib.pyplot.figure`) are retained until explicitly closed and may consume too much memory. (To control this warning, see the rcParam `figure.max_open_warning`).\n",
      "  self._figure = plt.figure(**kwargs)\n"
     ]
    },
    {
     "name": "stdout",
     "output_type": "stream",
     "text": [
      "##### Processing image 88   dm tau_3488473_V_018.fits\n",
      "INFO: Auto-setting vmin to  2.484e+03 [aplpy.core]\n",
      "INFO: Auto-setting vmax to  2.949e+03 [aplpy.core]\n",
      "INFO: Auto-setting vmin to  2.489e+03 [aplpy.core]\n",
      "INFO: Auto-setting vmax to  2.900e+03 [aplpy.core]\n",
      "#### 88 ### 2458502.61388679 ### V_2458502.6139.png\n",
      "##### saving image 88   dm tau_3488473_V_018.fits\n"
     ]
    },
    {
     "name": "stderr",
     "output_type": "stream",
     "text": [
      "/home/hyliu/.conda/envs/terada2019/lib/python3.7/site-packages/aplpy/core.py:249: RuntimeWarning: More than 20 figures have been opened. Figures created through the pyplot interface (`matplotlib.pyplot.figure`) are retained until explicitly closed and may consume too much memory. (To control this warning, see the rcParam `figure.max_open_warning`).\n",
      "  self._figure = plt.figure(**kwargs)\n"
     ]
    },
    {
     "name": "stdout",
     "output_type": "stream",
     "text": [
      "##### Processing image 89   dm tau_3488473_I_065.fits\n",
      "INFO: Auto-setting vmin to  1.020e+03 [aplpy.core]\n",
      "INFO: Auto-setting vmax to  1.581e+03 [aplpy.core]\n",
      "INFO: Auto-setting vmin to  1.011e+03 [aplpy.core]\n",
      "INFO: Auto-setting vmax to  1.674e+03 [aplpy.core]\n",
      "#### 89 ### 2458521.55201034 ### I_2458521.552.png\n",
      "##### saving image 89   dm tau_3488473_I_065.fits\n"
     ]
    },
    {
     "name": "stderr",
     "output_type": "stream",
     "text": [
      "/home/hyliu/.conda/envs/terada2019/lib/python3.7/site-packages/aplpy/core.py:249: RuntimeWarning: More than 20 figures have been opened. Figures created through the pyplot interface (`matplotlib.pyplot.figure`) are retained until explicitly closed and may consume too much memory. (To control this warning, see the rcParam `figure.max_open_warning`).\n",
      "  self._figure = plt.figure(**kwargs)\n"
     ]
    },
    {
     "name": "stdout",
     "output_type": "stream",
     "text": [
      "##### Processing image 90   dm tau_3488473_V_033.fits\n",
      "INFO: Auto-setting vmin to  9.780e+01 [aplpy.core]\n",
      "INFO: Auto-setting vmax to  4.376e+02 [aplpy.core]\n",
      "INFO: Auto-setting vmin to  1.062e+02 [aplpy.core]\n",
      "INFO: Auto-setting vmax to  3.272e+02 [aplpy.core]\n",
      "#### 90 ### 2458507.59690558 ### V_2458507.5969.png\n",
      "##### saving image 90   dm tau_3488473_V_033.fits\n"
     ]
    },
    {
     "name": "stderr",
     "output_type": "stream",
     "text": [
      "/home/hyliu/.conda/envs/terada2019/lib/python3.7/site-packages/aplpy/core.py:249: RuntimeWarning: More than 20 figures have been opened. Figures created through the pyplot interface (`matplotlib.pyplot.figure`) are retained until explicitly closed and may consume too much memory. (To control this warning, see the rcParam `figure.max_open_warning`).\n",
      "  self._figure = plt.figure(**kwargs)\n"
     ]
    },
    {
     "name": "stdout",
     "output_type": "stream",
     "text": [
      "##### Processing image 91   dm tau_3488473_I_002.fits\n",
      "INFO: Auto-setting vmin to  9.652e+02 [aplpy.core]\n",
      "INFO: Auto-setting vmax to  2.003e+03 [aplpy.core]\n",
      "INFO: Auto-setting vmin to  1.005e+03 [aplpy.core]\n",
      "INFO: Auto-setting vmax to  1.610e+03 [aplpy.core]\n",
      "#### 91 ### 2458495.56512838 ### I_2458495.5651.png\n",
      "##### saving image 91   dm tau_3488473_I_002.fits\n"
     ]
    },
    {
     "name": "stderr",
     "output_type": "stream",
     "text": [
      "/home/hyliu/.conda/envs/terada2019/lib/python3.7/site-packages/aplpy/core.py:249: RuntimeWarning: More than 20 figures have been opened. Figures created through the pyplot interface (`matplotlib.pyplot.figure`) are retained until explicitly closed and may consume too much memory. (To control this warning, see the rcParam `figure.max_open_warning`).\n",
      "  self._figure = plt.figure(**kwargs)\n"
     ]
    },
    {
     "name": "stdout",
     "output_type": "stream",
     "text": [
      "##### Processing image 92   dm tau_3488473_R_028.fits\n",
      "INFO: Auto-setting vmin to  1.897e+03 [aplpy.core]\n",
      "INFO: Auto-setting vmax to  2.900e+03 [aplpy.core]\n",
      "INFO: Auto-setting vmin to  1.899e+03 [aplpy.core]\n",
      "INFO: Auto-setting vmax to  3.012e+03 [aplpy.core]\n",
      "#### 92 ### 2458505.60822662 ### R_2458505.6082.png\n",
      "##### saving image 92   dm tau_3488473_R_028.fits\n"
     ]
    },
    {
     "name": "stderr",
     "output_type": "stream",
     "text": [
      "/home/hyliu/.conda/envs/terada2019/lib/python3.7/site-packages/aplpy/core.py:249: RuntimeWarning: More than 20 figures have been opened. Figures created through the pyplot interface (`matplotlib.pyplot.figure`) are retained until explicitly closed and may consume too much memory. (To control this warning, see the rcParam `figure.max_open_warning`).\n",
      "  self._figure = plt.figure(**kwargs)\n"
     ]
    },
    {
     "name": "stdout",
     "output_type": "stream",
     "text": [
      "##### Processing image 93   dm tau_3488473_I_053.fits\n",
      "INFO: Auto-setting vmin to  8.698e+02 [aplpy.core]\n",
      "INFO: Auto-setting vmax to  1.368e+03 [aplpy.core]\n",
      "INFO: Auto-setting vmin to  8.810e+02 [aplpy.core]\n",
      "INFO: Auto-setting vmax to  1.280e+03 [aplpy.core]\n",
      "#### 93 ### 2458514.55476337 ### I_2458514.5548.png\n",
      "##### saving image 93   dm tau_3488473_I_053.fits\n"
     ]
    },
    {
     "name": "stderr",
     "output_type": "stream",
     "text": [
      "/home/hyliu/.conda/envs/terada2019/lib/python3.7/site-packages/aplpy/core.py:249: RuntimeWarning: More than 20 figures have been opened. Figures created through the pyplot interface (`matplotlib.pyplot.figure`) are retained until explicitly closed and may consume too much memory. (To control this warning, see the rcParam `figure.max_open_warning`).\n",
      "  self._figure = plt.figure(**kwargs)\n"
     ]
    },
    {
     "name": "stdout",
     "output_type": "stream",
     "text": [
      "##### Processing image 94   dm tau_3488473_V_006.fits\n",
      "INFO: Auto-setting vmin to  3.333e+02 [aplpy.core]\n",
      "INFO: Auto-setting vmax to  6.647e+02 [aplpy.core]\n",
      "INFO: Auto-setting vmin to  3.341e+02 [aplpy.core]\n",
      "INFO: Auto-setting vmax to  6.836e+02 [aplpy.core]\n",
      "#### 94 ### 2458498.58592707 ### V_2458498.5859.png\n",
      "##### saving image 94   dm tau_3488473_V_006.fits\n"
     ]
    },
    {
     "name": "stderr",
     "output_type": "stream",
     "text": [
      "/home/hyliu/.conda/envs/terada2019/lib/python3.7/site-packages/aplpy/core.py:249: RuntimeWarning: More than 20 figures have been opened. Figures created through the pyplot interface (`matplotlib.pyplot.figure`) are retained until explicitly closed and may consume too much memory. (To control this warning, see the rcParam `figure.max_open_warning`).\n",
      "  self._figure = plt.figure(**kwargs)\n"
     ]
    },
    {
     "name": "stdout",
     "output_type": "stream",
     "text": [
      "##### Processing image 95   dm tau_3488473_I_044.fits\n",
      "INFO: Auto-setting vmin to  9.722e+02 [aplpy.core]\n",
      "INFO: Auto-setting vmax to  1.781e+03 [aplpy.core]\n",
      "INFO: Auto-setting vmin to  9.860e+02 [aplpy.core]\n",
      "INFO: Auto-setting vmax to  1.615e+03 [aplpy.core]\n",
      "#### 95 ### 2458510.6197001 ### I_2458510.6197.png\n",
      "##### saving image 95   dm tau_3488473_I_044.fits\n"
     ]
    },
    {
     "name": "stderr",
     "output_type": "stream",
     "text": [
      "/home/hyliu/.conda/envs/terada2019/lib/python3.7/site-packages/aplpy/core.py:249: RuntimeWarning: More than 20 figures have been opened. Figures created through the pyplot interface (`matplotlib.pyplot.figure`) are retained until explicitly closed and may consume too much memory. (To control this warning, see the rcParam `figure.max_open_warning`).\n",
      "  self._figure = plt.figure(**kwargs)\n"
     ]
    },
    {
     "name": "stdout",
     "output_type": "stream",
     "text": [
      "##### Processing image 96   dm tau_3488473_V_030.fits\n",
      "INFO: Auto-setting vmin to  5.051e+02 [aplpy.core]\n",
      "INFO: Auto-setting vmax to  8.893e+02 [aplpy.core]\n",
      "INFO: Auto-setting vmin to  5.061e+02 [aplpy.core]\n",
      "INFO: Auto-setting vmax to  8.422e+02 [aplpy.core]\n",
      "#### 96 ### 2458506.5948499 ### V_2458506.5948.png\n",
      "##### saving image 96   dm tau_3488473_V_030.fits\n"
     ]
    },
    {
     "name": "stderr",
     "output_type": "stream",
     "text": [
      "/home/hyliu/.conda/envs/terada2019/lib/python3.7/site-packages/aplpy/core.py:249: RuntimeWarning: More than 20 figures have been opened. Figures created through the pyplot interface (`matplotlib.pyplot.figure`) are retained until explicitly closed and may consume too much memory. (To control this warning, see the rcParam `figure.max_open_warning`).\n",
      "  self._figure = plt.figure(**kwargs)\n"
     ]
    },
    {
     "name": "stdout",
     "output_type": "stream",
     "text": [
      "##### Processing image 97   dm tau_3488473_R_049.fits\n",
      "INFO: Auto-setting vmin to  8.776e+02 [aplpy.core]\n",
      "INFO: Auto-setting vmax to  1.294e+03 [aplpy.core]\n",
      "INFO: Auto-setting vmin to  8.735e+02 [aplpy.core]\n",
      "INFO: Auto-setting vmax to  1.339e+03 [aplpy.core]\n",
      "#### 97 ### 2458513.61470167 ### R_2458513.6147.png\n",
      "##### saving image 97   dm tau_3488473_R_049.fits\n"
     ]
    },
    {
     "name": "stderr",
     "output_type": "stream",
     "text": [
      "/home/hyliu/.conda/envs/terada2019/lib/python3.7/site-packages/aplpy/core.py:249: RuntimeWarning: More than 20 figures have been opened. Figures created through the pyplot interface (`matplotlib.pyplot.figure`) are retained until explicitly closed and may consume too much memory. (To control this warning, see the rcParam `figure.max_open_warning`).\n",
      "  self._figure = plt.figure(**kwargs)\n"
     ]
    },
    {
     "name": "stdout",
     "output_type": "stream",
     "text": [
      "##### Processing image 98   dm tau_3488473_V_003.fits\n",
      "INFO: Auto-setting vmin to  9.267e+01 [aplpy.core]\n",
      "INFO: Auto-setting vmax to  3.871e+02 [aplpy.core]\n",
      "INFO: Auto-setting vmin to  8.986e+01 [aplpy.core]\n",
      "INFO: Auto-setting vmax to  3.797e+02 [aplpy.core]\n",
      "#### 98 ### 2458496.55899247 ### V_2458496.559.png\n",
      "##### saving image 98   dm tau_3488473_V_003.fits\n"
     ]
    },
    {
     "name": "stderr",
     "output_type": "stream",
     "text": [
      "/home/hyliu/.conda/envs/terada2019/lib/python3.7/site-packages/aplpy/core.py:249: RuntimeWarning: More than 20 figures have been opened. Figures created through the pyplot interface (`matplotlib.pyplot.figure`) are retained until explicitly closed and may consume too much memory. (To control this warning, see the rcParam `figure.max_open_warning`).\n",
      "  self._figure = plt.figure(**kwargs)\n"
     ]
    },
    {
     "name": "stdout",
     "output_type": "stream",
     "text": [
      "##### Processing image 99   dm tau_3488473_V_069.fits\n",
      "INFO: Auto-setting vmin to  6.430e+01 [aplpy.core]\n",
      "INFO: Auto-setting vmax to  2.881e+02 [aplpy.core]\n",
      "INFO: Auto-setting vmin to  5.822e+01 [aplpy.core]\n",
      "INFO: Auto-setting vmax to  3.378e+02 [aplpy.core]\n",
      "#### 99 ### 2458523.55453525 ### V_2458523.5545.png\n",
      "##### saving image 99   dm tau_3488473_V_069.fits\n"
     ]
    },
    {
     "name": "stderr",
     "output_type": "stream",
     "text": [
      "/home/hyliu/.conda/envs/terada2019/lib/python3.7/site-packages/aplpy/core.py:249: RuntimeWarning: More than 20 figures have been opened. Figures created through the pyplot interface (`matplotlib.pyplot.figure`) are retained until explicitly closed and may consume too much memory. (To control this warning, see the rcParam `figure.max_open_warning`).\n",
      "  self._figure = plt.figure(**kwargs)\n"
     ]
    },
    {
     "name": "stdout",
     "output_type": "stream",
     "text": [
      "##### Processing image 100   dm tau_3488473_V_000.fits\n",
      "INFO: Auto-setting vmin to  3.987e+01 [aplpy.core]\n",
      "INFO: Auto-setting vmax to  3.725e+02 [aplpy.core]\n",
      "INFO: Auto-setting vmin to  4.527e+01 [aplpy.core]\n",
      "INFO: Auto-setting vmax to  3.719e+02 [aplpy.core]\n",
      "#### 100 ### 2458495.56285394 ### V_2458495.5629.png\n",
      "##### saving image 100   dm tau_3488473_V_000.fits\n"
     ]
    },
    {
     "name": "stderr",
     "output_type": "stream",
     "text": [
      "/home/hyliu/.conda/envs/terada2019/lib/python3.7/site-packages/aplpy/core.py:249: RuntimeWarning: More than 20 figures have been opened. Figures created through the pyplot interface (`matplotlib.pyplot.figure`) are retained until explicitly closed and may consume too much memory. (To control this warning, see the rcParam `figure.max_open_warning`).\n",
      "  self._figure = plt.figure(**kwargs)\n"
     ]
    },
    {
     "name": "stdout",
     "output_type": "stream",
     "text": [
      "##### Processing image 101   dm tau_3488473_R_037.fits\n",
      "INFO: Auto-setting vmin to  1.100e+03 [aplpy.core]\n",
      "INFO: Auto-setting vmax to  1.664e+03 [aplpy.core]\n",
      "INFO: Auto-setting vmin to  1.106e+03 [aplpy.core]\n",
      "INFO: Auto-setting vmax to  1.580e+03 [aplpy.core]\n",
      "#### 101 ### 2458508.63571689 ### R_2458508.6357.png\n",
      "##### saving image 101   dm tau_3488473_R_037.fits\n"
     ]
    },
    {
     "name": "stderr",
     "output_type": "stream",
     "text": [
      "/home/hyliu/.conda/envs/terada2019/lib/python3.7/site-packages/aplpy/core.py:249: RuntimeWarning: More than 20 figures have been opened. Figures created through the pyplot interface (`matplotlib.pyplot.figure`) are retained until explicitly closed and may consume too much memory. (To control this warning, see the rcParam `figure.max_open_warning`).\n",
      "  self._figure = plt.figure(**kwargs)\n"
     ]
    },
    {
     "name": "stdout",
     "output_type": "stream",
     "text": [
      "##### Processing image 102   dm tau_3488473_R_052.fits\n",
      "INFO: Auto-setting vmin to  8.627e+02 [aplpy.core]\n",
      "INFO: Auto-setting vmax to  1.472e+03 [aplpy.core]\n",
      "INFO: Auto-setting vmin to  8.748e+02 [aplpy.core]\n",
      "INFO: Auto-setting vmax to  1.325e+03 [aplpy.core]\n",
      "#### 102 ### 2458514.55373731 ### R_2458514.5537.png\n",
      "##### saving image 102   dm tau_3488473_R_052.fits\n"
     ]
    },
    {
     "name": "stderr",
     "output_type": "stream",
     "text": [
      "/home/hyliu/.conda/envs/terada2019/lib/python3.7/site-packages/aplpy/core.py:249: RuntimeWarning: More than 20 figures have been opened. Figures created through the pyplot interface (`matplotlib.pyplot.figure`) are retained until explicitly closed and may consume too much memory. (To control this warning, see the rcParam `figure.max_open_warning`).\n",
      "  self._figure = plt.figure(**kwargs)\n"
     ]
    },
    {
     "name": "stdout",
     "output_type": "stream",
     "text": [
      "##### Processing image 103   dm tau_3488473_R_073.fits\n",
      "INFO: Auto-setting vmin to  1.007e+03 [aplpy.core]\n",
      "INFO: Auto-setting vmax to  1.601e+03 [aplpy.core]\n",
      "INFO: Auto-setting vmin to  1.013e+03 [aplpy.core]\n",
      "INFO: Auto-setting vmax to  1.530e+03 [aplpy.core]\n",
      "#### 103 ### 2458524.59391508 ### R_2458524.5939.png\n",
      "##### saving image 103   dm tau_3488473_R_073.fits\n"
     ]
    },
    {
     "name": "stderr",
     "output_type": "stream",
     "text": [
      "/home/hyliu/.conda/envs/terada2019/lib/python3.7/site-packages/aplpy/core.py:249: RuntimeWarning: More than 20 figures have been opened. Figures created through the pyplot interface (`matplotlib.pyplot.figure`) are retained until explicitly closed and may consume too much memory. (To control this warning, see the rcParam `figure.max_open_warning`).\n",
      "  self._figure = plt.figure(**kwargs)\n"
     ]
    },
    {
     "name": "stdout",
     "output_type": "stream",
     "text": [
      "##### Processing image 104   dm tau_3488473_V_021.fits\n",
      "INFO: Auto-setting vmin to  2.103e+03 [aplpy.core]\n",
      "INFO: Auto-setting vmax to  2.651e+03 [aplpy.core]\n",
      "INFO: Auto-setting vmin to  2.101e+03 [aplpy.core]\n",
      "INFO: Auto-setting vmax to  2.562e+03 [aplpy.core]\n",
      "#### 104 ### 2458503.59590507 ### V_2458503.5959.png\n",
      "##### saving image 104   dm tau_3488473_V_021.fits\n"
     ]
    },
    {
     "name": "stderr",
     "output_type": "stream",
     "text": [
      "/home/hyliu/.conda/envs/terada2019/lib/python3.7/site-packages/aplpy/core.py:249: RuntimeWarning: More than 20 figures have been opened. Figures created through the pyplot interface (`matplotlib.pyplot.figure`) are retained until explicitly closed and may consume too much memory. (To control this warning, see the rcParam `figure.max_open_warning`).\n",
      "  self._figure = plt.figure(**kwargs)\n"
     ]
    },
    {
     "name": "stdout",
     "output_type": "stream",
     "text": [
      "##### Processing image 105   dm tau_3488473_V_015.fits\n",
      "INFO: Auto-setting vmin to  1.142e+04 [aplpy.core]\n",
      "INFO: Auto-setting vmax to  1.289e+04 [aplpy.core]\n",
      "INFO: Auto-setting vmin to  1.143e+04 [aplpy.core]\n",
      "INFO: Auto-setting vmax to  1.285e+04 [aplpy.core]\n",
      "#### 105 ### 2458501.5736234 ### V_2458501.5736.png\n",
      "##### saving image 105   dm tau_3488473_V_015.fits\n"
     ]
    },
    {
     "name": "stderr",
     "output_type": "stream",
     "text": [
      "/home/hyliu/.conda/envs/terada2019/lib/python3.7/site-packages/aplpy/core.py:249: RuntimeWarning: More than 20 figures have been opened. Figures created through the pyplot interface (`matplotlib.pyplot.figure`) are retained until explicitly closed and may consume too much memory. (To control this warning, see the rcParam `figure.max_open_warning`).\n",
      "  self._figure = plt.figure(**kwargs)\n"
     ]
    },
    {
     "name": "stdout",
     "output_type": "stream",
     "text": [
      "##### Processing image 106   dm tau_3488473_I_059.fits\n",
      "INFO: Auto-setting vmin to  8.936e+02 [aplpy.core]\n",
      "INFO: Auto-setting vmax to  1.370e+03 [aplpy.core]\n",
      "INFO: Auto-setting vmin to  8.864e+02 [aplpy.core]\n",
      "INFO: Auto-setting vmax to  1.475e+03 [aplpy.core]\n",
      "#### 106 ### 2458519.55504258 ### I_2458519.555.png\n",
      "##### saving image 106   dm tau_3488473_I_059.fits\n"
     ]
    },
    {
     "name": "stderr",
     "output_type": "stream",
     "text": [
      "/home/hyliu/.conda/envs/terada2019/lib/python3.7/site-packages/aplpy/core.py:249: RuntimeWarning: More than 20 figures have been opened. Figures created through the pyplot interface (`matplotlib.pyplot.figure`) are retained until explicitly closed and may consume too much memory. (To control this warning, see the rcParam `figure.max_open_warning`).\n",
      "  self._figure = plt.figure(**kwargs)\n"
     ]
    },
    {
     "name": "stdout",
     "output_type": "stream",
     "text": [
      "##### Processing image 107   dm tau_3488473_R_013.fits\n",
      "INFO: Auto-setting vmin to  9.014e+03 [aplpy.core]\n",
      "INFO: Auto-setting vmax to  1.386e+04 [aplpy.core]\n",
      "INFO: Auto-setting vmin to  8.918e+03 [aplpy.core]\n",
      "INFO: Auto-setting vmax to  1.408e+04 [aplpy.core]\n",
      "#### 107 ### 2458500.59801334 ### R_2458500.598.png\n",
      "##### saving image 107   dm tau_3488473_R_013.fits\n"
     ]
    },
    {
     "name": "stderr",
     "output_type": "stream",
     "text": [
      "/home/hyliu/.conda/envs/terada2019/lib/python3.7/site-packages/aplpy/core.py:249: RuntimeWarning: More than 20 figures have been opened. Figures created through the pyplot interface (`matplotlib.pyplot.figure`) are retained until explicitly closed and may consume too much memory. (To control this warning, see the rcParam `figure.max_open_warning`).\n",
      "  self._figure = plt.figure(**kwargs)\n"
     ]
    },
    {
     "name": "stdout",
     "output_type": "stream",
     "text": [
      "##### Processing image 108   dm tau_3488473_R_076.fits\n",
      "INFO: Auto-setting vmin to  1.172e+03 [aplpy.core]\n",
      "INFO: Auto-setting vmax to  1.870e+03 [aplpy.core]\n",
      "INFO: Auto-setting vmin to  1.171e+03 [aplpy.core]\n",
      "INFO: Auto-setting vmax to  1.862e+03 [aplpy.core]\n",
      "#### 108 ### 2458525.59018128 ### R_2458525.5902.png\n",
      "##### saving image 108   dm tau_3488473_R_076.fits\n"
     ]
    },
    {
     "name": "stderr",
     "output_type": "stream",
     "text": [
      "/home/hyliu/.conda/envs/terada2019/lib/python3.7/site-packages/aplpy/core.py:249: RuntimeWarning: More than 20 figures have been opened. Figures created through the pyplot interface (`matplotlib.pyplot.figure`) are retained until explicitly closed and may consume too much memory. (To control this warning, see the rcParam `figure.max_open_warning`).\n",
      "  self._figure = plt.figure(**kwargs)\n"
     ]
    },
    {
     "name": "stdout",
     "output_type": "stream",
     "text": [
      "##### Processing image 109   dm tau_3488473_R_061.fits\n",
      "INFO: Auto-setting vmin to  9.663e+02 [aplpy.core]\n",
      "INFO: Auto-setting vmax to  1.907e+03 [aplpy.core]\n",
      "INFO: Auto-setting vmin to  9.786e+02 [aplpy.core]\n",
      "INFO: Auto-setting vmax to  1.758e+03 [aplpy.core]\n",
      "#### 109 ### 2458520.55677708 ### R_2458520.5568.png\n",
      "##### saving image 109   dm tau_3488473_R_061.fits\n"
     ]
    },
    {
     "name": "stderr",
     "output_type": "stream",
     "text": [
      "/home/hyliu/.conda/envs/terada2019/lib/python3.7/site-packages/aplpy/core.py:249: RuntimeWarning: More than 20 figures have been opened. Figures created through the pyplot interface (`matplotlib.pyplot.figure`) are retained until explicitly closed and may consume too much memory. (To control this warning, see the rcParam `figure.max_open_warning`).\n",
      "  self._figure = plt.figure(**kwargs)\n"
     ]
    },
    {
     "name": "stdout",
     "output_type": "stream",
     "text": [
      "##### Processing image 110   dm tau_3488473_V_027.fits\n",
      "INFO: Auto-setting vmin to  1.151e+03 [aplpy.core]\n",
      "INFO: Auto-setting vmax to  1.542e+03 [aplpy.core]\n",
      "INFO: Auto-setting vmin to  1.152e+03 [aplpy.core]\n",
      "INFO: Auto-setting vmax to  1.496e+03 [aplpy.core]\n",
      "#### 110 ### 2458505.60686772 ### V_2458505.6069.png\n",
      "##### saving image 110   dm tau_3488473_V_027.fits\n"
     ]
    },
    {
     "name": "stderr",
     "output_type": "stream",
     "text": [
      "/home/hyliu/.conda/envs/terada2019/lib/python3.7/site-packages/aplpy/core.py:249: RuntimeWarning: More than 20 figures have been opened. Figures created through the pyplot interface (`matplotlib.pyplot.figure`) are retained until explicitly closed and may consume too much memory. (To control this warning, see the rcParam `figure.max_open_warning`).\n",
      "  self._figure = plt.figure(**kwargs)\n"
     ]
    },
    {
     "name": "stdout",
     "output_type": "stream",
     "text": [
      "##### Processing image 111   dm tau_3488473_I_050.fits\n",
      "INFO: Auto-setting vmin to  8.761e+02 [aplpy.core]\n",
      "INFO: Auto-setting vmax to  1.323e+03 [aplpy.core]\n",
      "INFO: Auto-setting vmin to  8.769e+02 [aplpy.core]\n",
      "INFO: Auto-setting vmax to  1.314e+03 [aplpy.core]\n",
      "#### 111 ### 2458513.61571618 ### I_2458513.6157.png\n",
      "##### saving image 111   dm tau_3488473_I_050.fits\n"
     ]
    },
    {
     "name": "stderr",
     "output_type": "stream",
     "text": [
      "/home/hyliu/.conda/envs/terada2019/lib/python3.7/site-packages/aplpy/core.py:249: RuntimeWarning: More than 20 figures have been opened. Figures created through the pyplot interface (`matplotlib.pyplot.figure`) are retained until explicitly closed and may consume too much memory. (To control this warning, see the rcParam `figure.max_open_warning`).\n",
      "  self._figure = plt.figure(**kwargs)\n"
     ]
    },
    {
     "name": "stdout",
     "output_type": "stream",
     "text": [
      "##### Processing image 112   dm tau_3488473_I_035.fits\n",
      "INFO: Auto-setting vmin to  1.109e+03 [aplpy.core]\n",
      "INFO: Auto-setting vmax to  2.187e+03 [aplpy.core]\n",
      "INFO: Auto-setting vmin to  1.142e+03 [aplpy.core]\n",
      "INFO: Auto-setting vmax to  1.848e+03 [aplpy.core]\n",
      "#### 112 ### 2458507.59926509 ### I_2458507.5993.png\n",
      "##### saving image 112   dm tau_3488473_I_035.fits\n"
     ]
    },
    {
     "name": "stderr",
     "output_type": "stream",
     "text": [
      "/home/hyliu/.conda/envs/terada2019/lib/python3.7/site-packages/aplpy/core.py:249: RuntimeWarning: More than 20 figures have been opened. Figures created through the pyplot interface (`matplotlib.pyplot.figure`) are retained until explicitly closed and may consume too much memory. (To control this warning, see the rcParam `figure.max_open_warning`).\n",
      "  self._figure = plt.figure(**kwargs)\n"
     ]
    },
    {
     "name": "stdout",
     "output_type": "stream",
     "text": [
      "##### Processing image 113   dm tau_3488473_R_055.fits\n",
      "INFO: Auto-setting vmin to  8.931e+02 [aplpy.core]\n",
      "INFO: Auto-setting vmax to  1.315e+03 [aplpy.core]\n",
      "INFO: Auto-setting vmin to  8.873e+02 [aplpy.core]\n",
      "INFO: Auto-setting vmax to  1.380e+03 [aplpy.core]\n",
      "#### 113 ### 2458518.59392605 ### R_2458518.5939.png\n",
      "##### saving image 113   dm tau_3488473_R_055.fits\n"
     ]
    },
    {
     "name": "stderr",
     "output_type": "stream",
     "text": [
      "/home/hyliu/.conda/envs/terada2019/lib/python3.7/site-packages/aplpy/core.py:249: RuntimeWarning: More than 20 figures have been opened. Figures created through the pyplot interface (`matplotlib.pyplot.figure`) are retained until explicitly closed and may consume too much memory. (To control this warning, see the rcParam `figure.max_open_warning`).\n",
      "  self._figure = plt.figure(**kwargs)\n"
     ]
    },
    {
     "name": "stdout",
     "output_type": "stream",
     "text": [
      "##### Processing image 114   dm tau_3488473_I_023.fits\n",
      "INFO: Auto-setting vmin to  2.050e+03 [aplpy.core]\n",
      "INFO: Auto-setting vmax to  2.950e+03 [aplpy.core]\n",
      "INFO: Auto-setting vmin to  2.012e+03 [aplpy.core]\n",
      "INFO: Auto-setting vmax to  3.314e+03 [aplpy.core]\n",
      "#### 114 ### 2458503.59824601 ### I_2458503.5982.png\n",
      "##### saving image 114   dm tau_3488473_I_023.fits\n"
     ]
    },
    {
     "name": "stderr",
     "output_type": "stream",
     "text": [
      "/home/hyliu/.conda/envs/terada2019/lib/python3.7/site-packages/aplpy/core.py:249: RuntimeWarning: More than 20 figures have been opened. Figures created through the pyplot interface (`matplotlib.pyplot.figure`) are retained until explicitly closed and may consume too much memory. (To control this warning, see the rcParam `figure.max_open_warning`).\n",
      "  self._figure = plt.figure(**kwargs)\n"
     ]
    },
    {
     "name": "stdout",
     "output_type": "stream",
     "text": [
      "##### Processing image 115   dm tau_3488473_I_041.fits\n",
      "INFO: Auto-setting vmin to  9.780e+02 [aplpy.core]\n",
      "INFO: Auto-setting vmax to  2.067e+03 [aplpy.core]\n",
      "INFO: Auto-setting vmin to  1.005e+03 [aplpy.core]\n",
      "INFO: Auto-setting vmax to  1.738e+03 [aplpy.core]\n",
      "#### 115 ### 2458509.6171294 ### I_2458509.6171.png\n",
      "##### saving image 115   dm tau_3488473_I_041.fits\n"
     ]
    },
    {
     "name": "stderr",
     "output_type": "stream",
     "text": [
      "/home/hyliu/.conda/envs/terada2019/lib/python3.7/site-packages/aplpy/core.py:249: RuntimeWarning: More than 20 figures have been opened. Figures created through the pyplot interface (`matplotlib.pyplot.figure`) are retained until explicitly closed and may consume too much memory. (To control this warning, see the rcParam `figure.max_open_warning`).\n",
      "  self._figure = plt.figure(**kwargs)\n"
     ]
    },
    {
     "name": "stdout",
     "output_type": "stream",
     "text": [
      "##### Processing image 116   dm tau_3488473_V_042.fits\n",
      "INFO: Auto-setting vmin to  6.841e+00 [aplpy.core]\n",
      "INFO: Auto-setting vmax to  2.067e+02 [aplpy.core]\n",
      "INFO: Auto-setting vmin to  8.272e+00 [aplpy.core]\n",
      "INFO: Auto-setting vmax to  1.798e+02 [aplpy.core]\n",
      "#### 116 ### 2458510.61733225 ### V_2458510.6173.png\n",
      "##### saving image 116   dm tau_3488473_V_042.fits\n"
     ]
    },
    {
     "name": "stderr",
     "output_type": "stream",
     "text": [
      "/home/hyliu/.conda/envs/terada2019/lib/python3.7/site-packages/aplpy/core.py:249: RuntimeWarning: More than 20 figures have been opened. Figures created through the pyplot interface (`matplotlib.pyplot.figure`) are retained until explicitly closed and may consume too much memory. (To control this warning, see the rcParam `figure.max_open_warning`).\n",
      "  self._figure = plt.figure(**kwargs)\n"
     ]
    }
   ],
   "source": [
    "dmtau = apt_pipe(data_path = [\n",
    "                              r\"../3463766-dm tau\",\n",
    "                              r\"../3486034-dm tau\",\n",
    "                              r\"../3488473-dm tau\",\n",
    "                             ],\n",
    "                 markerfile   = './markers.txt', verbose=True)\n",
    "dmtau.plot_preview(label_marker=False)"
   ]
  },
  {
   "cell_type": "code",
   "execution_count": null,
   "metadata": {},
   "outputs": [],
   "source": [
    "animals = ['cat', 'dog', 'rabbit']\n",
    "d = ['test']\n",
    "print(type(d) == list ) \n",
    "d = 'test'\n",
    "print(type(d) == str ) \n",
    "\n",
    "\n",
    "animals.append('guinea pig')\n",
    "print('Updated animals list: ', animals)\n",
    "animals.extend(['guinea pig', 'moster'])\n",
    "print('Updated animals list: ', animals)"
   ]
  },
  {
   "cell_type": "code",
   "execution_count": null,
   "metadata": {},
   "outputs": [],
   "source": [
    "'''\n",
    "# Directory for input image\n",
    "data_path   = r\"../3488473-dm tau\"\n",
    "\n",
    "# Defining output directories\n",
    "output_path_dict = {}\n",
    "output_path_dict['R'] = './R_maps'\n",
    "output_path_dict['V'] = './V_maps'\n",
    "output_path_dict['I'] = './I_maps'\n",
    "\n",
    "# set if we want to do photometry for objects in the markers list\n",
    "dophotometry     = True\n",
    "aperature_r_pix  = 10.0 # pixels\n",
    "if (dophotometry == True):\n",
    "    print(\"Will output photometry. Please define the output filename if not yet.\")\n",
    "    photometry_file_dict = {}\n",
    "    photometry_file_dict['R'] = './R_phot.txt'\n",
    "    photometry_file_dict['V'] = './V_phot.txt'\n",
    "    photometry_file_dict['I'] = './I_phot.txt'\n",
    "    \n",
    "\n",
    "# Output ASCII list for FITS images which do not possess coordinate headers\n",
    "f = open(\"NO_COORD_HEADER_list.txt\",\"w\")    \n",
    "    \n",
    "markerfile = './markers.txt'\n",
    "    \n",
    "# Preparation ##############################################################\n",
    "for key in output_path_dict.keys():\n",
    "    os.system('rm -rf ' + output_path_dict[key] )\n",
    "    os.system('mkdir '  + output_path_dict[key] )\n",
    "    \n",
    "if (dophotometry == True):\n",
    "    for key in photometry_file_dict.keys():\n",
    "        os.system('rm -rf ' + photometry_file_dict[key] )\n",
    "        photo_file = open(photometry_file_dict[key],\"a+\")\n",
    "        photo_file.write(\"# Data  target_name  JD  Counts\")\n",
    "\n",
    "num_markers = 0\n",
    "try:\n",
    "    marker_label = np.loadtxt(markerfile, comments='#', skiprows=0, usecols=0, dtype=np.str)\n",
    "    rah, ram, ras = np.loadtxt(markerfile, comments='#', skiprows=0, usecols=(1,2,3) )\n",
    "    decd, decm, decs = np.loadtxt(markerfile, comments='#', skiprows=0, usecols=(4,5,6) )\n",
    "    markerR, markerG, markerB = np.loadtxt(markerfile, comments='#', skiprows=0, usecols=(7,8,9) )\n",
    "    marker_alpha = np.loadtxt(markerfile, comments='#', skiprows=0, usecols=10)\n",
    "    marker_size  = np.loadtxt(markerfile, comments='#', skiprows=0, usecols=11)\n",
    "    \n",
    "    ra  = ( rah + ram / 60.0 + ras / 3600.0 ) * 15.0\n",
    "    if (decd > 0 ):\n",
    "        dec = decd + decm / 60.0 + decs / 3600.0\n",
    "    else:\n",
    "        dec = decd - decm / 60.0 - decs / 3600.0\n",
    "    num_markers = np.size(ra)\n",
    "    \n",
    "except:\n",
    "    print('No markers found')\n",
    "    \n",
    "images     = os.listdir( data_path )\n",
    "num_images = len(images)\n",
    "############################################################################\n",
    "    \n",
    "\n",
    "for i in range(0, num_images):\n",
    "    image_name = images[i]\n",
    "    \n",
    "    info = image_name.strip('.fits').split('_')\n",
    "    target_name    = info[0]\n",
    "    directory_name = info[1]\n",
    "    band           = info[2]\n",
    "    epoch_idx      = info[3]\n",
    "    \n",
    "    # open FITS image\n",
    "    hdulist = fits.open(data_path + '/' + image_name)\n",
    "    try:\n",
    "        crval1 = hdulist[0].header['crval1']\n",
    "        crval2 = hdulist[0].header['crval2']\n",
    "        date   = hdulist[0].header['date-obs']\n",
    "        jd     = hdulist[0].header['jd']\n",
    "    except:\n",
    "        print('Error, coordinate header of ' + image_name + ' does not exist.')\n",
    "        f.write( image_name + '\\n' )\n",
    "        continue\n",
    "\n",
    "    # loading image\n",
    "    if (dophotometry == True):\n",
    "        try:\n",
    "            image = hdulist[0].data\n",
    "            w = wcs.WCS(hdulist[0].header)\n",
    "        except:\n",
    "            print(\"Error loading image \" + directory_name + '_' + band + '_' + epoch_idx)\n",
    "        \n",
    "    \n",
    "    fig = aplpy.FITSFigure(data_path + '/' + image_name)\n",
    "    #fig.set_xaxis_coord_type('longitude')\n",
    "    #fig.set_yaxis_coord_type('latitude')\n",
    "    fig.axis_labels.hide()\n",
    "    fig.show_grayscale(invert=False)\n",
    "    \n",
    "    # mark stars\n",
    "    for j in range(0, num_markers):\n",
    "        # plot markers in the png figure\n",
    "        if (num_markers==1):\n",
    "            x, y = ra, dec\n",
    "            pixcrd2 = w.wcs_world2pix([ [x,y] ], 0)\n",
    "            xpix = pixcrd2[0][0]\n",
    "            ypix = pixcrd2[0][1]\n",
    "            mcolor = (markerR, markerG, markerB)\n",
    "            malpha = marker_alpha\n",
    "            msize  = marker_size\n",
    "            mlabel = str(marker_label)\n",
    "        else:\n",
    "            x, y = ra[j], dec[j]\n",
    "            mcolor = (markerR[j], markerG[j], markerB[j])\n",
    "            malpha = marker_alpha[j]\n",
    "            msize = marker_size[j]\n",
    "            mlabel = str(marker_label[j])\n",
    "        \n",
    "        fig.show_markers(\n",
    "                         x, y, \n",
    "                         edgecolor=mcolor, \n",
    "                         # facecolor=facecolor[plot_id],\n",
    "                         marker='o', s=msize, \n",
    "                         alpha=malpha\n",
    "                        )\n",
    "        fig.add_label(x, y, '  ' + mlabel, \n",
    "                      color=mcolor, fontsize=12, horizontalalignment='left')\n",
    "        \n",
    "        # optionally, do aperture photometry\n",
    "        if (dophotometry == True):              \n",
    "            # making photometry\n",
    "            xpix_min = int(round(xpix - aperature_r_pix*3) )\n",
    "            xpix_max = int(round(xpix + aperature_r_pix*3) )\n",
    "            ypix_min = int(round(ypix - aperature_r_pix*3) )\n",
    "            ypix_max = int(round(ypix + aperature_r_pix*3) )\n",
    "            try:\n",
    "                print(directory_name + '_' + band + '_' + epoch_idx)\n",
    "                crop = image[ypix_min:ypix_max, xpix_min:xpix_max].astype(float)\n",
    "                \n",
    "                # background subtraction\n",
    "                crop -= np.median(crop)\n",
    "                \n",
    "                # estimate pixel statistics\n",
    "                bkg_sigma = mad_std(crop)\n",
    "                \n",
    "                # find stars\n",
    "                daofind = DAOStarFinder(fwhm= aperature_r_pix/2.0, threshold=5.*bkg_sigma)\n",
    "                sources = daofind(crop)\n",
    "\n",
    "                \n",
    "                mxcentroid_array = np.array( sources['xcentroid'] )\n",
    "                mycentroid_array = np.array( sources['ycentroid'] )\n",
    "                mpeak_array      = np.array( sources['peak']      )\n",
    "                \n",
    "                if ( len(mpeak_array) > 0 ):\n",
    "                    # Very ugly code here due to unfamiliar with python.\n",
    "                    # need to update. Baobab, 2019.Dec.25\n",
    "                    index_array = range(0, len(mpeak_array) )\n",
    "                    xindex = np.max(np.where( mpeak_array == np.max(mpeak_array), index_array, -1))\n",
    "                    yindex = np.max(np.where( mpeak_array == np.max(mpeak_array), index_array, -1))\n",
    "                    mxcentroid = mxcentroid_array[xindex]\n",
    "                    mycentroid = mycentroid_array[yindex]\n",
    "                    positions = np.transpose((mxcentroid, mycentroid))\n",
    "                    apertures = CircularAperture(positions, aperature_r_pix)\n",
    "                    phot_table = aperture_photometry(crop, apertures)\n",
    "                    counts    = phot_table['aperture_sum'][0]\n",
    "\n",
    "                    try:\n",
    "                        photo_file = open(photometry_file_dict[band],\"a+\")\n",
    "                        outtext     = directory_name + '_' + band + '_' + epoch_idx + '  ' + \\\n",
    "                                      str(marker_label) + '   ' + \\\n",
    "                                      str(jd).strip() + '   ' + \\\n",
    "                                      str(counts) + '   \\n'\n",
    "                        photo_file.write(outtext)\n",
    "                        photo_file.close()\n",
    "                    except:\n",
    "                        print('Error opening output file. ' + directory_name + '_' + band + '_' + epoch_idx)\n",
    "                    \n",
    "                else:\n",
    "                    print(\"No source found in\" + directory_name + '_' + band + '_' + epoch_idx)\n",
    "                    \n",
    "                \n",
    "            except:\n",
    "                print(\"Error making photometry \" + directory_name + '_' + band + '_' + epoch_idx)\n",
    "                \n",
    "            \n",
    "        \n",
    "    # label date\n",
    "    date_label = 'Date : ' + date + '  JD : ' + str(jd).strip() + '   Band : ' + band  \n",
    "    fig.add_label(0.02, 0.95, date_label, relative=True, \n",
    "                  color=(0,1,1,1),\n",
    "                  fontsize=9, horizontalalignment='left')\n",
    "\n",
    "\n",
    "    \n",
    "    outfig_name = directory_name + '_' + band + '_' + epoch_idx + '.png'\n",
    "    \n",
    "    fig.save(outfig_name)    \n",
    "    os.system('mv ' + outfig_name + ' ' + output_path_dict[band] )\n",
    "    \n",
    "    # close FITS image\n",
    "    hdulist.close()\n",
    "    \n",
    "f.close()\n",
    "'''"
   ]
  },
  {
   "cell_type": "code",
   "execution_count": null,
   "metadata": {},
   "outputs": [],
   "source": [
    "test = []\n",
    "test.append('I')\n",
    "test.append('J')\n",
    "print(test)"
   ]
  },
  {
   "cell_type": "code",
   "execution_count": null,
   "metadata": {},
   "outputs": [],
   "source": [
    "round(1234.45678, 2)"
   ]
  },
  {
   "cell_type": "code",
   "execution_count": null,
   "metadata": {},
   "outputs": [],
   "source": []
  }
 ],
 "metadata": {
  "kernelspec": {
   "display_name": "Python 3",
   "language": "python",
   "name": "python3"
  },
  "language_info": {
   "codemirror_mode": {
    "name": "ipython",
    "version": 3
   },
   "file_extension": ".py",
   "mimetype": "text/x-python",
   "name": "python",
   "nbconvert_exporter": "python",
   "pygments_lexer": "ipython3",
   "version": "3.7.5"
  }
 },
 "nbformat": 4,
 "nbformat_minor": 2
}
