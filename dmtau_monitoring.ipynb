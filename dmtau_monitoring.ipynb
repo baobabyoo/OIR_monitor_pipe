{
 "cells": [
  {
   "cell_type": "markdown",
   "metadata": {},
   "source": [
    "# Analyzing time domain data of DM Tau"
   ]
  },
  {
   "cell_type": "code",
   "execution_count": null,
   "metadata": {},
   "outputs": [],
   "source": [
    "#### Conda environment\n",
    "## environment terada2019\n",
    "# conda create --name terada2019 python=3.7\n",
    "# pip install --upgrade pip\n",
    "# pip install astropy scipy\n",
    "# pip install photutils\n",
    "# pip install jupyter matplotlib h5py aplpy pyregion PyAVM healpy\n",
    "# pip install astroquery\n",
    "# pip install pandas\n",
    "# pip install -U statsmodels\n",
    "# pip install -U scikit-learn"
   ]
  },
  {
   "cell_type": "code",
   "execution_count": 1,
   "metadata": {},
   "outputs": [],
   "source": [
    "import os\n",
    "import sys\n",
    "import time\n",
    "sys.path\n",
    "sys.path.append('./')\n",
    "\n",
    "### My own package ##########################\n",
    "from Classlightcurve import *\n",
    "from ClassAPT import *\n",
    "#############################################\n",
    "#%matplotlib inline"
   ]
  },
  {
   "cell_type": "markdown",
   "metadata": {},
   "source": [
    "#### Format of marker file:\n",
    "\n",
    "name, ra_h ra_m ra_s dec_d dec_m dec_s  R:0-1 G:0-1 B:0-1 alpha  size\n",
    "\n",
    "dm_tau  04 33 48.7335659850  +18 10 09.974471722  1 0.2 0.2 1.0 2.0"
   ]
  },
  {
   "cell_type": "markdown",
   "metadata": {},
   "source": [
    "#### Format of reference star file\n",
    "\n",
    "name, ra dec R:0-1 G:0-1 B:0-1 alpha size band jd count file_name\n",
    "\n",
    "1_8 68.61225456763495 18.265153228501678 1 0 1 1 30 I 2458491.56799249 82873.91795331985 dm tau_3463766_I_015.fits"
   ]
  },
  {
   "cell_type": "markdown",
   "metadata": {},
   "source": [
    "### Recommended strategy of running this pipeline:\n",
    "\n",
    "1. First produce preview images for all images, and then produce a skip_file_lis after visual inspect.\n",
    "\n",
    "2. Run the rest of the procedures, incorporating skip_file_lis to save time and avoid crashing DAOstarfinder and photoutils"
   ]
  },
  {
   "cell_type": "code",
   "execution_count": null,
   "metadata": {
    "scrolled": true
   },
   "outputs": [],
   "source": [
    "'''\n",
    "dmtau = apt_pipe(data_path = [\n",
    "                              r\"../DATA/3463766-dm tau\",\n",
    "                              r\"../DATA/3486034-dm tau\",\n",
    "                              r\"../DATA/3488473-dm tau\",\n",
    "                              #r\"../problem_images\",\n",
    "                             ],\n",
    "                 markerfile   = './markers.txt', verbose=True)\n",
    "dmtau.plot_preview(label_marker=False, output_directory = 'Initial_preview_images',\n",
    "                   refstar_file='reference_star.txt', simbad_file='refdb_vizier.txt')\n",
    "'''"
   ]
  },
  {
   "cell_type": "code",
   "execution_count": null,
   "metadata": {
    "scrolled": true
   },
   "outputs": [],
   "source": [
    "# %matplotlib inline\n",
    "dmtau = apt_pipe(data_path = [\n",
    "                              r\"../DATA/3463766-dm tau\",\n",
    "                              r\"../DATA/3486034-dm tau\",\n",
    "                              r\"../DATA/3488473-dm tau\",\n",
    "#                              r\"../problem_images\",\n",
    "                             ],\n",
    "                 markerfile   = './markers.txt', verbose=True)\n",
    "\n",
    "skip_file_list = [\n",
    "                 'dm tau_3463766_R_022.fits',  # PSF not round\n",
    "                 'dm tau_3463766_I_033.fits',  # PSF not round\n",
    "                 'dm tau_3463766_I_034.fits',  # PSF not round\n",
    "                 'dm tau_3463766_I_035.fits',  # PSF not round\n",
    "                 'dm tau_3463766_V_018.fits',  # PSF not round\n",
    "                 'dm tau_3463766_V_019.fits',  # PSF not round\n",
    "                 'dm tau_3463766_V_020.fits',  # PSF not round\n",
    "                 'dm tau_3463766_V_027.fits',  # PSF not round\n",
    "                 'dm tau_3463766_V_028.fits',  # PSF not round\n",
    "                 'dm tau_3463766_V_029.fits',  # PSF not round\n",
    "                 'dm tau_3488473_V_024.fits',  # Very extended bright emission. Crashed DAOStarFinder.\n",
    "                 'dm tau_3488473_V_075.fits',  # Very bright sky and not round PSF. Crashed DAOStarFinder.\n",
    "                 'dm tau_3488473_V_075.fits',  # Very bright sky\n",
    "                 'dm tau_3488473_I_014.fits',  # Very bright sky\n",
    "                 'dm tau_3488473_I_041.fits',  # Very elongated PSF.\n",
    "                 'dm tau_3488473_I_044.fits',  # Very elongated PSF.\n",
    "                 'dm tau_3488473_I_050.fits',  # High noise. Target not detected.\n",
    "                 'dm tau_3488473_I_053.fits',  # High noise. Target not detected.\n",
    "                 'dm tau_3488473_I_056.fits',  # High noise. Target barely detected.\n",
    "                 'dm tau_3488473_I_059.fits',  # High noise. Target barely detected.\n",
    "                 'dm tau_3488473_I_194.fits',  # Very elongated PSF.\n",
    "                 'dm tau_3488473_I_203.fits',  # Very elongated PSF.\n",
    "                 'dm tau_3488473_I_206.fits',  # Very bad focus.\n",
    "                 'dm tau_3488473_I_224.fits',  # Very elongated PSF.\n",
    "                 'dm tau_3488473_I_236.fits',  # Very bright sky\n",
    "                 'dm tau_3488473_I_242.fits',  # Very elongated PSF.\n",
    "                 'dm tau_3488473_I_245.fits',  # Very elongated PSF.\n",
    "                 'dm tau_3488473_I_251.fits',  # target source covered by dark halo\n",
    "                 'dm tau_3488473_I_254.fits',  # target source covered by dark halo\n",
    "                 'dm tau_3488473_I_257.fits',  # target source covered by dark halo\n",
    "                 'dm tau_3488473_I_263.fits',  # Very elongated PSF\n",
    "                 'dm tau_3488473_I_266.fits',  # Very bright sky\n",
    "                 'dm tau_3488473_R_013.fits',  # Very bright sky\n",
    "                 'dm tau_3488473_R_040.fits',  # Very elongated PSF. Crashed DAOStarFinder.\n",
    "                 'dm tau_3488473_R_046.fits',  # High noise. Target barely detected.\n",
    "                 'dm tau_3488473_R_049.fits',  # High noise. Target barely detected.\n",
    "                 'dm tau_3488473_R_052.fits',  # High noise. Target barely detected.\n",
    "                 'dm tau_3488473_R_055.fits',  # High noise. Target barely detected.\n",
    "                 'dm tau_3488473_R_058.fits',  # High noise. Target barely detected.\n",
    "                 'dm tau_3488473_R_205.fits',  # Very bad focus.\n",
    "                 'dm tau_3488473_R_193.fits',  # Very elongated PSF.\n",
    "                 'dm tau_3488473_R_223.fits',  # Very elongated PSF.\n",
    "                 'dm tau_3488473_R_241.fits',  # Very elongated PSF.\n",
    "                 'dm tau_3488473_R_262.fits',  # Very elongated PSF.\n",
    "                 'dm tau_3488473_R_265.fits',  # Very bright sky\n",
    "                 'dm tau_3488473_V_012.fits',  # Very bright sky\n",
    "                 'dm tau_3488473_V_015.fits',  # Very bright sky\n",
    "                 'dm tau_3488473_V_039.fits',  # Very elongated PSF.\n",
    "                 'dm tau_3488473_V_042.fits',  # Very elongated PSF.\n",
    "                 'dm tau_3488473_V_045.fits',  # High noise. Target barely detected.\n",
    "                 'dm tau_3488473_V_048.fits',  # High noise. No reference star detected.\n",
    "                 'dm tau_3488473_V_192.fits',  # Very elongated PSF.\n",
    "                 'dm tau_3488473_V_195.fits',  # Very elongated PSF.\n",
    "                 'dm tau_3488473_V_204.fits',  # Very bad focus.\n",
    "                 'dm tau_3488473_V_213.fits',  # Poor S/N\n",
    "                 'dm tau_3488473_V_216.fits',  # Very elongated PSF.\n",
    "                 'dm tau_3488473_V_222.fits',  # Very elongated PSF.\n",
    "                 'dm tau_3488473_V_258.fits',  # Very bright sky\n",
    "                 'dm tau_3488473_V_261.fits',  # Very bright sky\n",
    "                 'dm tau_3488473_V_264.fits',  # Very bright sky\n",
    "                ]\n",
    "\n",
    "\n",
    "# preliminary run on target sources to obtain count range\n",
    "dmtau.do_apt(fwhm=5.0, fit_fwhm=True, use_fwhmfit=False, skip_file_list = skip_file_list)\n",
    "\n",
    "\n",
    "# Finding reference stars and measure their counts\n",
    "dmtau.find_ref(fit_fwhm=True, fwhm=0.0, apt_sigmathreshold=40,\n",
    "                   refstar_file ='reference_star.txt', stack_PSF=False,\n",
    "                   skip_file_list = skip_file_list)\n",
    "\n",
    "'''\n",
    "# Plotting preview images\n",
    "# dmtau.plot_preview(label_marker=False,\n",
    "#                   refstar_file='reference_star.txt',\n",
    "                   # simbad_file='refdb_simbad.txt'\n",
    "#                   simbad_file='refdb_vizier.txt'\n",
    "#                    )\n",
    "'''\n",
    "\n",
    "# Doing aperture photometry (i.e., measuring counts)\n",
    "dmtau.do_apt(fwhm=0.0, fit_fwhm=False, skip_file_list=skip_file_list)\n",
    "\n",
    "# Converting counts to magnitudes based on making query to SIMBAD or Vizier\n",
    "# *** This step is very time consuming if using Vizier. Excuete only when it is definitely necessary\n",
    "#     to update the table.\n",
    "# dmtau.get_db(refstar_file = 'reference_star.txt', search_radii_arcsec = 3.0, \n",
    "# #             #db='simbad', outrefdb_file='refdb_simbad.txt'\n",
    "#               db='vizier',  outrefdb_file='refdb_vizier.txt'\n",
    "#              )\n",
    "\n",
    "# Plotting preview images\n",
    "# dmtau.plot_preview(label_marker=False,\n",
    "#                    refstar_file='reference_star.txt',\n",
    "#                    # simbad_file='refdb_simbad.txt'\n",
    "#                     simbad_file='refdb_vizier.txt'\n",
    "#                     )\n",
    "\n",
    "# Converting from counts to magnitudes\n",
    "dmtau.cal_dbmag(inrefdb_file='refdb_vizier.txt', refstar_file ='reference_star.txt', \n",
    "                search_radii_arcsec = 3.0)\n",
    "\n",
    "\n",
    "\n",
    "# Export photometry\n",
    "dmtau.export_apt()"
   ]
  },
  {
   "cell_type": "markdown",
   "metadata": {},
   "source": [
    "### Analyzing K2 data of DM Tau"
   ]
  },
  {
   "cell_type": "code",
   "execution_count": 2,
   "metadata": {},
   "outputs": [
    {
     "name": "stdout",
     "output_type": "stream",
     "text": [
      "Warning. Time step is not uniform. \n",
      "\n",
      "Identified time steps :  {0.020433000000139145, 0.02043199999980061, 0.020432000000255357, 0.02043200000116485, 0.020431999998436368, 0.020431999998891115, 0.020432999998774903, 0.020432999999684398, 0.02043300000104864, 0.020433000001503387, 0.02043099999991682, 0.020430999999462074, 0.020433000000593893, 0.02043100000037157, 0.020431999999345862, 0.020431000001281063, 0.020430999999007327, 0.020428000000265456, 0.02043599999979051, 0.02043099999855258} \n",
      "\n"
     ]
    },
    {
     "name": "stderr",
     "output_type": "stream",
     "text": [
      "/works/DM_Tau_monitoring/analysis/Classlightcurve.py:157: UserWarning: Matplotlib is currently using pdf, which is a non-GUI backend, so cannot show the figure.\n",
      "  plt.show()\n",
      "/works/DM_Tau_monitoring/analysis/Classlightcurve.py:157: UserWarning: Matplotlib is currently using pdf, which is a non-GUI backend, so cannot show the figure.\n",
      "  plt.show()\n"
     ]
    },
    {
     "name": "stdout",
     "output_type": "stream",
     "text": [
      "The M value is : 0.12063341358801276\n"
     ]
    },
    {
     "name": "stderr",
     "output_type": "stream",
     "text": [
      "/works/DM_Tau_monitoring/analysis/Classlightcurve.py:157: UserWarning: Matplotlib is currently using pdf, which is a non-GUI backend, so cannot show the figure.\n",
      "  plt.show()\n",
      "/works/DM_Tau_monitoring/analysis/Classlightcurve.py:157: UserWarning: Matplotlib is currently using pdf, which is a non-GUI backend, so cannot show the figure.\n",
      "  plt.show()\n",
      "/works/DM_Tau_monitoring/analysis/Classlightcurve.py:157: UserWarning: Matplotlib is currently using pdf, which is a non-GUI backend, so cannot show the figure.\n",
      "  plt.show()\n"
     ]
    },
    {
     "name": "stdout",
     "output_type": "stream",
     "text": [
      "Found periods derived using FFT :  7.32386363625706 +/- -1.3407530684223454\n"
     ]
    },
    {
     "name": "stderr",
     "output_type": "stream",
     "text": [
      "/works/DM_Tau_monitoring/analysis/Classlightcurve.py:157: UserWarning: Matplotlib is currently using pdf, which is a non-GUI backend, so cannot show the figure.\n",
      "  plt.show()\n"
     ]
    },
    {
     "name": "stdout",
     "output_type": "stream",
     "text": [
      "The Q value is : 0.6459366101539614\n"
     ]
    }
   ],
   "source": [
    "source_name = 'dmtau_'\n",
    "\n",
    "# Load data and plot a preview\n",
    "dmtau = lightcurve(filename = '../DATA/K2/DM-Tau_1.csv',\n",
    "                      time_col_label='TIME',\n",
    "                      data_col_label='PDCSAP_FLUX',\n",
    "                      plot_preview=False,\n",
    "                      previewfig_name=source_name + 'input.pdf',\n",
    "                      verbose=True\n",
    "                     )\n",
    "\n",
    "#dmtau.data = -2.5 * np.log10(dmtau.data)\n",
    "\n",
    "# interpolating data on regular time grid (following Cody+14 to use 6 mins grid)\n",
    "time_grid = np.arange(dmtau.mintime, dmtau.maxtime, 6.0 * (1.0/(24.0*60.0) )  )\n",
    "dmtau.interpolate(time_grid = time_grid,\n",
    "                     plot_preview=True,\n",
    "                     previewfig_name=source_name + 'interpolate.pdf'\n",
    "                    )\n",
    "dmtau.data_plot = dmtau.data\n",
    "dmtau.time_plot = dmtau.time\n",
    "\n",
    "\n",
    "# subtract mean value from the data\n",
    "# --- comment: unsatisfied. Try removing polynomial\n",
    "dmtau.data = dmtau.data - np.mean(dmtau.data)\n",
    "dmtau.plotdata(source_name + 'interpolate_meansubtracted.pdf', \n",
    "                 label='Interpolated. Mean subtracted')\n",
    "\n",
    "##### Steps for derving M parameter #######################################################\n",
    "\n",
    "smoothed_data = dmtau.boxcar_smooth(boxsize=2.0/24.0)\n",
    "dmtau.data_plot = dmtau.data - smoothed_data\n",
    "dmtau.get_M(sigma_clip=5.0)\n",
    "print('The M value is :', dmtau.M)\n",
    "\n",
    "##### Steps for derving period and Q parameter ############################################\n",
    "\n",
    "# Following Cody et al. (2014) to subtract boxcar-smoothed version with a window of 10 days\n",
    "smoothed_data = dmtau.boxcar_smooth(boxsize=10.0)\n",
    "dmtau.data_plot = dmtau.data - smoothed_data\n",
    "dmtau.plotdata(source_name + 'boxcar_subtracted.pdf', \n",
    "                 label='Boxcar-10 days smoothed subtracted')\n",
    "\n",
    "# satisfied with subtraction. Apply to actual data\n",
    "dmtau.data = dmtau.data_plot\n",
    "\n",
    "# performing fft\n",
    "dmtau.fft(plot_preview=True, previewfig_name=source_name + 'FFT.pdf', xlim=[0.01,1.0])\n",
    "\n",
    "# Obtaining the period using the FFT method\n",
    "dmtau.get_period(method='fft')\n",
    "\n",
    "# Phase-folding data\n",
    "# dmtau.period = 7.355520000000001  # The value used by Terada\n",
    "dmtau.phase_fold(plot_preview=True, previewfig_name=source_name + 'phasefold.pdf')\n",
    "\n",
    "# residual\n",
    "dmtau.phase_fold(residual=True, timebin=0.1, plot_preview=True, \n",
    "                    previewfig_name=source_name + 'phasefold_residual.pdf')\n",
    "\n",
    "# evaluate Q value\n",
    "dmtau.get_Q(sigma=0.0, timebin=0.3)\n",
    "print('The Q value is :', dmtau.Q)"
   ]
  },
  {
   "cell_type": "markdown",
   "metadata": {},
   "source": [
    "### Fine-tuning the period by minimizing Q. This is qualitatively similar with doing auto-correlation."
   ]
  },
  {
   "cell_type": "code",
   "execution_count": 3,
   "metadata": {},
   "outputs": [
    {
     "name": "stdout",
     "output_type": "stream",
     "text": [
      "The minimum Q of DM Tau is : 0.6296318294694313\n",
      "The period is 7.364\n"
     ]
    },
    {
     "name": "stderr",
     "output_type": "stream",
     "text": [
      "/home/hyliu/.conda/envs/terada2019/lib/python3.7/site-packages/ipykernel_launcher.py:21: UserWarning: Matplotlib is currently using pdf, which is a non-GUI backend, so cannot show the figure.\n"
     ]
    }
   ],
   "source": [
    "# Find the minimum possible Q\n",
    "Q_list      = []\n",
    "period_list = []\n",
    "for period in np.arange(7.2, 7.6, 0.001):\n",
    "    dmtau.period = period\n",
    "    dmtau.data_plot = dmtau.data\n",
    "    dmtau.get_Q(sigma=0.0, timebin=0.05)\n",
    "    Q_list.append(dmtau.Q)\n",
    "    period_list.append(period)\n",
    "\n",
    "    \n",
    "# Plotting results\n",
    "fig = plt.figure(figsize=[8,6])\n",
    "ax  = fig.add_axes([0.10, 0.1, 0.85, 0.85])\n",
    "\n",
    "plt.tick_params(labelsize=18)\n",
    "plt.xlabel('Period [day]', fontsize=18)\n",
    "plt.ylabel('Q value', fontsize=18)\n",
    "ax.plot(period_list, Q_list, 'o', \n",
    "                markersize=2, linewidth=1, color=(0, 0, 0, 1) )\n",
    "plt.show()\n",
    "plt.savefig('DMTau_Q.pdf')\n",
    "    \n",
    "\n",
    "# Text reporting results\n",
    "print('The minimum Q of DM Tau is :', np.min( np.array(Q_list) ) )\n",
    "index = ( Q_list == np.min( np.array(Q_list) ) )\n",
    "print('The period is', round(np.array(period_list)[index][0], 3) )"
   ]
  },
  {
   "cell_type": "markdown",
   "metadata": {},
   "source": [
    "### Examning phase folding with the best-fit phase value"
   ]
  },
  {
   "cell_type": "code",
   "execution_count": 4,
   "metadata": {
    "scrolled": true
   },
   "outputs": [
    {
     "name": "stderr",
     "output_type": "stream",
     "text": [
      "/works/DM_Tau_monitoring/analysis/Classlightcurve.py:157: UserWarning: Matplotlib is currently using pdf, which is a non-GUI backend, so cannot show the figure.\n",
      "  plt.show()\n",
      "/works/DM_Tau_monitoring/analysis/Classlightcurve.py:157: UserWarning: Matplotlib is currently using pdf, which is a non-GUI backend, so cannot show the figure.\n",
      "  plt.show()\n"
     ]
    }
   ],
   "source": [
    "dmtau.period   = round(np.array(period_list)[index][0], 3)\n",
    "dmtau.phase_fold(plot_preview=True, previewfig_name=source_name + 'bestphasefold.pdf',\n",
    "                 )\n",
    "\n",
    "# Preparing smoothed data for overplotting\n",
    "data_back_up = dmtau.data\n",
    "time_back_up = dmtau.time\n",
    "dmtau.data   = dmtau.data_plot\n",
    "smoothed_data = dmtau.boxcar_smooth(boxsize=0.1)\n",
    "dmtau.plotdata(source_name + 'bestphasefold.pdf', \n",
    "               label='Phase-folded',\n",
    "               oplot_data_list = [(dmtau.time_plot, smoothed_data, (1,0.5,0,1), '-')]\n",
    "              )"
   ]
  },
  {
   "cell_type": "markdown",
   "metadata": {},
   "source": [
    "# Comparing Keplerian-K2 data and the VRI monitoring taken in 2019"
   ]
  },
  {
   "cell_type": "code",
   "execution_count": null,
   "metadata": {},
   "outputs": [],
   "source": [
    "# time offset of Kepler-K2 data\n",
    "K2toff = 2454833.0  # days\n",
    "\n",
    "# read DM Tau data\n",
    "source_name = 'dmtau_'\n",
    "\n",
    "# Load data and plot a preview\n",
    "dmtau = lightcurve(filename = '../DATA/K2/DM-Tau_1.csv',\n",
    "                      time_col_label='TIME',\n",
    "                      data_col_label='PDCSAP_FLUX',\n",
    "                      plot_preview=False,\n",
    "                      previewfig_name=source_name + 'input.pdf',\n",
    "                      verbose=True\n",
    "                     )\n",
    "\n",
    "mean = np.mean(dmtau.data)\n",
    "dmtau.data = dmtau.data / mean\n",
    "\n",
    "dmtau.period = 7.364\n",
    "# interpolating data on regular time grid (following Cody+14 to use 6 mins grid)\n",
    "time_grid = np.arange(dmtau.mintime, dmtau.maxtime, 6.0 * (1.0/(24.0*60.0) ))\n",
    "dmtau.interpolate(time_grid = time_grid,\n",
    "                     plot_preview=False,\n",
    "                     previewfig_name=source_name + 'interpolate.pdf'\n",
    "                    )\n",
    "dmtau.data_plot = dmtau.data\n",
    "dmtau.time_plot = dmtau.time\n",
    "K2_time_min     = np.min(dmtau.time) + K2toff\n",
    "K2_zerotime_remainder = np.min(dmtau.time) % dmtau.period\n",
    "\n",
    "# subtracting 10-days smoothed data\n",
    "smoothed_data = dmtau.boxcar_smooth(boxsize=10.0)\n",
    "dmtau.data_plot = dmtau.data - smoothed_data\n",
    "\n",
    "dmtau.phase_fold(plot_preview=False)\n",
    "\n",
    "# perform boxcar smoothing\n",
    "dmtau.time = dmtau.time_plot\n",
    "dmtau.data = dmtau.data_plot\n",
    "dmtau.data_plot = dmtau.boxcar_smooth(boxsize=0.2)\n",
    "\n",
    "K2_fold_time = dmtau.time_plot[::200] \n",
    "K2_fold_data = dmtau.data_plot[::200]\n",
    "K2_fold_data[0] = K2_fold_data[1]  # to avoid edge effect"
   ]
  },
  {
   "cell_type": "code",
   "execution_count": null,
   "metadata": {},
   "outputs": [],
   "source": [
    "date_zero = 2458000.0\n",
    "date_range_dict = {}\n",
    "date_range_dict['early2019'] = (485, 535)\n",
    "date_range_dict['late2019']  = (722, 772)\n",
    "\n",
    "\n",
    "# read the VRI photometric data\n",
    "# get header\n",
    "photometry_file = './photometry.txt'\n",
    "F_photometry = open(photometry_file, 'r')\n",
    "header_list = F_photometry.readline().split()\n",
    "F_photometry.close()\n",
    "\n",
    "\n",
    "for epoch_label in ['early2019','late2019']:\n",
    "    \n",
    "    # Initializing figure\n",
    "    fig = plt.figure(figsize=[10,7])\n",
    "    ax  = fig.add_axes([0.12,0.1,0.87,0.85])\n",
    "    \n",
    "    # obtain the date range for plotting\n",
    "    JD_col   = header_list.index('JD') - 1\n",
    "    JD  = np.loadtxt(photometry_file, comments='#', skiprows=0, usecols=JD_col )\n",
    "    min_JD = np.min(JD)\n",
    "    max_JD = np.max(JD)    \n",
    "\n",
    "    mag_bias_dict = {}\n",
    "    mag_bias_dict['V'] = 0.1\n",
    "    mag_bias_dict['R'] = 0.65\n",
    "    mag_bias_dict['I'] = +0.0\n",
    "\n",
    "    # Overplotting replicated K2 data\n",
    "    min_rep = round( (min_JD - K2_time_min) / dmtau.period ) - 1\n",
    "    max_rep = round( (max_JD - K2_time_min) / dmtau.period ) + 1\n",
    "    \n",
    "        \n",
    "    for i in range(int(min_rep), int(max_rep), 1):\n",
    "        K2_plot_time = float(i) * dmtau.period + K2_time_min + K2_fold_time - K2_zerotime_remainder\n",
    "        ax.plot(K2_plot_time - date_zero, 26.35-2.5*np.log10(K2_fold_data), '-', \n",
    "                markersize=1, linewidth=4, color=(0.65, 0.65, 0.65, 0.5))\n",
    "\n",
    "    for i in range(int(min_rep), int(max_rep), 1):\n",
    "        K2_plot_time = float(i) * dmtau.period + K2_time_min + K2_fold_time - K2_zerotime_remainder\n",
    "        ax.plot(K2_plot_time - date_zero, 25.67-2.5*np.log10(K2_fold_data), '-', \n",
    "                markersize=1, linewidth=4, color=(0.65, 0.65, 0.65, 0.5))        \n",
    "        \n",
    "    for i in range(int(min_rep), int(max_rep), 1):\n",
    "        K2_plot_time = float(i) * dmtau.period + K2_time_min + K2_fold_time - K2_zerotime_remainder\n",
    "        ax.plot(K2_plot_time - date_zero, 25.1-2.5*np.log10(K2_fold_data), '-', \n",
    "                markersize=1, linewidth=4, color=(0.65, 0.65, 0.65, 0.5))\n",
    "\n",
    "    # plotting monitoring data\n",
    "    for band in ['I','R','V']:\n",
    "        JD_col   = header_list.index('JD') - 1\n",
    "        mag_col    = header_list.index(band+'_band_magnitudes') - 1\n",
    "        magerr_col = header_list.index(band+'_band_magnitudes_Error') - 1\n",
    "\n",
    "        # Read data\n",
    "        JD  = np.loadtxt(photometry_file, comments='#', skiprows=0, usecols=JD_col )\n",
    "        mag    = np.loadtxt(photometry_file, comments='#', skiprows=0, usecols=mag_col )\n",
    "        magerr = np.loadtxt(photometry_file, comments='#', skiprows=0, usecols=magerr_col )\n",
    "\n",
    "        # clip zeros\n",
    "        JD  = JD[ mag > 0 ]\n",
    "        magerr = magerr[mag > 0 ]\n",
    "        mag = mag[ mag > 0 ]\n",
    "\n",
    "        mag    = mag + mag_bias_dict[band]\n",
    "\n",
    "        ax.errorbar(JD-date_zero, mag, yerr=magerr, fmt='o', markersize=10.0,\n",
    "                    linestyle='dotted',\n",
    "                    label=band+' mag +  '+str(mag_bias_dict[band]) )\n",
    "\n",
    "\n",
    "\n",
    "    plt.tick_params(labelsize=18)\n",
    "    plt.xlabel('JD - ' + str(round(date_zero)), fontsize=18)\n",
    "    plt.ylabel('Magnitudes', fontsize=18)\n",
    "    plt.xlim(date_range_dict[epoch_label])\n",
    "    plt.ylim(12.75, 15)\n",
    "\n",
    "    plt.legend(loc=2, fontsize=16)\n",
    "\n",
    "    plt.show()\n",
    "    plt.savefig('photometry_' + epoch_label + '.pdf')"
   ]
  },
  {
   "cell_type": "code",
   "execution_count": null,
   "metadata": {},
   "outputs": [],
   "source": []
  },
  {
   "cell_type": "code",
   "execution_count": null,
   "metadata": {},
   "outputs": [],
   "source": []
  }
 ],
 "metadata": {
  "kernelspec": {
   "display_name": "Python 3",
   "language": "python",
   "name": "python3"
  },
  "language_info": {
   "codemirror_mode": {
    "name": "ipython",
    "version": 3
   },
   "file_extension": ".py",
   "mimetype": "text/x-python",
   "name": "python",
   "nbconvert_exporter": "python",
   "pygments_lexer": "ipython3",
   "version": "3.7.5"
  }
 },
 "nbformat": 4,
 "nbformat_minor": 2
}
