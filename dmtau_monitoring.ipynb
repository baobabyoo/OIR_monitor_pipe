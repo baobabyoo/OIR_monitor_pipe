{
 "cells": [
  {
   "cell_type": "markdown",
   "metadata": {},
   "source": [
    "# Making Plots from Original images"
   ]
  },
  {
   "cell_type": "code",
   "execution_count": 1,
   "metadata": {},
   "outputs": [],
   "source": [
    "#### Conda environment\n",
    "# conda create --name terada2019 python=3.7\n",
    "# pip install --upgrade pip\n",
    "# pip install astropy scipy\n",
    "# pip install photutils\n",
    "# pip install jupyter matplotlib h5py aplpy pyregion PyAVM healpy"
   ]
  },
  {
   "cell_type": "code",
   "execution_count": 2,
   "metadata": {},
   "outputs": [],
   "source": [
    "import os\n",
    "import sys\n",
    "import time\n",
    "sys.path\n",
    "sys.path.append('./')\n",
    "\n",
    "import numpy as np\n",
    "from astropy.stats import mad_std\n",
    "\n",
    "from photutils import datasets\n",
    "from photutils import DAOStarFinder\n",
    "from photutils import aperture_photometry, CircularAperture\n",
    "\n",
    "import aplpy\n",
    "from astropy.io.fits import getdata\n",
    "from astropy import wcs\n",
    "from astropy.io import fits\n",
    "from astropy import units as u\n",
    "from astropy import constants as con\n",
    "from astropy.coordinates import SkyCoord\n",
    "from mpl_toolkits.axes_grid1.inset_locator import zoomed_inset_axes\n",
    "from mpl_toolkits.axes_grid1.inset_locator import mark_inset\n",
    "\n",
    "import matplotlib\n",
    "matplotlib.use('PDF')\n",
    "import matplotlib.pyplot as plt\n",
    "from matplotlib.colors import BoundaryNorm\n",
    "from matplotlib.ticker import MaxNLocator\n",
    "# %matplotlib inline"
   ]
  },
  {
   "cell_type": "markdown",
   "metadata": {},
   "source": [
    "#### Format of marker file:\n",
    "\n",
    "name, ra_h ra_m ra_s dec_d dec_m dec_s  R:0-1 G:0-1 B:0-1 alpha  size\n",
    "\n",
    "dm_tau  04 33 48.7335659850  +18 10 09.974471722  1 0.2 0.2 1.0 2.0"
   ]
  },
  {
   "cell_type": "code",
   "execution_count": 3,
   "metadata": {},
   "outputs": [
    {
     "name": "stdout",
     "output_type": "stream",
     "text": [
      "Will output photometry. Please define the output filename if not yet.\n",
      "INFO: Auto-setting vmin to  7.805e+02 [aplpy.core]\n",
      "INFO: Auto-setting vmax to  1.024e+03 [aplpy.core]\n",
      "3488473_V_009\n",
      "INFO: Auto-setting vmin to  1.753e+03 [aplpy.core]\n",
      "INFO: Auto-setting vmax to  2.897e+03 [aplpy.core]\n",
      "3488473_R_010\n",
      "INFO: Auto-setting vmin to  2.761e+01 [aplpy.core]\n",
      "INFO: Auto-setting vmax to  4.249e+02 [aplpy.core]\n",
      "3488473_V_066\n",
      "INFO: Auto-setting vmin to  2.490e+03 [aplpy.core]\n",
      "INFO: Auto-setting vmax to  3.603e+03 [aplpy.core]\n",
      "3488473_I_020\n",
      "INFO: Auto-setting vmin to  9.257e+02 [aplpy.core]\n",
      "INFO: Auto-setting vmax to  1.764e+03 [aplpy.core]\n",
      "3488473_R_040\n",
      "Error making photometry 3488473_R_040\n"
     ]
    },
    {
     "name": "stderr",
     "output_type": "stream",
     "text": [
      "WARNING: NoDetectionsWarning: Sources were found, but none pass the sharpness and roundness criteria. [photutils.detection.findstars]\n"
     ]
    },
    {
     "name": "stdout",
     "output_type": "stream",
     "text": [
      "INFO: Auto-setting vmin to  1.137e+03 [aplpy.core]\n",
      "INFO: Auto-setting vmax to  1.664e+03 [aplpy.core]\n",
      "3488473_I_077\n",
      "INFO: Auto-setting vmin to  2.597e+03 [aplpy.core]\n",
      "INFO: Auto-setting vmax to  3.782e+03 [aplpy.core]\n",
      "3488473_R_025\n",
      "INFO: Auto-setting vmin to  1.016e+03 [aplpy.core]\n",
      "INFO: Auto-setting vmax to  1.538e+03 [aplpy.core]\n",
      "3488473_I_005\n",
      "INFO: Auto-setting vmin to  1.360e+03 [aplpy.core]\n",
      "INFO: Auto-setting vmax to  2.142e+03 [aplpy.core]\n",
      "3488473_R_031\n",
      "INFO: Auto-setting vmin to  9.878e+02 [aplpy.core]\n",
      "INFO: Auto-setting vmax to  1.740e+03 [aplpy.core]\n",
      "3488473_R_064\n",
      "INFO: Auto-setting vmin to  1.197e+03 [aplpy.core]\n",
      "INFO: Auto-setting vmax to  2.056e+03 [aplpy.core]\n",
      "3488473_I_038\n",
      "INFO: Auto-setting vmin to  1.144e+03 [aplpy.core]\n",
      "INFO: Auto-setting vmax to  1.768e+03 [aplpy.core]\n",
      "3488473_I_032\n",
      "INFO: Auto-setting vmin to  9.684e+02 [aplpy.core]\n",
      "INFO: Auto-setting vmax to  1.653e+03 [aplpy.core]\n",
      "3488473_I_068\n",
      "INFO: Auto-setting vmin to  8.979e+02 [aplpy.core]\n",
      "INFO: Auto-setting vmax to  1.262e+03 [aplpy.core]\n",
      "3488473_I_056\n",
      "INFO: Auto-setting vmin to  1.018e+03 [aplpy.core]\n",
      "INFO: Auto-setting vmax to  1.709e+03 [aplpy.core]\n",
      "3488473_I_062\n",
      "INFO: Auto-setting vmin to  8.822e+02 [aplpy.core]\n",
      "INFO: Auto-setting vmax to  1.315e+03 [aplpy.core]\n",
      "3488473_R_046\n",
      "INFO: Auto-setting vmin to  1.026e+03 [aplpy.core]\n",
      "INFO: Auto-setting vmax to  1.807e+03 [aplpy.core]\n",
      "3488473_R_004\n",
      "INFO: Auto-setting vmin to  1.475e+03 [aplpy.core]\n",
      "INFO: Auto-setting vmax to  2.278e+03 [aplpy.core]\n",
      "3488473_I_029\n",
      "INFO: Auto-setting vmin to  3.555e+03 [aplpy.core]\n",
      "INFO: Auto-setting vmax to  5.051e+03 [aplpy.core]\n",
      "3488473_R_016\n",
      "INFO: Auto-setting vmin to  1.005e+03 [aplpy.core]\n",
      "INFO: Auto-setting vmax to  1.619e+03 [aplpy.core]\n",
      "3488473_R_070\n"
     ]
    },
    {
     "name": "stderr",
     "output_type": "stream",
     "text": [
      "/home/hyliu/.conda/envs/terada2019/lib/python3.7/site-packages/aplpy/core.py:249: RuntimeWarning: More than 20 figures have been opened. Figures created through the pyplot interface (`matplotlib.pyplot.figure`) are retained until explicitly closed and may consume too much memory. (To control this warning, see the rcParam `figure.max_open_warning`).\n",
      "  self._figure = plt.figure(**kwargs)\n"
     ]
    },
    {
     "name": "stdout",
     "output_type": "stream",
     "text": [
      "INFO: Auto-setting vmin to  1.023e+03 [aplpy.core]\n",
      "INFO: Auto-setting vmax to  1.640e+03 [aplpy.core]\n",
      "3488473_I_071\n"
     ]
    },
    {
     "name": "stderr",
     "output_type": "stream",
     "text": [
      "/home/hyliu/.conda/envs/terada2019/lib/python3.7/site-packages/aplpy/core.py:249: RuntimeWarning: More than 20 figures have been opened. Figures created through the pyplot interface (`matplotlib.pyplot.figure`) are retained until explicitly closed and may consume too much memory. (To control this warning, see the rcParam `figure.max_open_warning`).\n",
      "  self._figure = plt.figure(**kwargs)\n"
     ]
    },
    {
     "name": "stdout",
     "output_type": "stream",
     "text": [
      "INFO: Auto-setting vmin to  1.005e+03 [aplpy.core]\n",
      "INFO: Auto-setting vmax to  1.589e+03 [aplpy.core]\n",
      "3488473_R_001\n"
     ]
    },
    {
     "name": "stderr",
     "output_type": "stream",
     "text": [
      "/home/hyliu/.conda/envs/terada2019/lib/python3.7/site-packages/aplpy/core.py:249: RuntimeWarning: More than 20 figures have been opened. Figures created through the pyplot interface (`matplotlib.pyplot.figure`) are retained until explicitly closed and may consume too much memory. (To control this warning, see the rcParam `figure.max_open_warning`).\n",
      "  self._figure = plt.figure(**kwargs)\n"
     ]
    },
    {
     "name": "stdout",
     "output_type": "stream",
     "text": [
      "INFO: Auto-setting vmin to  2.467e+03 [aplpy.core]\n",
      "INFO: Auto-setting vmax to  3.375e+03 [aplpy.core]\n",
      "3488473_I_017\n"
     ]
    },
    {
     "name": "stderr",
     "output_type": "stream",
     "text": [
      "/home/hyliu/.conda/envs/terada2019/lib/python3.7/site-packages/aplpy/core.py:249: RuntimeWarning: More than 20 figures have been opened. Figures created through the pyplot interface (`matplotlib.pyplot.figure`) are retained until explicitly closed and may consume too much memory. (To control this warning, see the rcParam `figure.max_open_warning`).\n",
      "  self._figure = plt.figure(**kwargs)\n"
     ]
    },
    {
     "name": "stdout",
     "output_type": "stream",
     "text": [
      "INFO: Auto-setting vmin to  6.158e+02 [aplpy.core]\n",
      "INFO: Auto-setting vmax to  1.794e+03 [aplpy.core]\n",
      "3488473_V_045\n"
     ]
    },
    {
     "name": "stderr",
     "output_type": "stream",
     "text": [
      "/home/hyliu/.conda/envs/terada2019/lib/python3.7/site-packages/aplpy/core.py:249: RuntimeWarning: More than 20 figures have been opened. Figures created through the pyplot interface (`matplotlib.pyplot.figure`) are retained until explicitly closed and may consume too much memory. (To control this warning, see the rcParam `figure.max_open_warning`).\n",
      "  self._figure = plt.figure(**kwargs)\n"
     ]
    },
    {
     "name": "stdout",
     "output_type": "stream",
     "text": [
      "INFO: Auto-setting vmin to  5.736e+03 [aplpy.core]\n",
      "INFO: Auto-setting vmax to  8.183e+03 [aplpy.core]\n",
      "3488473_V_012\n"
     ]
    },
    {
     "name": "stderr",
     "output_type": "stream",
     "text": [
      "/home/hyliu/.conda/envs/terada2019/lib/python3.7/site-packages/aplpy/core.py:249: RuntimeWarning: More than 20 figures have been opened. Figures created through the pyplot interface (`matplotlib.pyplot.figure`) are retained until explicitly closed and may consume too much memory. (To control this warning, see the rcParam `figure.max_open_warning`).\n",
      "  self._figure = plt.figure(**kwargs)\n"
     ]
    },
    {
     "name": "stdout",
     "output_type": "stream",
     "text": [
      "INFO: Auto-setting vmin to -2.211e+01 [aplpy.core]\n",
      "INFO: Auto-setting vmax to  1.036e+02 [aplpy.core]\n",
      "3488473_V_048\n"
     ]
    },
    {
     "name": "stderr",
     "output_type": "stream",
     "text": [
      "/home/hyliu/.conda/envs/terada2019/lib/python3.7/site-packages/aplpy/core.py:249: RuntimeWarning: More than 20 figures have been opened. Figures created through the pyplot interface (`matplotlib.pyplot.figure`) are retained until explicitly closed and may consume too much memory. (To control this warning, see the rcParam `figure.max_open_warning`).\n",
      "  self._figure = plt.figure(**kwargs)\n"
     ]
    },
    {
     "name": "stdout",
     "output_type": "stream",
     "text": [
      "INFO: Auto-setting vmin to  2.285e+01 [aplpy.core]\n",
      "INFO: Auto-setting vmax to  5.221e+02 [aplpy.core]\n",
      "3488473_V_060\n"
     ]
    },
    {
     "name": "stderr",
     "output_type": "stream",
     "text": [
      "/home/hyliu/.conda/envs/terada2019/lib/python3.7/site-packages/aplpy/core.py:249: RuntimeWarning: More than 20 figures have been opened. Figures created through the pyplot interface (`matplotlib.pyplot.figure`) are retained until explicitly closed and may consume too much memory. (To control this warning, see the rcParam `figure.max_open_warning`).\n",
      "  self._figure = plt.figure(**kwargs)\n"
     ]
    },
    {
     "name": "stdout",
     "output_type": "stream",
     "text": [
      "INFO: Auto-setting vmin to  1.524e+03 [aplpy.core]\n",
      "INFO: Auto-setting vmax to  2.214e+03 [aplpy.core]\n",
      "3488473_I_011\n"
     ]
    },
    {
     "name": "stderr",
     "output_type": "stream",
     "text": [
      "/home/hyliu/.conda/envs/terada2019/lib/python3.7/site-packages/aplpy/core.py:249: RuntimeWarning: More than 20 figures have been opened. Figures created through the pyplot interface (`matplotlib.pyplot.figure`) are retained until explicitly closed and may consume too much memory. (To control this warning, see the rcParam `figure.max_open_warning`).\n",
      "  self._figure = plt.figure(**kwargs)\n"
     ]
    },
    {
     "name": "stdout",
     "output_type": "stream",
     "text": [
      "INFO: Auto-setting vmin to -2.318e+01 [aplpy.core]\n",
      "INFO: Auto-setting vmax to  9.822e+01 [aplpy.core]\n",
      "3488473_V_051\n",
      "Error, coordinate header of dm tau_3488473_I_047.fits does not exist.\n",
      "INFO: Auto-setting vmin to  1.018e+03 [aplpy.core]\n",
      "INFO: Auto-setting vmax to  1.942e+03 [aplpy.core]\n",
      "3488473_R_034\n"
     ]
    },
    {
     "name": "stderr",
     "output_type": "stream",
     "text": [
      "/home/hyliu/.conda/envs/terada2019/lib/python3.7/site-packages/aplpy/core.py:249: RuntimeWarning: More than 20 figures have been opened. Figures created through the pyplot interface (`matplotlib.pyplot.figure`) are retained until explicitly closed and may consume too much memory. (To control this warning, see the rcParam `figure.max_open_warning`).\n",
      "  self._figure = plt.figure(**kwargs)\n",
      "/home/hyliu/.conda/envs/terada2019/lib/python3.7/site-packages/aplpy/core.py:249: RuntimeWarning: More than 20 figures have been opened. Figures created through the pyplot interface (`matplotlib.pyplot.figure`) are retained until explicitly closed and may consume too much memory. (To control this warning, see the rcParam `figure.max_open_warning`).\n",
      "  self._figure = plt.figure(**kwargs)\n"
     ]
    },
    {
     "name": "stdout",
     "output_type": "stream",
     "text": [
      "INFO: Auto-setting vmin to  6.199e+01 [aplpy.core]\n",
      "INFO: Auto-setting vmax to  3.380e+02 [aplpy.core]\n",
      "3488473_V_072\n"
     ]
    },
    {
     "name": "stderr",
     "output_type": "stream",
     "text": [
      "/home/hyliu/.conda/envs/terada2019/lib/python3.7/site-packages/aplpy/core.py:249: RuntimeWarning: More than 20 figures have been opened. Figures created through the pyplot interface (`matplotlib.pyplot.figure`) are retained until explicitly closed and may consume too much memory. (To control this warning, see the rcParam `figure.max_open_warning`).\n",
      "  self._figure = plt.figure(**kwargs)\n"
     ]
    },
    {
     "name": "stdout",
     "output_type": "stream",
     "text": [
      "INFO: Auto-setting vmin to  2.371e+03 [aplpy.core]\n",
      "INFO: Auto-setting vmax to  2.769e+03 [aplpy.core]\n",
      "3488473_V_024\n"
     ]
    },
    {
     "name": "stderr",
     "output_type": "stream",
     "text": [
      "/home/hyliu/.conda/envs/terada2019/lib/python3.7/site-packages/aplpy/core.py:249: RuntimeWarning: More than 20 figures have been opened. Figures created through the pyplot interface (`matplotlib.pyplot.figure`) are retained until explicitly closed and may consume too much memory. (To control this warning, see the rcParam `figure.max_open_warning`).\n",
      "  self._figure = plt.figure(**kwargs)\n"
     ]
    },
    {
     "name": "stdout",
     "output_type": "stream",
     "text": [
      "INFO: Auto-setting vmin to  1.116e+03 [aplpy.core]\n",
      "INFO: Auto-setting vmax to  1.843e+03 [aplpy.core]\n",
      "3488473_V_075\n"
     ]
    },
    {
     "name": "stderr",
     "output_type": "stream",
     "text": [
      "/home/hyliu/.conda/envs/terada2019/lib/python3.7/site-packages/aplpy/core.py:249: RuntimeWarning: More than 20 figures have been opened. Figures created through the pyplot interface (`matplotlib.pyplot.figure`) are retained until explicitly closed and may consume too much memory. (To control this warning, see the rcParam `figure.max_open_warning`).\n",
      "  self._figure = plt.figure(**kwargs)\n"
     ]
    },
    {
     "name": "stdout",
     "output_type": "stream",
     "text": [
      "INFO: Auto-setting vmin to -2.120e+01 [aplpy.core]\n",
      "INFO: Auto-setting vmax to  2.872e+02 [aplpy.core]\n",
      "3488473_V_057\n"
     ]
    },
    {
     "name": "stderr",
     "output_type": "stream",
     "text": [
      "/home/hyliu/.conda/envs/terada2019/lib/python3.7/site-packages/aplpy/core.py:249: RuntimeWarning: More than 20 figures have been opened. Figures created through the pyplot interface (`matplotlib.pyplot.figure`) are retained until explicitly closed and may consume too much memory. (To control this warning, see the rcParam `figure.max_open_warning`).\n",
      "  self._figure = plt.figure(**kwargs)\n"
     ]
    },
    {
     "name": "stdout",
     "output_type": "stream",
     "text": [
      "INFO: Auto-setting vmin to  1.309e+03 [aplpy.core]\n",
      "INFO: Auto-setting vmax to  1.918e+03 [aplpy.core]\n",
      "3488473_R_007\n"
     ]
    },
    {
     "name": "stderr",
     "output_type": "stream",
     "text": [
      "/home/hyliu/.conda/envs/terada2019/lib/python3.7/site-packages/aplpy/core.py:249: RuntimeWarning: More than 20 figures have been opened. Figures created through the pyplot interface (`matplotlib.pyplot.figure`) are retained until explicitly closed and may consume too much memory. (To control this warning, see the rcParam `figure.max_open_warning`).\n",
      "  self._figure = plt.figure(**kwargs)\n"
     ]
    },
    {
     "name": "stdout",
     "output_type": "stream",
     "text": [
      "INFO: Auto-setting vmin to  1.632e+02 [aplpy.core]\n",
      "INFO: Auto-setting vmax to  3.204e+02 [aplpy.core]\n",
      "3488473_V_036\n"
     ]
    },
    {
     "name": "stderr",
     "output_type": "stream",
     "text": [
      "/home/hyliu/.conda/envs/terada2019/lib/python3.7/site-packages/aplpy/core.py:249: RuntimeWarning: More than 20 figures have been opened. Figures created through the pyplot interface (`matplotlib.pyplot.figure`) are retained until explicitly closed and may consume too much memory. (To control this warning, see the rcParam `figure.max_open_warning`).\n",
      "  self._figure = plt.figure(**kwargs)\n"
     ]
    },
    {
     "name": "stdout",
     "output_type": "stream",
     "text": [
      "INFO: Auto-setting vmin to  9.133e+02 [aplpy.core]\n",
      "INFO: Auto-setting vmax to  1.757e+03 [aplpy.core]\n",
      "3488473_R_043\n"
     ]
    },
    {
     "name": "stderr",
     "output_type": "stream",
     "text": [
      "/home/hyliu/.conda/envs/terada2019/lib/python3.7/site-packages/aplpy/core.py:249: RuntimeWarning: More than 20 figures have been opened. Figures created through the pyplot interface (`matplotlib.pyplot.figure`) are retained until explicitly closed and may consume too much memory. (To control this warning, see the rcParam `figure.max_open_warning`).\n",
      "  self._figure = plt.figure(**kwargs)\n"
     ]
    },
    {
     "name": "stdout",
     "output_type": "stream",
     "text": [
      "INFO: Auto-setting vmin to -3.312e+01 [aplpy.core]\n",
      "INFO: Auto-setting vmax to  3.374e+02 [aplpy.core]\n",
      "3488473_V_054\n"
     ]
    },
    {
     "name": "stderr",
     "output_type": "stream",
     "text": [
      "/home/hyliu/.conda/envs/terada2019/lib/python3.7/site-packages/aplpy/core.py:249: RuntimeWarning: More than 20 figures have been opened. Figures created through the pyplot interface (`matplotlib.pyplot.figure`) are retained until explicitly closed and may consume too much memory. (To control this warning, see the rcParam `figure.max_open_warning`).\n",
      "  self._figure = plt.figure(**kwargs)\n"
     ]
    },
    {
     "name": "stdout",
     "output_type": "stream",
     "text": [
      "INFO: Auto-setting vmin to  9.940e+02 [aplpy.core]\n",
      "INFO: Auto-setting vmax to  1.526e+03 [aplpy.core]\n",
      "3488473_I_074\n"
     ]
    },
    {
     "name": "stderr",
     "output_type": "stream",
     "text": [
      "/home/hyliu/.conda/envs/terada2019/lib/python3.7/site-packages/aplpy/core.py:249: RuntimeWarning: More than 20 figures have been opened. Figures created through the pyplot interface (`matplotlib.pyplot.figure`) are retained until explicitly closed and may consume too much memory. (To control this warning, see the rcParam `figure.max_open_warning`).\n",
      "  self._figure = plt.figure(**kwargs)\n"
     ]
    },
    {
     "name": "stdout",
     "output_type": "stream",
     "text": [
      "INFO: Auto-setting vmin to  7.725e+03 [aplpy.core]\n",
      "INFO: Auto-setting vmax to  1.091e+04 [aplpy.core]\n",
      "3488473_I_014\n"
     ]
    },
    {
     "name": "stderr",
     "output_type": "stream",
     "text": [
      "/home/hyliu/.conda/envs/terada2019/lib/python3.7/site-packages/aplpy/core.py:249: RuntimeWarning: More than 20 figures have been opened. Figures created through the pyplot interface (`matplotlib.pyplot.figure`) are retained until explicitly closed and may consume too much memory. (To control this warning, see the rcParam `figure.max_open_warning`).\n",
      "  self._figure = plt.figure(**kwargs)\n"
     ]
    },
    {
     "name": "stdout",
     "output_type": "stream",
     "text": [
      "INFO: Auto-setting vmin to  2.133e+01 [aplpy.core]\n",
      "INFO: Auto-setting vmax to  3.684e+02 [aplpy.core]\n",
      "3488473_V_063\n"
     ]
    },
    {
     "name": "stderr",
     "output_type": "stream",
     "text": [
      "/home/hyliu/.conda/envs/terada2019/lib/python3.7/site-packages/aplpy/core.py:249: RuntimeWarning: More than 20 figures have been opened. Figures created through the pyplot interface (`matplotlib.pyplot.figure`) are retained until explicitly closed and may consume too much memory. (To control this warning, see the rcParam `figure.max_open_warning`).\n",
      "  self._figure = plt.figure(**kwargs)\n"
     ]
    },
    {
     "name": "stdout",
     "output_type": "stream",
     "text": [
      "INFO: Auto-setting vmin to  8.949e+02 [aplpy.core]\n",
      "INFO: Auto-setting vmax to  1.356e+03 [aplpy.core]\n",
      "3488473_R_058\n"
     ]
    },
    {
     "name": "stderr",
     "output_type": "stream",
     "text": [
      "/home/hyliu/.conda/envs/terada2019/lib/python3.7/site-packages/aplpy/core.py:249: RuntimeWarning: More than 20 figures have been opened. Figures created through the pyplot interface (`matplotlib.pyplot.figure`) are retained until explicitly closed and may consume too much memory. (To control this warning, see the rcParam `figure.max_open_warning`).\n",
      "  self._figure = plt.figure(**kwargs)\n"
     ]
    },
    {
     "name": "stdout",
     "output_type": "stream",
     "text": [
      "INFO: Auto-setting vmin to  2.096e+01 [aplpy.core]\n",
      "INFO: Auto-setting vmax to  2.033e+02 [aplpy.core]\n",
      "3488473_V_039\n"
     ]
    },
    {
     "name": "stderr",
     "output_type": "stream",
     "text": [
      "/home/hyliu/.conda/envs/terada2019/lib/python3.7/site-packages/aplpy/core.py:249: RuntimeWarning: More than 20 figures have been opened. Figures created through the pyplot interface (`matplotlib.pyplot.figure`) are retained until explicitly closed and may consume too much memory. (To control this warning, see the rcParam `figure.max_open_warning`).\n",
      "  self._figure = plt.figure(**kwargs)\n"
     ]
    },
    {
     "name": "stdout",
     "output_type": "stream",
     "text": [
      "INFO: Auto-setting vmin to  1.136e+03 [aplpy.core]\n",
      "INFO: Auto-setting vmax to  1.993e+03 [aplpy.core]\n",
      "3488473_I_008\n"
     ]
    },
    {
     "name": "stderr",
     "output_type": "stream",
     "text": [
      "/home/hyliu/.conda/envs/terada2019/lib/python3.7/site-packages/aplpy/core.py:249: RuntimeWarning: More than 20 figures have been opened. Figures created through the pyplot interface (`matplotlib.pyplot.figure`) are retained until explicitly closed and may consume too much memory. (To control this warning, see the rcParam `figure.max_open_warning`).\n",
      "  self._figure = plt.figure(**kwargs)\n"
     ]
    },
    {
     "name": "stdout",
     "output_type": "stream",
     "text": [
      "INFO: Auto-setting vmin to  1.749e+03 [aplpy.core]\n",
      "INFO: Auto-setting vmax to  2.640e+03 [aplpy.core]\n",
      "3488473_I_026\n"
     ]
    },
    {
     "name": "stderr",
     "output_type": "stream",
     "text": [
      "/home/hyliu/.conda/envs/terada2019/lib/python3.7/site-packages/aplpy/core.py:249: RuntimeWarning: More than 20 figures have been opened. Figures created through the pyplot interface (`matplotlib.pyplot.figure`) are retained until explicitly closed and may consume too much memory. (To control this warning, see the rcParam `figure.max_open_warning`).\n",
      "  self._figure = plt.figure(**kwargs)\n"
     ]
    },
    {
     "name": "stdout",
     "output_type": "stream",
     "text": [
      "INFO: Auto-setting vmin to  3.617e+03 [aplpy.core]\n",
      "INFO: Auto-setting vmax to  4.824e+03 [aplpy.core]\n",
      "3488473_R_019\n"
     ]
    },
    {
     "name": "stderr",
     "output_type": "stream",
     "text": [
      "/home/hyliu/.conda/envs/terada2019/lib/python3.7/site-packages/aplpy/core.py:249: RuntimeWarning: More than 20 figures have been opened. Figures created through the pyplot interface (`matplotlib.pyplot.figure`) are retained until explicitly closed and may consume too much memory. (To control this warning, see the rcParam `figure.max_open_warning`).\n",
      "  self._figure = plt.figure(**kwargs)\n"
     ]
    },
    {
     "name": "stdout",
     "output_type": "stream",
     "text": [
      "INFO: Auto-setting vmin to  2.904e+03 [aplpy.core]\n",
      "INFO: Auto-setting vmax to  3.924e+03 [aplpy.core]\n",
      "3488473_R_022\n"
     ]
    },
    {
     "name": "stderr",
     "output_type": "stream",
     "text": [
      "/home/hyliu/.conda/envs/terada2019/lib/python3.7/site-packages/aplpy/core.py:249: RuntimeWarning: More than 20 figures have been opened. Figures created through the pyplot interface (`matplotlib.pyplot.figure`) are retained until explicitly closed and may consume too much memory. (To control this warning, see the rcParam `figure.max_open_warning`).\n",
      "  self._figure = plt.figure(**kwargs)\n"
     ]
    },
    {
     "name": "stdout",
     "output_type": "stream",
     "text": [
      "INFO: Auto-setting vmin to  9.613e+02 [aplpy.core]\n",
      "INFO: Auto-setting vmax to  1.744e+03 [aplpy.core]\n",
      "3488473_R_067\n"
     ]
    },
    {
     "name": "stderr",
     "output_type": "stream",
     "text": [
      "/home/hyliu/.conda/envs/terada2019/lib/python3.7/site-packages/aplpy/core.py:249: RuntimeWarning: More than 20 figures have been opened. Figures created through the pyplot interface (`matplotlib.pyplot.figure`) are retained until explicitly closed and may consume too much memory. (To control this warning, see the rcParam `figure.max_open_warning`).\n",
      "  self._figure = plt.figure(**kwargs)\n"
     ]
    },
    {
     "name": "stdout",
     "output_type": "stream",
     "text": [
      "INFO: Auto-setting vmin to  2.483e+03 [aplpy.core]\n",
      "INFO: Auto-setting vmax to  2.928e+03 [aplpy.core]\n",
      "3488473_V_018\n"
     ]
    },
    {
     "name": "stderr",
     "output_type": "stream",
     "text": [
      "/home/hyliu/.conda/envs/terada2019/lib/python3.7/site-packages/aplpy/core.py:249: RuntimeWarning: More than 20 figures have been opened. Figures created through the pyplot interface (`matplotlib.pyplot.figure`) are retained until explicitly closed and may consume too much memory. (To control this warning, see the rcParam `figure.max_open_warning`).\n",
      "  self._figure = plt.figure(**kwargs)\n"
     ]
    },
    {
     "name": "stdout",
     "output_type": "stream",
     "text": [
      "INFO: Auto-setting vmin to  1.014e+03 [aplpy.core]\n",
      "INFO: Auto-setting vmax to  1.613e+03 [aplpy.core]\n",
      "3488473_I_065\n"
     ]
    },
    {
     "name": "stderr",
     "output_type": "stream",
     "text": [
      "/home/hyliu/.conda/envs/terada2019/lib/python3.7/site-packages/aplpy/core.py:249: RuntimeWarning: More than 20 figures have been opened. Figures created through the pyplot interface (`matplotlib.pyplot.figure`) are retained until explicitly closed and may consume too much memory. (To control this warning, see the rcParam `figure.max_open_warning`).\n",
      "  self._figure = plt.figure(**kwargs)\n"
     ]
    },
    {
     "name": "stdout",
     "output_type": "stream",
     "text": [
      "INFO: Auto-setting vmin to  9.749e+01 [aplpy.core]\n",
      "INFO: Auto-setting vmax to  4.275e+02 [aplpy.core]\n",
      "3488473_V_033\n"
     ]
    },
    {
     "name": "stderr",
     "output_type": "stream",
     "text": [
      "/home/hyliu/.conda/envs/terada2019/lib/python3.7/site-packages/aplpy/core.py:249: RuntimeWarning: More than 20 figures have been opened. Figures created through the pyplot interface (`matplotlib.pyplot.figure`) are retained until explicitly closed and may consume too much memory. (To control this warning, see the rcParam `figure.max_open_warning`).\n",
      "  self._figure = plt.figure(**kwargs)\n"
     ]
    },
    {
     "name": "stdout",
     "output_type": "stream",
     "text": [
      "INFO: Auto-setting vmin to  1.001e+03 [aplpy.core]\n",
      "INFO: Auto-setting vmax to  1.615e+03 [aplpy.core]\n",
      "3488473_I_002\n"
     ]
    },
    {
     "name": "stderr",
     "output_type": "stream",
     "text": [
      "/home/hyliu/.conda/envs/terada2019/lib/python3.7/site-packages/aplpy/core.py:249: RuntimeWarning: More than 20 figures have been opened. Figures created through the pyplot interface (`matplotlib.pyplot.figure`) are retained until explicitly closed and may consume too much memory. (To control this warning, see the rcParam `figure.max_open_warning`).\n",
      "  self._figure = plt.figure(**kwargs)\n"
     ]
    },
    {
     "name": "stdout",
     "output_type": "stream",
     "text": [
      "INFO: Auto-setting vmin to  1.911e+03 [aplpy.core]\n",
      "INFO: Auto-setting vmax to  2.819e+03 [aplpy.core]\n",
      "3488473_R_028\n"
     ]
    },
    {
     "name": "stderr",
     "output_type": "stream",
     "text": [
      "/home/hyliu/.conda/envs/terada2019/lib/python3.7/site-packages/aplpy/core.py:249: RuntimeWarning: More than 20 figures have been opened. Figures created through the pyplot interface (`matplotlib.pyplot.figure`) are retained until explicitly closed and may consume too much memory. (To control this warning, see the rcParam `figure.max_open_warning`).\n",
      "  self._figure = plt.figure(**kwargs)\n"
     ]
    },
    {
     "name": "stdout",
     "output_type": "stream",
     "text": [
      "INFO: Auto-setting vmin to  8.775e+02 [aplpy.core]\n",
      "INFO: Auto-setting vmax to  1.295e+03 [aplpy.core]\n",
      "3488473_I_053\n"
     ]
    },
    {
     "name": "stderr",
     "output_type": "stream",
     "text": [
      "/home/hyliu/.conda/envs/terada2019/lib/python3.7/site-packages/aplpy/core.py:249: RuntimeWarning: More than 20 figures have been opened. Figures created through the pyplot interface (`matplotlib.pyplot.figure`) are retained until explicitly closed and may consume too much memory. (To control this warning, see the rcParam `figure.max_open_warning`).\n",
      "  self._figure = plt.figure(**kwargs)\n"
     ]
    },
    {
     "name": "stdout",
     "output_type": "stream",
     "text": [
      "INFO: Auto-setting vmin to  3.405e+02 [aplpy.core]\n",
      "INFO: Auto-setting vmax to  6.179e+02 [aplpy.core]\n",
      "3488473_V_006\n"
     ]
    },
    {
     "name": "stderr",
     "output_type": "stream",
     "text": [
      "/home/hyliu/.conda/envs/terada2019/lib/python3.7/site-packages/aplpy/core.py:249: RuntimeWarning: More than 20 figures have been opened. Figures created through the pyplot interface (`matplotlib.pyplot.figure`) are retained until explicitly closed and may consume too much memory. (To control this warning, see the rcParam `figure.max_open_warning`).\n",
      "  self._figure = plt.figure(**kwargs)\n"
     ]
    },
    {
     "name": "stdout",
     "output_type": "stream",
     "text": [
      "INFO: Auto-setting vmin to  9.476e+02 [aplpy.core]\n",
      "INFO: Auto-setting vmax to  2.066e+03 [aplpy.core]\n",
      "3488473_I_044\n"
     ]
    },
    {
     "name": "stderr",
     "output_type": "stream",
     "text": [
      "/home/hyliu/.conda/envs/terada2019/lib/python3.7/site-packages/aplpy/core.py:249: RuntimeWarning: More than 20 figures have been opened. Figures created through the pyplot interface (`matplotlib.pyplot.figure`) are retained until explicitly closed and may consume too much memory. (To control this warning, see the rcParam `figure.max_open_warning`).\n",
      "  self._figure = plt.figure(**kwargs)\n"
     ]
    },
    {
     "name": "stdout",
     "output_type": "stream",
     "text": [
      "INFO: Auto-setting vmin to  5.093e+02 [aplpy.core]\n",
      "INFO: Auto-setting vmax to  8.128e+02 [aplpy.core]\n",
      "3488473_V_030\n"
     ]
    },
    {
     "name": "stderr",
     "output_type": "stream",
     "text": [
      "/home/hyliu/.conda/envs/terada2019/lib/python3.7/site-packages/aplpy/core.py:249: RuntimeWarning: More than 20 figures have been opened. Figures created through the pyplot interface (`matplotlib.pyplot.figure`) are retained until explicitly closed and may consume too much memory. (To control this warning, see the rcParam `figure.max_open_warning`).\n",
      "  self._figure = plt.figure(**kwargs)\n"
     ]
    },
    {
     "name": "stdout",
     "output_type": "stream",
     "text": [
      "INFO: Auto-setting vmin to  8.757e+02 [aplpy.core]\n",
      "INFO: Auto-setting vmax to  1.315e+03 [aplpy.core]\n",
      "3488473_R_049\n"
     ]
    },
    {
     "name": "stderr",
     "output_type": "stream",
     "text": [
      "/home/hyliu/.conda/envs/terada2019/lib/python3.7/site-packages/aplpy/core.py:249: RuntimeWarning: More than 20 figures have been opened. Figures created through the pyplot interface (`matplotlib.pyplot.figure`) are retained until explicitly closed and may consume too much memory. (To control this warning, see the rcParam `figure.max_open_warning`).\n",
      "  self._figure = plt.figure(**kwargs)\n"
     ]
    },
    {
     "name": "stdout",
     "output_type": "stream",
     "text": [
      "INFO: Auto-setting vmin to  9.357e+01 [aplpy.core]\n",
      "INFO: Auto-setting vmax to  4.140e+02 [aplpy.core]\n",
      "3488473_V_003\n"
     ]
    },
    {
     "name": "stderr",
     "output_type": "stream",
     "text": [
      "/home/hyliu/.conda/envs/terada2019/lib/python3.7/site-packages/aplpy/core.py:249: RuntimeWarning: More than 20 figures have been opened. Figures created through the pyplot interface (`matplotlib.pyplot.figure`) are retained until explicitly closed and may consume too much memory. (To control this warning, see the rcParam `figure.max_open_warning`).\n",
      "  self._figure = plt.figure(**kwargs)\n"
     ]
    },
    {
     "name": "stdout",
     "output_type": "stream",
     "text": [
      "INFO: Auto-setting vmin to  6.711e+01 [aplpy.core]\n",
      "INFO: Auto-setting vmax to  2.759e+02 [aplpy.core]\n",
      "3488473_V_069\n"
     ]
    },
    {
     "name": "stderr",
     "output_type": "stream",
     "text": [
      "/home/hyliu/.conda/envs/terada2019/lib/python3.7/site-packages/aplpy/core.py:249: RuntimeWarning: More than 20 figures have been opened. Figures created through the pyplot interface (`matplotlib.pyplot.figure`) are retained until explicitly closed and may consume too much memory. (To control this warning, see the rcParam `figure.max_open_warning`).\n",
      "  self._figure = plt.figure(**kwargs)\n"
     ]
    },
    {
     "name": "stdout",
     "output_type": "stream",
     "text": [
      "INFO: Auto-setting vmin to  4.825e+01 [aplpy.core]\n",
      "INFO: Auto-setting vmax to  2.569e+02 [aplpy.core]\n",
      "3488473_V_000\n"
     ]
    },
    {
     "name": "stderr",
     "output_type": "stream",
     "text": [
      "/home/hyliu/.conda/envs/terada2019/lib/python3.7/site-packages/aplpy/core.py:249: RuntimeWarning: More than 20 figures have been opened. Figures created through the pyplot interface (`matplotlib.pyplot.figure`) are retained until explicitly closed and may consume too much memory. (To control this warning, see the rcParam `figure.max_open_warning`).\n",
      "  self._figure = plt.figure(**kwargs)\n"
     ]
    },
    {
     "name": "stdout",
     "output_type": "stream",
     "text": [
      "INFO: Auto-setting vmin to  1.087e+03 [aplpy.core]\n",
      "INFO: Auto-setting vmax to  1.804e+03 [aplpy.core]\n",
      "3488473_R_037\n"
     ]
    },
    {
     "name": "stderr",
     "output_type": "stream",
     "text": [
      "/home/hyliu/.conda/envs/terada2019/lib/python3.7/site-packages/aplpy/core.py:249: RuntimeWarning: More than 20 figures have been opened. Figures created through the pyplot interface (`matplotlib.pyplot.figure`) are retained until explicitly closed and may consume too much memory. (To control this warning, see the rcParam `figure.max_open_warning`).\n",
      "  self._figure = plt.figure(**kwargs)\n"
     ]
    },
    {
     "name": "stdout",
     "output_type": "stream",
     "text": [
      "INFO: Auto-setting vmin to  8.761e+02 [aplpy.core]\n",
      "INFO: Auto-setting vmax to  1.335e+03 [aplpy.core]\n",
      "3488473_R_052\n"
     ]
    },
    {
     "name": "stderr",
     "output_type": "stream",
     "text": [
      "/home/hyliu/.conda/envs/terada2019/lib/python3.7/site-packages/aplpy/core.py:249: RuntimeWarning: More than 20 figures have been opened. Figures created through the pyplot interface (`matplotlib.pyplot.figure`) are retained until explicitly closed and may consume too much memory. (To control this warning, see the rcParam `figure.max_open_warning`).\n",
      "  self._figure = plt.figure(**kwargs)\n"
     ]
    },
    {
     "name": "stdout",
     "output_type": "stream",
     "text": [
      "INFO: Auto-setting vmin to  1.012e+03 [aplpy.core]\n",
      "INFO: Auto-setting vmax to  1.531e+03 [aplpy.core]\n",
      "3488473_R_073\n"
     ]
    },
    {
     "name": "stderr",
     "output_type": "stream",
     "text": [
      "/home/hyliu/.conda/envs/terada2019/lib/python3.7/site-packages/aplpy/core.py:249: RuntimeWarning: More than 20 figures have been opened. Figures created through the pyplot interface (`matplotlib.pyplot.figure`) are retained until explicitly closed and may consume too much memory. (To control this warning, see the rcParam `figure.max_open_warning`).\n",
      "  self._figure = plt.figure(**kwargs)\n"
     ]
    },
    {
     "name": "stdout",
     "output_type": "stream",
     "text": [
      "INFO: Auto-setting vmin to  2.102e+03 [aplpy.core]\n",
      "INFO: Auto-setting vmax to  2.595e+03 [aplpy.core]\n",
      "3488473_V_021\n"
     ]
    },
    {
     "name": "stderr",
     "output_type": "stream",
     "text": [
      "/home/hyliu/.conda/envs/terada2019/lib/python3.7/site-packages/aplpy/core.py:249: RuntimeWarning: More than 20 figures have been opened. Figures created through the pyplot interface (`matplotlib.pyplot.figure`) are retained until explicitly closed and may consume too much memory. (To control this warning, see the rcParam `figure.max_open_warning`).\n",
      "  self._figure = plt.figure(**kwargs)\n"
     ]
    },
    {
     "name": "stdout",
     "output_type": "stream",
     "text": [
      "INFO: Auto-setting vmin to  1.142e+04 [aplpy.core]\n",
      "INFO: Auto-setting vmax to  1.292e+04 [aplpy.core]\n",
      "3488473_V_015\n"
     ]
    },
    {
     "name": "stderr",
     "output_type": "stream",
     "text": [
      "/home/hyliu/.conda/envs/terada2019/lib/python3.7/site-packages/aplpy/core.py:249: RuntimeWarning: More than 20 figures have been opened. Figures created through the pyplot interface (`matplotlib.pyplot.figure`) are retained until explicitly closed and may consume too much memory. (To control this warning, see the rcParam `figure.max_open_warning`).\n",
      "  self._figure = plt.figure(**kwargs)\n"
     ]
    },
    {
     "name": "stdout",
     "output_type": "stream",
     "text": [
      "INFO: Auto-setting vmin to  8.872e+02 [aplpy.core]\n",
      "INFO: Auto-setting vmax to  1.441e+03 [aplpy.core]\n",
      "3488473_I_059\n"
     ]
    },
    {
     "name": "stderr",
     "output_type": "stream",
     "text": [
      "/home/hyliu/.conda/envs/terada2019/lib/python3.7/site-packages/aplpy/core.py:249: RuntimeWarning: More than 20 figures have been opened. Figures created through the pyplot interface (`matplotlib.pyplot.figure`) are retained until explicitly closed and may consume too much memory. (To control this warning, see the rcParam `figure.max_open_warning`).\n",
      "  self._figure = plt.figure(**kwargs)\n"
     ]
    },
    {
     "name": "stdout",
     "output_type": "stream",
     "text": [
      "INFO: Auto-setting vmin to  8.993e+03 [aplpy.core]\n",
      "INFO: Auto-setting vmax to  1.388e+04 [aplpy.core]\n",
      "3488473_R_013\n"
     ]
    },
    {
     "name": "stderr",
     "output_type": "stream",
     "text": [
      "/home/hyliu/.conda/envs/terada2019/lib/python3.7/site-packages/aplpy/core.py:249: RuntimeWarning: More than 20 figures have been opened. Figures created through the pyplot interface (`matplotlib.pyplot.figure`) are retained until explicitly closed and may consume too much memory. (To control this warning, see the rcParam `figure.max_open_warning`).\n",
      "  self._figure = plt.figure(**kwargs)\n"
     ]
    },
    {
     "name": "stdout",
     "output_type": "stream",
     "text": [
      "INFO: Auto-setting vmin to  1.188e+03 [aplpy.core]\n",
      "INFO: Auto-setting vmax to  1.682e+03 [aplpy.core]\n",
      "3488473_R_076\n"
     ]
    },
    {
     "name": "stderr",
     "output_type": "stream",
     "text": [
      "/home/hyliu/.conda/envs/terada2019/lib/python3.7/site-packages/aplpy/core.py:249: RuntimeWarning: More than 20 figures have been opened. Figures created through the pyplot interface (`matplotlib.pyplot.figure`) are retained until explicitly closed and may consume too much memory. (To control this warning, see the rcParam `figure.max_open_warning`).\n",
      "  self._figure = plt.figure(**kwargs)\n"
     ]
    },
    {
     "name": "stdout",
     "output_type": "stream",
     "text": [
      "INFO: Auto-setting vmin to  9.722e+02 [aplpy.core]\n",
      "INFO: Auto-setting vmax to  1.817e+03 [aplpy.core]\n",
      "3488473_R_061\n"
     ]
    },
    {
     "name": "stderr",
     "output_type": "stream",
     "text": [
      "/home/hyliu/.conda/envs/terada2019/lib/python3.7/site-packages/aplpy/core.py:249: RuntimeWarning: More than 20 figures have been opened. Figures created through the pyplot interface (`matplotlib.pyplot.figure`) are retained until explicitly closed and may consume too much memory. (To control this warning, see the rcParam `figure.max_open_warning`).\n",
      "  self._figure = plt.figure(**kwargs)\n"
     ]
    },
    {
     "name": "stdout",
     "output_type": "stream",
     "text": [
      "INFO: Auto-setting vmin to  1.149e+03 [aplpy.core]\n",
      "INFO: Auto-setting vmax to  1.528e+03 [aplpy.core]\n",
      "3488473_V_027\n"
     ]
    },
    {
     "name": "stderr",
     "output_type": "stream",
     "text": [
      "/home/hyliu/.conda/envs/terada2019/lib/python3.7/site-packages/aplpy/core.py:249: RuntimeWarning: More than 20 figures have been opened. Figures created through the pyplot interface (`matplotlib.pyplot.figure`) are retained until explicitly closed and may consume too much memory. (To control this warning, see the rcParam `figure.max_open_warning`).\n",
      "  self._figure = plt.figure(**kwargs)\n"
     ]
    },
    {
     "name": "stdout",
     "output_type": "stream",
     "text": [
      "INFO: Auto-setting vmin to  8.702e+02 [aplpy.core]\n",
      "INFO: Auto-setting vmax to  1.376e+03 [aplpy.core]\n",
      "3488473_I_050\n"
     ]
    },
    {
     "name": "stderr",
     "output_type": "stream",
     "text": [
      "/home/hyliu/.conda/envs/terada2019/lib/python3.7/site-packages/aplpy/core.py:249: RuntimeWarning: More than 20 figures have been opened. Figures created through the pyplot interface (`matplotlib.pyplot.figure`) are retained until explicitly closed and may consume too much memory. (To control this warning, see the rcParam `figure.max_open_warning`).\n",
      "  self._figure = plt.figure(**kwargs)\n"
     ]
    },
    {
     "name": "stdout",
     "output_type": "stream",
     "text": [
      "INFO: Auto-setting vmin to  1.120e+03 [aplpy.core]\n",
      "INFO: Auto-setting vmax to  2.044e+03 [aplpy.core]\n",
      "3488473_I_035\n"
     ]
    },
    {
     "name": "stderr",
     "output_type": "stream",
     "text": [
      "/home/hyliu/.conda/envs/terada2019/lib/python3.7/site-packages/aplpy/core.py:249: RuntimeWarning: More than 20 figures have been opened. Figures created through the pyplot interface (`matplotlib.pyplot.figure`) are retained until explicitly closed and may consume too much memory. (To control this warning, see the rcParam `figure.max_open_warning`).\n",
      "  self._figure = plt.figure(**kwargs)\n"
     ]
    },
    {
     "name": "stdout",
     "output_type": "stream",
     "text": [
      "INFO: Auto-setting vmin to  8.822e+02 [aplpy.core]\n",
      "INFO: Auto-setting vmax to  1.449e+03 [aplpy.core]\n",
      "3488473_R_055\n"
     ]
    },
    {
     "name": "stderr",
     "output_type": "stream",
     "text": [
      "/home/hyliu/.conda/envs/terada2019/lib/python3.7/site-packages/aplpy/core.py:249: RuntimeWarning: More than 20 figures have been opened. Figures created through the pyplot interface (`matplotlib.pyplot.figure`) are retained until explicitly closed and may consume too much memory. (To control this warning, see the rcParam `figure.max_open_warning`).\n",
      "  self._figure = plt.figure(**kwargs)\n"
     ]
    },
    {
     "name": "stdout",
     "output_type": "stream",
     "text": [
      "INFO: Auto-setting vmin to  2.030e+03 [aplpy.core]\n",
      "INFO: Auto-setting vmax to  3.192e+03 [aplpy.core]\n",
      "3488473_I_023\n"
     ]
    },
    {
     "name": "stderr",
     "output_type": "stream",
     "text": [
      "/home/hyliu/.conda/envs/terada2019/lib/python3.7/site-packages/aplpy/core.py:249: RuntimeWarning: More than 20 figures have been opened. Figures created through the pyplot interface (`matplotlib.pyplot.figure`) are retained until explicitly closed and may consume too much memory. (To control this warning, see the rcParam `figure.max_open_warning`).\n",
      "  self._figure = plt.figure(**kwargs)\n",
      "WARNING: NoDetectionsWarning: Sources were found, but none pass the sharpness and roundness criteria. [photutils.detection.findstars]\n"
     ]
    },
    {
     "name": "stdout",
     "output_type": "stream",
     "text": [
      "INFO: Auto-setting vmin to  1.004e+03 [aplpy.core]\n",
      "INFO: Auto-setting vmax to  1.750e+03 [aplpy.core]\n",
      "3488473_I_041\n",
      "Error making photometry 3488473_I_041\n"
     ]
    },
    {
     "name": "stderr",
     "output_type": "stream",
     "text": [
      "/home/hyliu/.conda/envs/terada2019/lib/python3.7/site-packages/aplpy/core.py:249: RuntimeWarning: More than 20 figures have been opened. Figures created through the pyplot interface (`matplotlib.pyplot.figure`) are retained until explicitly closed and may consume too much memory. (To control this warning, see the rcParam `figure.max_open_warning`).\n",
      "  self._figure = plt.figure(**kwargs)\n"
     ]
    },
    {
     "name": "stdout",
     "output_type": "stream",
     "text": [
      "INFO: Auto-setting vmin to  3.574e+00 [aplpy.core]\n",
      "INFO: Auto-setting vmax to  1.912e+02 [aplpy.core]\n",
      "3488473_V_042\n"
     ]
    }
   ],
   "source": [
    "# Directory for input image\n",
    "data_path   = r\"../3488473-dm tau\"\n",
    "\n",
    "# Defining output directories\n",
    "output_path_dict = {}\n",
    "output_path_dict['R'] = './R_maps'\n",
    "output_path_dict['V'] = './V_maps'\n",
    "output_path_dict['I'] = './I_maps'\n",
    "\n",
    "# set if we want to do photometry for objects in the markers list\n",
    "dophotometry     = True\n",
    "aperature_r_pix  = 10.0 # pixels\n",
    "if (dophotometry == True):\n",
    "    print(\"Will output photometry. Please define the output filename if not yet.\")\n",
    "    photometry_file_dict = {}\n",
    "    photometry_file_dict['R'] = './R_phot.txt'\n",
    "    photometry_file_dict['V'] = './V_phot.txt'\n",
    "    photometry_file_dict['I'] = './I_phot.txt'\n",
    "    \n",
    "\n",
    "# Output ASCII list for FITS images which do not possess coordinate headers\n",
    "f = open(\"NO_COORD_HEADER_list.txt\",\"w\")    \n",
    "    \n",
    "markerfile = './markers.txt'\n",
    "    \n",
    "# Preparation ##############################################################\n",
    "for key in output_path_dict.keys():\n",
    "    os.system('rm -rf ' + output_path_dict[key] )\n",
    "    os.system('mkdir '  + output_path_dict[key] )\n",
    "    \n",
    "if (dophotometry == True):\n",
    "    for key in photometry_file_dict.keys():\n",
    "        os.system('rm -rf ' + photometry_file_dict[key] )\n",
    "        photo_file = open(photometry_file_dict[key],\"a+\")\n",
    "        photo_file.write(\"# Data  target_name  JD  Counts\")\n",
    "\n",
    "num_markers = 0\n",
    "try:\n",
    "    marker_label = np.loadtxt(markerfile, comments='#', skiprows=0, usecols=0, dtype=np.str)\n",
    "    rah, ram, ras = np.loadtxt(markerfile, comments='#', skiprows=0, usecols=(1,2,3) )\n",
    "    decd, decm, decs = np.loadtxt(markerfile, comments='#', skiprows=0, usecols=(4,5,6) )\n",
    "    markerR, markerG, markerB = np.loadtxt(markerfile, comments='#', skiprows=0, usecols=(7,8,9) )\n",
    "    marker_alpha = np.loadtxt(markerfile, comments='#', skiprows=0, usecols=10)\n",
    "    marker_size  = np.loadtxt(markerfile, comments='#', skiprows=0, usecols=11)\n",
    "    \n",
    "    ra  = ( rah + ram / 60.0 + ras / 3600.0 ) * 15.0\n",
    "    if (decd > 0 ):\n",
    "        dec = decd + decm / 60.0 + decs / 3600.0\n",
    "    else:\n",
    "        dec = decd - decm / 60.0 - decs / 3600.0\n",
    "    num_markers = np.size(ra)\n",
    "    \n",
    "except:\n",
    "    print('No markers found')\n",
    "    \n",
    "images     = os.listdir( data_path )\n",
    "num_images = len(images)\n",
    "############################################################################\n",
    "    \n",
    "\n",
    "for i in range(0, num_images):\n",
    "    image_name = images[i]\n",
    "    \n",
    "    info = image_name.strip('.fits').split('_')\n",
    "    target_name    = info[0]\n",
    "    directory_name = info[1]\n",
    "    band           = info[2]\n",
    "    epoch_idx      = info[3]\n",
    "    \n",
    "    # open FITS image\n",
    "    hdulist = fits.open(data_path + '/' + image_name)\n",
    "    try:\n",
    "        crval1 = hdulist[0].header['crval1']\n",
    "        crval2 = hdulist[0].header['crval2']\n",
    "        date   = hdulist[0].header['date-obs']\n",
    "        jd     = hdulist[0].header['jd']\n",
    "    except:\n",
    "        print('Error, coordinate header of ' + image_name + ' does not exist.')\n",
    "        f.write( image_name + '\\n' )\n",
    "        continue\n",
    "\n",
    "    # loading image\n",
    "    if (dophotometry == True):\n",
    "        try:\n",
    "            image = hdulist[0].data\n",
    "            w = wcs.WCS(hdulist[0].header)\n",
    "        except:\n",
    "            print(\"Error loading image \" + directory_name + '_' + band + '_' + epoch_idx)\n",
    "        \n",
    "    \n",
    "    fig = aplpy.FITSFigure(data_path + '/' + image_name)\n",
    "    #fig.set_xaxis_coord_type('longitude')\n",
    "    #fig.set_yaxis_coord_type('latitude')\n",
    "    fig.axis_labels.hide()\n",
    "    fig.show_grayscale(invert=False)\n",
    "    \n",
    "    # mark stars\n",
    "    for j in range(0, num_markers):\n",
    "        # plot markers in the png figure\n",
    "        if (num_markers==1):\n",
    "            x, y = ra, dec\n",
    "            pixcrd2 = w.wcs_world2pix([ [x,y] ], 0)\n",
    "            xpix = pixcrd2[0][0]\n",
    "            ypix = pixcrd2[0][1]\n",
    "            mcolor = (markerR, markerG, markerB)\n",
    "            malpha = marker_alpha\n",
    "            msize  = marker_size\n",
    "            mlabel = str(marker_label)\n",
    "        else:\n",
    "            x, y = ra[j], dec[j]\n",
    "            mcolor = (markerR[j], markerG[j], markerB[j])\n",
    "            malpha = marker_alpha[j]\n",
    "            msize = marker_size[j]\n",
    "            mlabel = str(marker_label[j])\n",
    "        \n",
    "        fig.show_markers(\n",
    "                         x, y, \n",
    "                         edgecolor=mcolor, \n",
    "                         # facecolor=facecolor[plot_id],\n",
    "                         marker='o', s=msize, \n",
    "                         alpha=malpha\n",
    "                        )\n",
    "        fig.add_label(x, y, '  ' + mlabel, \n",
    "                      color=mcolor, fontsize=12, horizontalalignment='left')\n",
    "        \n",
    "        # optionally, do aperture photometry\n",
    "        if (dophotometry == True):              \n",
    "            # making photometry\n",
    "            xpix_min = int(round(xpix - aperature_r_pix*3) )\n",
    "            xpix_max = int(round(xpix + aperature_r_pix*3) )\n",
    "            ypix_min = int(round(ypix - aperature_r_pix*3) )\n",
    "            ypix_max = int(round(ypix + aperature_r_pix*3) )\n",
    "            try:\n",
    "                print(directory_name + '_' + band + '_' + epoch_idx)\n",
    "                crop = image[ypix_min:ypix_max, xpix_min:xpix_max].astype(float)\n",
    "                \n",
    "                # background subtraction\n",
    "                crop -= np.median(crop)\n",
    "                \n",
    "                # estimate pixel statistics\n",
    "                bkg_sigma = mad_std(crop)\n",
    "                \n",
    "                # find stars\n",
    "                daofind = DAOStarFinder(fwhm= aperature_r_pix/2.0, threshold=5.*bkg_sigma)\n",
    "                sources = daofind(crop)\n",
    "\n",
    "                \n",
    "                mxcentroid_array = np.array( sources['xcentroid'] )\n",
    "                mycentroid_array = np.array( sources['ycentroid'] )\n",
    "                mpeak_array      = np.array( sources['peak']      )\n",
    "                \n",
    "                if ( len(mpeak_array) > 0 ):\n",
    "                    # Very ugly code here due to unfamiliar with python.\n",
    "                    # need to update. Baobab, 2019.Dec.25\n",
    "                    index_array = range(0, len(mpeak_array) )\n",
    "                    xindex = np.max(np.where( mpeak_array == np.max(mpeak_array), index_array, -1))\n",
    "                    yindex = np.max(np.where( mpeak_array == np.max(mpeak_array), index_array, -1))\n",
    "                    mxcentroid = mxcentroid_array[xindex]\n",
    "                    mycentroid = mycentroid_array[yindex]\n",
    "                    positions = np.transpose((mxcentroid, mycentroid))\n",
    "                    apertures = CircularAperture(positions, aperature_r_pix)\n",
    "                    phot_table = aperture_photometry(crop, apertures)\n",
    "                    counts    = phot_table['aperture_sum'][0]\n",
    "\n",
    "                    try:\n",
    "                        photo_file = open(photometry_file_dict[band],\"a+\")\n",
    "                        outtext     = directory_name + '_' + band + '_' + epoch_idx + '  ' + \\\n",
    "                                      str(marker_label) + '   ' + \\\n",
    "                                      str(jd).strip() + '   ' + \\\n",
    "                                      str(counts) + '   \\n'\n",
    "                        photo_file.write(outtext)\n",
    "                        photo_file.close()\n",
    "                    except:\n",
    "                        print('Error opening output file. ' + directory_name + '_' + band + '_' + epoch_idx)\n",
    "                    \n",
    "                else:\n",
    "                    print(\"No source found in\" + directory_name + '_' + band + '_' + epoch_idx)\n",
    "                    \n",
    "                \n",
    "            except:\n",
    "                print(\"Error making photometry \" + directory_name + '_' + band + '_' + epoch_idx)\n",
    "                \n",
    "            \n",
    "        \n",
    "    # label date\n",
    "    date_label = 'Date : ' + date + '  JD : ' + str(jd).strip() + '   Band : ' + band  \n",
    "    fig.add_label(0.02, 0.95, date_label, relative=True, \n",
    "                  color=(0,1,1,1),\n",
    "                  fontsize=9, horizontalalignment='left')\n",
    "\n",
    "\n",
    "    \n",
    "    outfig_name = directory_name + '_' + band + '_' + epoch_idx + '.png'\n",
    "    \n",
    "    fig.save(outfig_name)    \n",
    "    os.system('mv ' + outfig_name + ' ' + output_path_dict[band] )\n",
    "    \n",
    "    # close FITS image\n",
    "    hdulist.close()\n",
    "    \n",
    "f.close()"
   ]
  },
  {
   "cell_type": "code",
   "execution_count": null,
   "metadata": {},
   "outputs": [],
   "source": []
  },
  {
   "cell_type": "code",
   "execution_count": null,
   "metadata": {},
   "outputs": [],
   "source": []
  },
  {
   "cell_type": "code",
   "execution_count": null,
   "metadata": {},
   "outputs": [],
   "source": []
  }
 ],
 "metadata": {
  "kernelspec": {
   "display_name": "Python 3",
   "language": "python",
   "name": "python3"
  },
  "language_info": {
   "codemirror_mode": {
    "name": "ipython",
    "version": 3
   },
   "file_extension": ".py",
   "mimetype": "text/x-python",
   "name": "python",
   "nbconvert_exporter": "python",
   "pygments_lexer": "ipython3",
   "version": "3.7.5"
  }
 },
 "nbformat": 4,
 "nbformat_minor": 2
}
